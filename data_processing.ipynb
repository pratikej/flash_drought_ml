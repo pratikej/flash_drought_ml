{
 "cells": [
  {
   "cell_type": "code",
   "execution_count": 1,
   "metadata": {},
   "outputs": [],
   "source": [
    "import os\n",
    "from PIL import Image\n",
    "import torch\n",
    "import torchvision.transforms.functional as tf\n",
    "from tqdm import tqdm"
   ]
  },
  {
   "cell_type": "code",
   "execution_count": 2,
   "metadata": {},
   "outputs": [],
   "source": [
    "base = \"data/\"\n",
    "input_folders = [\"rainfall/\", \"mean_temp/\", \"soil_moisture/\", \"runoff/\", \"vp/\", \"wind_speed/\"]\n",
    "output_folder = \"FD/\""
   ]
  },
  {
   "cell_type": "markdown",
   "metadata": {},
   "source": [
    "Input Processing"
   ]
  },
  {
   "cell_type": "code",
   "execution_count": 3,
   "metadata": {},
   "outputs": [],
   "source": [
    "input_files = []\n",
    "for input_folder in input_folders:\n",
    "    input_files.append(os.listdir(base + input_folder))\n",
    "\n",
    "num_files = len(input_files[0])"
   ]
  },
  {
   "cell_type": "code",
   "execution_count": 24,
   "metadata": {},
   "outputs": [],
   "source": [
    "feature_min = []\n",
    "feature_max = []\n",
    "feature_std = []\n",
    "\n",
    "for i in range(10):\n",
    "    for j in range(len(input_folders)):\n",
    "        file_path = base + input_folders[j] + input_files[j][i]\n",
    "\n",
    "        im = Image.open(file_path)\n",
    "        arr = tf.to_tensor(im)\n",
    "\n",
    "        if len(feature_min) < len(input_folders):\n",
    "            feature_min.append(arr[arr > -1e30].min())\n",
    "            feature_max.append(arr[arr > -1e30].max())\n",
    "            feature_std.append(arr[arr > -1e30].std())\n",
    "        else:\n",
    "            feature_min[j] = min(feature_min[j], arr[arr > -1e30].min())\n",
    "            feature_max[j] = max(feature_max[j], arr[arr > -1e30].max())\n",
    "            feature_std[j] = ((feature_std[j] * i) + arr[arr > -1e30].std()) / (i + 1)"
   ]
  },
  {
   "cell_type": "code",
   "execution_count": 25,
   "metadata": {},
   "outputs": [
    {
     "name": "stdout",
     "output_type": "stream",
     "text": [
      "[tensor(0.), tensor(6.0500), tensor(0.1572), tensor(2.8638e-14), tensor(3.3230), tensor(0.4958)]\n",
      "[tensor(235.), tensor(36.8000), tensor(241.7987), tensor(112.6599), tensor(36.6870), tensor(5.0300)]\n",
      "[tensor(6.1211), tensor(4.1530), tensor(61.3320), tensor(2.2251), tensor(5.3199), tensor(0.5112)]\n"
     ]
    }
   ],
   "source": [
    "print(feature_min)\n",
    "print(feature_max)\n",
    "print(feature_std)"
   ]
  },
  {
   "cell_type": "code",
   "execution_count": 26,
   "metadata": {},
   "outputs": [
    {
     "name": "stderr",
     "output_type": "stream",
     "text": [
      "100%|██████████| 8035/8035 [1:05:01<00:00,  2.06it/s]\n"
     ]
    }
   ],
   "source": [
    "input_files = []\n",
    "for input_folder in input_folders:\n",
    "    input_files.append(os.listdir(base + input_folder))\n",
    "\n",
    "num_files = len(input_files[0])\n",
    "\n",
    "for i in tqdm(range(num_files)):\n",
    "    input_feature = []\n",
    "    for j in range(len(input_folders)):\n",
    "        file_path = base + input_folders[j] + input_files[j][i]\n",
    "\n",
    "        im = Image.open(file_path)\n",
    "        arr = tf.to_tensor(im)\n",
    "        arr[arr < -1e30] = 0\n",
    "        arr = arr / feature_max[j]\n",
    "        input_feature.append(arr)\n",
    "    input_feature = torch.cat(input_feature)\n",
    "    torch.save(input_feature, base + \"input/\" + input_files[0][i][:-7] + \"pt\")"
   ]
  },
  {
   "cell_type": "code",
   "execution_count": 32,
   "metadata": {},
   "outputs": [
    {
     "name": "stdout",
     "output_type": "stream",
     "text": [
      "torch.Size([6, 676, 407])\n",
      "tensor(0.)\n",
      "tensor(0.9988)\n"
     ]
    }
   ],
   "source": [
    "input_files = os.listdir(base + \"input/\")\n",
    "inp = torch.load(base + \"input/\" + input_files[0])\n",
    "print(inp.shape)\n",
    "print(inp.min())\n",
    "print(inp.max())"
   ]
  },
  {
   "cell_type": "markdown",
   "metadata": {},
   "source": [
    "Output Processing"
   ]
  },
  {
   "cell_type": "code",
   "execution_count": 12,
   "metadata": {},
   "outputs": [],
   "source": [
    "output_files = os.listdir(base + output_folder)\n",
    "\n",
    "num_files = len(output_files)"
   ]
  },
  {
   "cell_type": "code",
   "execution_count": 13,
   "metadata": {},
   "outputs": [
    {
     "name": "stderr",
     "output_type": "stream",
     "text": [
      "100%|██████████| 7967/7967 [12:14<00:00, 10.85it/s]\n"
     ]
    }
   ],
   "source": [
    "for i in tqdm(range(num_files)):\n",
    "    file_path = base + output_folder + output_files[i]\n",
    "    im = Image.open(file_path)\n",
    "    arr = tf.to_tensor(im)\n",
    "    arr[arr <= 1] = False\n",
    "    arr[arr == 2] = True\n",
    "    torch.save(arr, base + \"output/\" + output_files[i][:-11] + \"pt\")"
   ]
  },
  {
   "cell_type": "code",
   "execution_count": 14,
   "metadata": {},
   "outputs": [
    {
     "name": "stdout",
     "output_type": "stream",
     "text": [
      "torch.Size([1, 676, 407]) torch.float32\n",
      "(tensor([0., 1.]), tensor([271682,   3450]))\n"
     ]
    }
   ],
   "source": [
    "output_files = os.listdir(base + \"output/\")\n",
    "out = torch.load(base + \"output/\" + output_files[0])\n",
    "print(out.shape, out.dtype)\n",
    "print(torch.unique(out, return_counts=True))"
   ]
  },
  {
   "cell_type": "code",
   "execution_count": 16,
   "metadata": {},
   "outputs": [],
   "source": [
    "input_folder = base + \"input/\"\n",
    "output_folder = base + \"output/\"\n",
    "input_files = os.listdir(input_folder)\n",
    "output_files = os.listdir(output_folder)\n",
    "for i in range(len(output_files)):\n",
    "    assert output_files[i] == input_files[i+68]"
   ]
  },
  {
   "cell_type": "code",
   "execution_count": null,
   "metadata": {},
   "outputs": [],
   "source": []
  }
 ],
 "metadata": {
  "kernelspec": {
   "display_name": "research",
   "language": "python",
   "name": "python3"
  },
  "language_info": {
   "codemirror_mode": {
    "name": "ipython",
    "version": 3
   },
   "file_extension": ".py",
   "mimetype": "text/x-python",
   "name": "python",
   "nbconvert_exporter": "python",
   "pygments_lexer": "ipython3",
   "version": "3.9.18"
  }
 },
 "nbformat": 4,
 "nbformat_minor": 2
}
