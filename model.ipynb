{
 "cells": [
  {
   "cell_type": "code",
   "execution_count": 1,
   "metadata": {
    "execution": {
     "iopub.execute_input": "2024-08-18T03:19:26.452653Z",
     "iopub.status.busy": "2024-08-18T03:19:26.451936Z",
     "iopub.status.idle": "2024-08-18T03:19:27.763614Z",
     "shell.execute_reply": "2024-08-18T03:19:27.762922Z",
     "shell.execute_reply.started": "2024-08-18T03:19:26.452607Z"
    },
    "tags": []
   },
   "outputs": [],
   "source": [
    "import os\n",
    "import torch\n",
    "from torch.utils.data import Dataset\n",
    "from torch.utils.data import DataLoader\n",
    "from tqdm import tqdm\n",
    "import torch.nn as nn\n",
    "import torch.optim as optim\n",
    "from PIL import Image\n",
    "import torchvision.transforms.functional as tf\n",
    "from torch.utils.tensorboard import SummaryWriter\n",
    "import datetime"
   ]
  },
  {
   "cell_type": "code",
   "execution_count": 2,
   "metadata": {
    "execution": {
     "iopub.execute_input": "2024-08-18T03:19:27.765211Z",
     "iopub.status.busy": "2024-08-18T03:19:27.764744Z",
     "iopub.status.idle": "2024-08-18T03:19:27.773512Z",
     "shell.execute_reply": "2024-08-18T03:19:27.772542Z",
     "shell.execute_reply.started": "2024-08-18T03:19:27.765185Z"
    },
    "tags": []
   },
   "outputs": [
    {
     "data": {
      "text/plain": [
       "<torch._C.Generator at 0x14cf392cbd90>"
      ]
     },
     "execution_count": 2,
     "metadata": {},
     "output_type": "execute_result"
    }
   ],
   "source": [
    "torch.manual_seed(2)"
   ]
  },
  {
   "cell_type": "code",
   "execution_count": 3,
   "metadata": {
    "execution": {
     "iopub.execute_input": "2024-08-18T03:19:27.775246Z",
     "iopub.status.busy": "2024-08-18T03:19:27.774708Z",
     "iopub.status.idle": "2024-08-18T03:19:27.782079Z",
     "shell.execute_reply": "2024-08-18T03:19:27.780775Z",
     "shell.execute_reply.started": "2024-08-18T03:19:27.775216Z"
    },
    "tags": []
   },
   "outputs": [],
   "source": [
    "# Number of Historical Days used as Input!\n",
    "num_days_history = 84"
   ]
  },
  {
   "cell_type": "code",
   "execution_count": 4,
   "metadata": {
    "execution": {
     "iopub.execute_input": "2024-08-18T03:19:29.084146Z",
     "iopub.status.busy": "2024-08-18T03:19:29.083204Z",
     "iopub.status.idle": "2024-08-18T03:19:29.088832Z",
     "shell.execute_reply": "2024-08-18T03:19:29.087722Z",
     "shell.execute_reply.started": "2024-08-18T03:19:29.084100Z"
    },
    "tags": []
   },
   "outputs": [],
   "source": [
    "base_folder = \"/scratch/w28/ad0033/FD/\" "
   ]
  },
  {
   "cell_type": "code",
   "execution_count": 5,
   "metadata": {
    "execution": {
     "iopub.execute_input": "2024-08-18T03:19:29.091955Z",
     "iopub.status.busy": "2024-08-18T03:19:29.090991Z",
     "iopub.status.idle": "2024-08-18T03:19:29.098484Z",
     "shell.execute_reply": "2024-08-18T03:19:29.097771Z",
     "shell.execute_reply.started": "2024-08-18T03:19:29.091911Z"
    },
    "tags": []
   },
   "outputs": [],
   "source": [
    "curr_dir = \"flash_drought_ml_retrain/\"\n",
    "curr_folder = base_folder + curr_dir"
   ]
  },
  {
   "cell_type": "code",
   "execution_count": 6,
   "metadata": {
    "execution": {
     "iopub.execute_input": "2024-08-18T03:19:29.099460Z",
     "iopub.status.busy": "2024-08-18T03:19:29.099263Z",
     "iopub.status.idle": "2024-08-18T03:19:29.280326Z",
     "shell.execute_reply": "2024-08-18T03:19:29.279011Z",
     "shell.execute_reply.started": "2024-08-18T03:19:29.099444Z"
    },
    "tags": []
   },
   "outputs": [
    {
     "name": "stdout",
     "output_type": "stream",
     "text": [
      "Device: cuda\n"
     ]
    }
   ],
   "source": [
    "device = torch.device(\"cuda\" if torch.cuda.is_available() else \"cpu\")\n",
    "print(\"Device:\", device)"
   ]
  },
  {
   "cell_type": "code",
   "execution_count": 7,
   "metadata": {
    "execution": {
     "iopub.execute_input": "2024-08-18T03:19:29.453997Z",
     "iopub.status.busy": "2024-08-18T03:19:29.453340Z",
     "iopub.status.idle": "2024-08-18T03:19:30.792390Z",
     "shell.execute_reply": "2024-08-18T03:19:30.791628Z",
     "shell.execute_reply.started": "2024-08-18T03:19:29.453951Z"
    },
    "tags": []
   },
   "outputs": [
    {
     "name": "stdout",
     "output_type": "stream",
     "text": [
      "Number of valid points:, 152,661\n"
     ]
    }
   ],
   "source": [
    "# Building mask to remove invalid areas\n",
    "file_path = base_folder + \"flash_drought_ml/data/FD/\" + os.listdir(base_folder + \"flash_drought_ml/data/FD/\")[0]\n",
    "im = Image.open(file_path)\n",
    "mask = tf.to_tensor(im)\n",
    "mask[mask >= 0] = True\n",
    "mask[mask < 0] = False\n",
    "mask = mask.bool().to(device)\n",
    "print(f\"Number of valid points:, {torch.sum(mask):,}\")"
   ]
  },
  {
   "cell_type": "code",
   "execution_count": 8,
   "metadata": {
    "execution": {
     "iopub.execute_input": "2024-08-18T03:19:30.794006Z",
     "iopub.status.busy": "2024-08-18T03:19:30.793749Z",
     "iopub.status.idle": "2024-08-18T03:19:30.799141Z",
     "shell.execute_reply": "2024-08-18T03:19:30.798142Z",
     "shell.execute_reply.started": "2024-08-18T03:19:30.793986Z"
    },
    "tags": []
   },
   "outputs": [],
   "source": [
    "image_shape = mask.shape"
   ]
  },
  {
   "cell_type": "code",
   "execution_count": 9,
   "metadata": {
    "execution": {
     "iopub.execute_input": "2024-08-18T03:19:30.801323Z",
     "iopub.status.busy": "2024-08-18T03:19:30.800825Z",
     "iopub.status.idle": "2024-08-18T03:19:30.818154Z",
     "shell.execute_reply": "2024-08-18T03:19:30.817317Z",
     "shell.execute_reply.started": "2024-08-18T03:19:30.801290Z"
    },
    "tags": []
   },
   "outputs": [],
   "source": [
    "class CustomDataset(Dataset):\n",
    "    def __init__(self, start_pt, num_pts):\n",
    "        self.start_pt = start_pt\n",
    "        self.num_pts = num_pts\n",
    "        self.factor = 2\n",
    "\n",
    "        base = base_folder + \"flash_drought_ml/data/\"\n",
    "        self.input_folder = base + \"input/\"\n",
    "        self.output_folder = base + \"output/\"\n",
    "        self.input_files = sorted(os.listdir(self.input_folder))\n",
    "        self.output_files = sorted(os.listdir(self.output_folder))\n",
    "        \n",
    "        months = torch.arange(12)\n",
    "        months_sin = torch.sin(2 * torch.pi * months / 12).unsqueeze(1).unsqueeze(2)\n",
    "        months_cos = torch.cos(2 * torch.pi * months / 12).unsqueeze(1).unsqueeze(2)\n",
    "        self.months_sin = months_sin.repeat(1, image_shape[1], image_shape[2])\n",
    "        self.months_cos = months_cos.repeat(1, image_shape[1], image_shape[2])\n",
    "        \n",
    "        y_axis = torch.arange(image_shape[1]).unsqueeze(0).unsqueeze(2).repeat(1, 1, image_shape[2]) / image_shape[1]\n",
    "        x_axis = torch.arange(image_shape[2]).unsqueeze(0).unsqueeze(1).repeat(1, image_shape[1], 1) / image_shape[2]\n",
    "        self.position = torch.cat([y_axis, x_axis], 0)\n",
    "\n",
    "        end_pt = start_pt + num_pts * self.factor\n",
    "\n",
    "        assert end_pt <= len(self.output_files), f\"{end_pt} > {len(self.output_files)}\"\n",
    "\n",
    "    def __len__(self):\n",
    "        return self.num_pts\n",
    "\n",
    "    def __getitem__(self, idx):\n",
    "        idx = idx * self.factor\n",
    "        output_file_name = self.output_files[self.start_pt + idx]\n",
    "        month = int(output_file_name[4:6])\n",
    "        input = []\n",
    "        for i in range(num_days_history):\n",
    "            # assert self.start_pt + idx + 67 - i >= 0\n",
    "            input.append(torch.load(self.input_folder + self.input_files[self.start_pt + idx + 67 - i]))\n",
    "        input.append(self.months_sin[month-1].unsqueeze(0))\n",
    "        input.append(self.months_cos[month-1].unsqueeze(0))\n",
    "        input.append(self.position)\n",
    "        input = torch.cat(input, 0)\n",
    "        output = torch.load(self.output_folder + output_file_name)\n",
    "        return input, output, output_file_name"
   ]
  },
  {
   "cell_type": "code",
   "execution_count": 10,
   "metadata": {
    "execution": {
     "iopub.execute_input": "2024-08-18T03:19:31.041977Z",
     "iopub.status.busy": "2024-08-18T03:19:31.041301Z",
     "iopub.status.idle": "2024-08-18T03:19:39.395421Z",
     "shell.execute_reply": "2024-08-18T03:19:39.394574Z",
     "shell.execute_reply.started": "2024-08-18T03:19:31.041932Z"
    },
    "tags": []
   },
   "outputs": [
    {
     "name": "stdout",
     "output_type": "stream",
     "text": [
      "Feature batch shape: torch.Size([2, 508, 676, 407])\n",
      "Labels batch shape: torch.Size([2, 1, 676, 407])\n",
      "('20010401.pt', '20010403.pt')\n"
     ]
    }
   ],
   "source": [
    "dataloader = DataLoader(CustomDataset(22, 913), batch_size=2, shuffle=False)\n",
    "train_features, train_labels, file_names = next(iter(dataloader))\n",
    "print(f\"Feature batch shape: {train_features.size()}\")\n",
    "print(f\"Labels batch shape: {train_labels.size()}\")\n",
    "print(file_names)"
   ]
  },
  {
   "cell_type": "markdown",
   "metadata": {},
   "source": [
    "Model"
   ]
  },
  {
   "cell_type": "code",
   "execution_count": 11,
   "metadata": {
    "execution": {
     "iopub.execute_input": "2024-08-18T03:19:39.396997Z",
     "iopub.status.busy": "2024-08-18T03:19:39.396638Z",
     "iopub.status.idle": "2024-08-18T03:19:39.404264Z",
     "shell.execute_reply": "2024-08-18T03:19:39.403431Z",
     "shell.execute_reply.started": "2024-08-18T03:19:39.396976Z"
    },
    "tags": []
   },
   "outputs": [],
   "source": [
    "class Net(nn.Module):\n",
    "    def __init__(self):\n",
    "        super().__init__()\n",
    "        convs = []\n",
    "        bns = []\n",
    "        dropouts = []\n",
    "        conv_chs = [6 * num_days_history + 4, 512, 256, 128, 64, 32, 16, 8]\n",
    "        for i in range(len(conv_chs) - 1):\n",
    "            convs.append(nn.Conv2d(conv_chs[i], conv_chs[i + 1], kernel_size=(3,3), padding=\"same\"))\n",
    "            bns.append(nn.BatchNorm2d(conv_chs[i + 1]))\n",
    "            dropouts.append(nn.Dropout2d(0.1))\n",
    "        self.convs = nn.ModuleList(convs)\n",
    "        self.bns = nn.ModuleList(bns)\n",
    "        self.dropouts = nn.ModuleList(dropouts)\n",
    "        self.act = nn.ReLU()\n",
    "        self.final_conv = nn.Conv2d(conv_chs[-1], 1, kernel_size=(3,3), padding=\"same\")\n",
    "        self.sigmoid = nn.Sigmoid()\n",
    "\n",
    "    def forward(self, x):\n",
    "        for conv, bn, dropout in zip(self.convs, self.bns, self.dropouts):\n",
    "            x = self.act(bn(conv(x)))\n",
    "            x = dropout(x)\n",
    "        x = self.sigmoid(self.final_conv(x))\n",
    "        return x"
   ]
  },
  {
   "cell_type": "code",
   "execution_count": 12,
   "metadata": {
    "execution": {
     "iopub.execute_input": "2024-08-18T03:19:39.405240Z",
     "iopub.status.busy": "2024-08-18T03:19:39.405038Z",
     "iopub.status.idle": "2024-08-18T03:19:39.454854Z",
     "shell.execute_reply": "2024-08-18T03:19:39.454029Z",
     "shell.execute_reply.started": "2024-08-18T03:19:39.405223Z"
    },
    "tags": []
   },
   "outputs": [],
   "source": [
    "BATCH_SIZE = 2\n",
    "train_dataloader = DataLoader(CustomDataset(22, 2694), batch_size=BATCH_SIZE, shuffle=True, num_workers=8)\n",
    "val_dataloader = DataLoader(CustomDataset(5410, 364), batch_size=BATCH_SIZE, shuffle=False, num_workers=8)\n",
    "test_dataloader = DataLoader(CustomDataset(6141, 912), batch_size=BATCH_SIZE, shuffle=False, num_workers=8)"
   ]
  },
  {
   "cell_type": "code",
   "execution_count": 13,
   "metadata": {
    "execution": {
     "iopub.execute_input": "2024-08-18T03:19:39.456517Z",
     "iopub.status.busy": "2024-08-18T03:19:39.456169Z",
     "iopub.status.idle": "2024-08-18T03:19:39.460374Z",
     "shell.execute_reply": "2024-08-18T03:19:39.459583Z",
     "shell.execute_reply.started": "2024-08-18T03:19:39.456497Z"
    },
    "tags": []
   },
   "outputs": [],
   "source": [
    "train_steps = len(train_dataloader.dataset) // BATCH_SIZE\n",
    "batch_mask = mask.repeat(BATCH_SIZE, 1, 1, 1)"
   ]
  },
  {
   "cell_type": "code",
   "execution_count": 14,
   "metadata": {
    "execution": {
     "iopub.execute_input": "2024-08-18T03:19:39.461605Z",
     "iopub.status.busy": "2024-08-18T03:19:39.461274Z",
     "iopub.status.idle": "2024-08-18T03:19:39.717402Z",
     "shell.execute_reply": "2024-08-18T03:19:39.716602Z",
     "shell.execute_reply.started": "2024-08-18T03:19:39.461588Z"
    },
    "tags": []
   },
   "outputs": [
    {
     "name": "stdout",
     "output_type": "stream",
     "text": [
      "Net(\n",
      "  (convs): ModuleList(\n",
      "    (0): Conv2d(508, 512, kernel_size=(3, 3), stride=(1, 1), padding=same)\n",
      "    (1): Conv2d(512, 256, kernel_size=(3, 3), stride=(1, 1), padding=same)\n",
      "    (2): Conv2d(256, 128, kernel_size=(3, 3), stride=(1, 1), padding=same)\n",
      "    (3): Conv2d(128, 64, kernel_size=(3, 3), stride=(1, 1), padding=same)\n",
      "    (4): Conv2d(64, 32, kernel_size=(3, 3), stride=(1, 1), padding=same)\n",
      "    (5): Conv2d(32, 16, kernel_size=(3, 3), stride=(1, 1), padding=same)\n",
      "    (6): Conv2d(16, 8, kernel_size=(3, 3), stride=(1, 1), padding=same)\n",
      "  )\n",
      "  (bns): ModuleList(\n",
      "    (0): BatchNorm2d(512, eps=1e-05, momentum=0.1, affine=True, track_running_stats=True)\n",
      "    (1): BatchNorm2d(256, eps=1e-05, momentum=0.1, affine=True, track_running_stats=True)\n",
      "    (2): BatchNorm2d(128, eps=1e-05, momentum=0.1, affine=True, track_running_stats=True)\n",
      "    (3): BatchNorm2d(64, eps=1e-05, momentum=0.1, affine=True, track_running_stats=True)\n",
      "    (4): BatchNorm2d(32, eps=1e-05, momentum=0.1, affine=True, track_running_stats=True)\n",
      "    (5): BatchNorm2d(16, eps=1e-05, momentum=0.1, affine=True, track_running_stats=True)\n",
      "    (6): BatchNorm2d(8, eps=1e-05, momentum=0.1, affine=True, track_running_stats=True)\n",
      "  )\n",
      "  (dropouts): ModuleList(\n",
      "    (0): Dropout2d(p=0.1, inplace=False)\n",
      "    (1): Dropout2d(p=0.1, inplace=False)\n",
      "    (2): Dropout2d(p=0.1, inplace=False)\n",
      "    (3): Dropout2d(p=0.1, inplace=False)\n",
      "    (4): Dropout2d(p=0.1, inplace=False)\n",
      "    (5): Dropout2d(p=0.1, inplace=False)\n",
      "    (6): Dropout2d(p=0.1, inplace=False)\n",
      "  )\n",
      "  (act): ReLU()\n",
      "  (final_conv): Conv2d(8, 1, kernel_size=(3, 3), stride=(1, 1), padding=same)\n",
      "  (sigmoid): Sigmoid()\n",
      ")\n"
     ]
    }
   ],
   "source": [
    "eps = 1e-8\n",
    "mask_sum = torch.sum(mask)\n",
    "class WeightedBCELoss(nn.Module):\n",
    "    def __init__(self, alpha=0.95):\n",
    "        super().__init__()\n",
    "        self.alpha = alpha\n",
    " \n",
    "    def forward(self, output, target):\n",
    "        output = torch.clamp(output, eps, 1. - eps)\n",
    "        pt = (target * output) + ((1 - target) * (1 - output))\n",
    "        BCE_loss = -torch.log(pt)\n",
    "        BCE_loss = BCE_loss * mask\n",
    "        alpha_t = (target * self.alpha) + ((1 - target) * (1 - self.alpha))\n",
    "        final_loss = alpha_t * BCE_loss\n",
    "        return torch.sum(final_loss) / mask_sum\n",
    "\n",
    "eps = 1e-8\n",
    "mask_sum = torch.sum(mask)\n",
    "class FocalLoss(nn.Module):\n",
    "    def __init__(self, alpha=0.99, gamma=2):\n",
    "        super().__init__()\n",
    "        self.alpha = alpha\n",
    "        self.gamma = gamma\n",
    " \n",
    "    def forward(self, output, target):\n",
    "        output = torch.clamp(output, eps, 1. - eps)\n",
    "        pt = (target * output) + ((1 - target) * (1 - output))\n",
    "        BCE_loss = -torch.log(pt)\n",
    "        pt = pt * mask\n",
    "        BCE_loss = BCE_loss * mask\n",
    "        alpha_t = (target * self.alpha) + ((1 - target) * (1 - self.alpha))\n",
    "        F_loss = alpha_t * ((1 - pt) ** self.gamma) * BCE_loss\n",
    "        return torch.sum(F_loss) / mask_sum\n",
    "\n",
    "\n",
    "\n",
    "model = Net().to(device)\n",
    "loss_fn = WeightedBCELoss()\n",
    "optimizer = optim.Adam(model.parameters(), lr=1e-4)\n",
    "\n",
    "print(model)"
   ]
  },
  {
   "cell_type": "code",
   "execution_count": 15,
   "metadata": {
    "execution": {
     "iopub.execute_input": "2024-08-18T03:19:40.321681Z",
     "iopub.status.busy": "2024-08-18T03:19:40.321012Z",
     "iopub.status.idle": "2024-08-18T03:19:40.336071Z",
     "shell.execute_reply": "2024-08-18T03:19:40.334759Z",
     "shell.execute_reply.started": "2024-08-18T03:19:40.321637Z"
    },
    "tags": []
   },
   "outputs": [],
   "source": [
    "def get_metrics(dataloader, threshold=0.5):\n",
    "    model.eval()\n",
    "\n",
    "    correct_num = 0\n",
    "    correct_denom = 0\n",
    "    recall_num = 0\n",
    "    recall_denom = 0\n",
    "    precision_num = 0\n",
    "    precision_denom = 0\n",
    "    with torch.no_grad():\n",
    "        for inputs, labels, _ in dataloader:\n",
    "            inputs, labels = inputs.to(device), labels.to(device)\n",
    "            \n",
    "            y_pred = model(inputs)\n",
    "            pred = y_pred > threshold\n",
    "\n",
    "            pred = pred[batch_mask]\n",
    "            labels = labels[batch_mask]\n",
    "            \n",
    "            correct_num += (pred == labels).float().sum().item()\n",
    "            correct_denom += labels.numel()\n",
    "            recall_num += (pred[labels > 0] == labels[labels > 0]).float().sum().item()\n",
    "            recall_denom += labels[labels > 0].numel()\n",
    "            precision_num += (pred[pred > 0] == labels[pred > 0]).float().sum().item()\n",
    "            precision_denom += labels[pred > 0].numel()\n",
    "        \n",
    "        correct = 0\n",
    "        if correct_denom > 0:\n",
    "            correct = correct_num / correct_denom\n",
    "        recall = 0\n",
    "        if recall_denom > 0:\n",
    "            recall = recall_num / recall_denom\n",
    "        precision = 0\n",
    "        if precision_denom > 0:\n",
    "            precision = precision_num / precision_denom\n",
    "        \n",
    "        torch.cuda.empty_cache()\n",
    "        \n",
    "        return correct, recall, precision"
   ]
  },
  {
   "cell_type": "code",
   "execution_count": 21,
   "metadata": {
    "execution": {
     "iopub.execute_input": "2024-08-10T16:38:17.982964Z",
     "iopub.status.busy": "2024-08-10T16:38:17.982347Z",
     "iopub.status.idle": "2024-08-10T16:38:22.480823Z",
     "shell.execute_reply": "2024-08-10T16:38:22.480088Z",
     "shell.execute_reply.started": "2024-08-10T16:38:17.982921Z"
    },
    "tags": []
   },
   "outputs": [
    {
     "name": "stderr",
     "output_type": "stream",
     "text": [
      "2024-08-11 02:38:18.012338: I tensorflow/core/platform/cpu_feature_guard.cc:193] This TensorFlow binary is optimized with oneAPI Deep Neural Network Library (oneDNN) to use the following CPU instructions in performance-critical operations:  AVX2 AVX512F AVX512_VNNI FMA\n",
      "To enable them in other operations, rebuild TensorFlow with the appropriate compiler flags.\n",
      "2024-08-11 02:38:18.519209: I tensorflow/core/util/port.cc:104] oneDNN custom operations are on. You may see slightly different numerical results due to floating-point round-off errors from different computation orders. To turn them off, set the environment variable `TF_ENABLE_ONEDNN_OPTS=0`.\n"
     ]
    },
    {
     "name": "stdout",
     "output_type": "stream",
     "text": [
      "/scratch/w28/ad0033/FD/logs/retrain20240811-023817\n"
     ]
    }
   ],
   "source": [
    "log_dir = base_folder + \"logs/retrain\" + datetime.datetime.now().strftime(\"%Y%m%d-%H%M%S\")\n",
    "writer = SummaryWriter(log_dir=log_dir)\n",
    "print(log_dir)"
   ]
  },
  {
   "cell_type": "code",
   "execution_count": null,
   "metadata": {
    "execution": {
     "iopub.execute_input": "2024-08-10T16:38:25.859928Z",
     "iopub.status.busy": "2024-08-10T16:38:25.859019Z"
    },
    "tags": []
   },
   "outputs": [
    {
     "name": "stderr",
     "output_type": "stream",
     "text": [
      "100%|██████████| 1347/1347 [21:03<00:00,  1.07it/s]\n"
     ]
    },
    {
     "name": "stdout",
     "output_type": "stream",
     "text": [
      "Epoch: 1, Loss: 0.0651\n",
      "[Training Metrics]   Accuracy: 84.8755, Recall: 54.4794, Precision: 7.4213\n",
      "[Validation Metrics] Accuracy: 78.5508, Recall: 83.0984, Precision: 7.0587\n",
      "Model Value: 0.13012175797639108\n",
      "Saving Model!\n"
     ]
    },
    {
     "name": "stderr",
     "output_type": "stream",
     "text": [
      "100%|██████████| 1347/1347 [20:50<00:00,  1.08it/s]\n"
     ]
    },
    {
     "name": "stdout",
     "output_type": "stream",
     "text": [
      "Epoch: 2, Loss: 0.0584\n",
      "[Training Metrics]   Accuracy: 86.4994, Recall: 61.1278, Precision: 9.0660\n",
      "[Validation Metrics] Accuracy: 87.6945, Recall: 76.5679, Precision: 11.0880\n",
      "Model Value: 0.19370928219936348\n",
      "Saving Model!\n"
     ]
    },
    {
     "name": "stderr",
     "output_type": "stream",
     "text": [
      "100%|██████████| 1347/1347 [21:06<00:00,  1.06it/s]\n"
     ]
    },
    {
     "name": "stdout",
     "output_type": "stream",
     "text": [
      "Epoch: 3, Loss: 0.0555\n",
      "[Training Metrics]   Accuracy: 86.8668, Recall: 63.2876, Precision: 9.8257\n",
      "[Validation Metrics] Accuracy: 87.1378, Recall: 72.2109, Precision: 10.1610\n",
      "Model Value: 0.17815179659388428\n"
     ]
    },
    {
     "name": "stderr",
     "output_type": "stream",
     "text": [
      "100%|██████████| 1347/1347 [20:51<00:00,  1.08it/s]\n"
     ]
    },
    {
     "name": "stdout",
     "output_type": "stream",
     "text": [
      "Epoch: 4, Loss: 0.0532\n",
      "[Training Metrics]   Accuracy: 87.8192, Recall: 63.9945, Precision: 10.5063\n",
      "[Validation Metrics] Accuracy: 63.5012, Recall: 89.5888, Precision: 4.5482\n",
      "Model Value: 0.08656881683107605\n"
     ]
    },
    {
     "name": "stderr",
     "output_type": "stream",
     "text": [
      "100%|██████████| 1347/1347 [20:55<00:00,  1.07it/s]\n"
     ]
    },
    {
     "name": "stdout",
     "output_type": "stream",
     "text": [
      "Epoch: 5, Loss: 0.0511\n",
      "[Training Metrics]   Accuracy: 88.3348, Recall: 64.7520, Precision: 11.2014\n",
      "[Validation Metrics] Accuracy: 90.5521, Recall: 69.8356, Precision: 13.1999\n",
      "Model Value: 0.2220310007057941\n",
      "Saving Model!\n"
     ]
    },
    {
     "name": "stderr",
     "output_type": "stream",
     "text": [
      "100%|██████████| 1347/1347 [21:16<00:00,  1.05it/s]\n"
     ]
    },
    {
     "name": "stdout",
     "output_type": "stream",
     "text": [
      "Epoch: 6, Loss: 0.0500\n",
      "[Training Metrics]   Accuracy: 88.2363, Recall: 65.7727, Precision: 11.2654\n",
      "[Validation Metrics] Accuracy: 83.0567, Recall: 83.3857, Precision: 8.8293\n",
      "Model Value: 0.1596790008377166\n"
     ]
    },
    {
     "name": "stderr",
     "output_type": "stream",
     "text": [
      "100%|██████████| 1347/1347 [20:54<00:00,  1.07it/s]\n"
     ]
    },
    {
     "name": "stdout",
     "output_type": "stream",
     "text": [
      "Epoch: 7, Loss: 0.0479\n",
      "[Training Metrics]   Accuracy: 89.1867, Recall: 64.5407, Precision: 11.8048\n",
      "[Validation Metrics] Accuracy: 91.6609, Recall: 65.2246, Precision: 14.1056\n",
      "Model Value: 0.23194954434841872\n",
      "Saving Model!\n"
     ]
    },
    {
     "name": "stderr",
     "output_type": "stream",
     "text": [
      "100%|██████████| 1347/1347 [20:59<00:00,  1.07it/s]\n"
     ]
    },
    {
     "name": "stdout",
     "output_type": "stream",
     "text": [
      "Epoch: 8, Loss: 0.0462\n",
      "[Training Metrics]   Accuracy: 89.4183, Recall: 65.6636, Precision: 12.1303\n",
      "[Validation Metrics] Accuracy: 91.9517, Recall: 68.6286, Precision: 15.1114\n",
      "Model Value: 0.24768936756671922\n",
      "Saving Model!\n"
     ]
    },
    {
     "name": "stderr",
     "output_type": "stream",
     "text": [
      "100%|██████████| 1347/1347 [21:07<00:00,  1.06it/s]\n"
     ]
    },
    {
     "name": "stdout",
     "output_type": "stream",
     "text": [
      "Epoch: 9, Loss: 0.0458\n",
      "[Training Metrics]   Accuracy: 89.6059, Recall: 66.3542, Precision: 12.1343\n",
      "[Validation Metrics] Accuracy: 85.1134, Recall: 82.3456, Precision: 9.8523\n",
      "Model Value: 0.17598970739570755\n"
     ]
    },
    {
     "name": "stderr",
     "output_type": "stream",
     "text": [
      "100%|██████████| 1347/1347 [20:49<00:00,  1.08it/s]\n"
     ]
    },
    {
     "name": "stdout",
     "output_type": "stream",
     "text": [
      "Epoch: 10, Loss: 0.0439\n",
      "[Training Metrics]   Accuracy: 89.8952, Recall: 66.9102, Precision: 12.7080\n",
      "[Validation Metrics] Accuracy: 95.3388, Recall: 58.8434, Precision: 22.7079\n",
      "Model Value: 0.3276979517125992\n",
      "Saving Model!\n"
     ]
    },
    {
     "name": "stderr",
     "output_type": "stream",
     "text": [
      "100%|██████████| 1347/1347 [20:45<00:00,  1.08it/s]\n"
     ]
    },
    {
     "name": "stdout",
     "output_type": "stream",
     "text": [
      "Epoch: 11, Loss: 0.0438\n",
      "[Training Metrics]   Accuracy: 89.9227, Recall: 67.0975, Precision: 12.7179\n",
      "[Validation Metrics] Accuracy: 92.5421, Recall: 67.8460, Precision: 16.0771\n",
      "Model Value: 0.2599446778799021\n"
     ]
    },
    {
     "name": "stderr",
     "output_type": "stream",
     "text": [
      "100%|██████████| 1347/1347 [20:48<00:00,  1.08it/s]\n"
     ]
    },
    {
     "name": "stdout",
     "output_type": "stream",
     "text": [
      "Epoch: 12, Loss: 0.0428\n",
      "[Training Metrics]   Accuracy: 90.3830, Recall: 67.2249, Precision: 13.2550\n",
      "[Validation Metrics] Accuracy: 94.0276, Recall: 66.0064, Precision: 19.3355\n",
      "Model Value: 0.2990948181188437\n"
     ]
    },
    {
     "name": "stderr",
     "output_type": "stream",
     "text": [
      "100%|██████████| 1347/1347 [20:51<00:00,  1.08it/s]\n"
     ]
    },
    {
     "name": "stdout",
     "output_type": "stream",
     "text": [
      "Epoch: 13, Loss: 0.0420\n",
      "[Training Metrics]   Accuracy: 90.3431, Recall: 68.2219, Precision: 13.1438\n",
      "[Validation Metrics] Accuracy: 94.0029, Recall: 61.0745, Precision: 18.3521\n",
      "Model Value: 0.2822341970099311\n"
     ]
    },
    {
     "name": "stderr",
     "output_type": "stream",
     "text": [
      "100%|██████████| 1347/1347 [20:54<00:00,  1.07it/s]\n"
     ]
    },
    {
     "name": "stdout",
     "output_type": "stream",
     "text": [
      "Epoch: 14, Loss: 0.0416\n",
      "[Training Metrics]   Accuracy: 90.3664, Recall: 68.7455, Precision: 13.3482\n",
      "[Validation Metrics] Accuracy: 85.0319, Recall: 86.8114, Precision: 10.2257\n",
      "Model Value: 0.1829628894719419\n"
     ]
    },
    {
     "name": "stderr",
     "output_type": "stream",
     "text": [
      "100%|██████████| 1347/1347 [20:45<00:00,  1.08it/s]\n"
     ]
    },
    {
     "name": "stdout",
     "output_type": "stream",
     "text": [
      "Epoch: 15, Loss: 0.0408\n",
      "[Training Metrics]   Accuracy: 90.6176, Recall: 68.9005, Precision: 13.4012\n",
      "[Validation Metrics] Accuracy: 92.8282, Recall: 70.6598, Precision: 17.1168\n",
      "Model Value: 0.27557872579440174\n"
     ]
    },
    {
     "name": "stderr",
     "output_type": "stream",
     "text": [
      "100%|██████████| 1347/1347 [20:48<00:00,  1.08it/s]\n"
     ]
    },
    {
     "name": "stdout",
     "output_type": "stream",
     "text": [
      "Epoch: 16, Loss: 0.0403\n",
      "[Training Metrics]   Accuracy: 90.7393, Recall: 69.5844, Precision: 13.5998\n",
      "[Validation Metrics] Accuracy: 86.2259, Recall: 83.1211, Precision: 10.6603\n",
      "Model Value: 0.188970684456717\n"
     ]
    },
    {
     "name": "stderr",
     "output_type": "stream",
     "text": [
      "100%|██████████| 1347/1347 [20:42<00:00,  1.08it/s]\n"
     ]
    },
    {
     "name": "stdout",
     "output_type": "stream",
     "text": [
      "Epoch: 17, Loss: 0.0395\n",
      "[Training Metrics]   Accuracy: 90.7034, Recall: 70.2849, Precision: 13.7068\n",
      "[Validation Metrics] Accuracy: 92.3274, Recall: 70.6922, Precision: 16.1098\n",
      "Model Value: 0.26239923491542616\n"
     ]
    },
    {
     "name": "stderr",
     "output_type": "stream",
     "text": [
      "100%|██████████| 1347/1347 [20:47<00:00,  1.08it/s]\n"
     ]
    },
    {
     "name": "stdout",
     "output_type": "stream",
     "text": [
      "Epoch: 18, Loss: 0.0389\n",
      "[Training Metrics]   Accuracy: 90.8568, Recall: 70.4980, Precision: 14.0214\n",
      "[Validation Metrics] Accuracy: 90.8820, Recall: 75.7661, Precision: 14.4637\n",
      "Model Value: 0.24290425630312307\n"
     ]
    },
    {
     "name": "stderr",
     "output_type": "stream",
     "text": [
      "100%|██████████| 1347/1347 [21:12<00:00,  1.06it/s]\n"
     ]
    },
    {
     "name": "stdout",
     "output_type": "stream",
     "text": [
      "Epoch: 19, Loss: 0.0384\n",
      "[Training Metrics]   Accuracy: 91.1176, Recall: 71.2061, Precision: 14.4249\n",
      "[Validation Metrics] Accuracy: 87.1615, Recall: 80.1755, Precision: 11.0531\n",
      "Model Value: 0.19427805123373668\n"
     ]
    },
    {
     "name": "stderr",
     "output_type": "stream",
     "text": [
      "100%|██████████| 1347/1347 [20:41<00:00,  1.09it/s]\n"
     ]
    },
    {
     "name": "stdout",
     "output_type": "stream",
     "text": [
      "Epoch: 20, Loss: 0.0381\n",
      "[Training Metrics]   Accuracy: 91.2064, Recall: 70.9545, Precision: 14.3391\n",
      "[Validation Metrics] Accuracy: 88.9839, Recall: 76.2858, Precision: 12.2412\n",
      "Model Value: 0.21096990613187938\n"
     ]
    },
    {
     "name": "stderr",
     "output_type": "stream",
     "text": [
      "100%|██████████| 1347/1347 [20:49<00:00,  1.08it/s]\n"
     ]
    },
    {
     "name": "stdout",
     "output_type": "stream",
     "text": [
      "Epoch: 21, Loss: 0.0372\n",
      "[Training Metrics]   Accuracy: 91.3489, Recall: 71.3898, Precision: 14.5334\n",
      "[Validation Metrics] Accuracy: 89.1524, Recall: 79.8211, Precision: 12.8426\n",
      "Model Value: 0.22125377448936762\n"
     ]
    },
    {
     "name": "stderr",
     "output_type": "stream",
     "text": [
      "100%|██████████| 1347/1347 [20:46<00:00,  1.08it/s]\n"
     ]
    },
    {
     "name": "stdout",
     "output_type": "stream",
     "text": [
      "Epoch: 22, Loss: 0.0370\n",
      "[Training Metrics]   Accuracy: 91.3476, Recall: 72.0548, Precision: 14.6950\n",
      "[Validation Metrics] Accuracy: 87.1966, Recall: 82.8657, Precision: 11.3681\n",
      "Model Value: 0.1999334502770225\n"
     ]
    },
    {
     "name": "stderr",
     "output_type": "stream",
     "text": [
      "100%|██████████| 1347/1347 [20:41<00:00,  1.09it/s]\n"
     ]
    },
    {
     "name": "stdout",
     "output_type": "stream",
     "text": [
      "Epoch: 23, Loss: 0.0371\n",
      "[Training Metrics]   Accuracy: 91.4046, Recall: 71.8824, Precision: 14.7883\n",
      "[Validation Metrics] Accuracy: 90.4329, Recall: 69.8768, Precision: 13.0534\n",
      "Model Value: 0.21997461093279294\n"
     ]
    },
    {
     "name": "stderr",
     "output_type": "stream",
     "text": [
      "100%|██████████| 1347/1347 [20:47<00:00,  1.08it/s]\n"
     ]
    },
    {
     "name": "stdout",
     "output_type": "stream",
     "text": [
      "Epoch: 24, Loss: 0.0369\n",
      "[Training Metrics]   Accuracy: 91.4179, Recall: 72.4195, Precision: 14.8880\n",
      "[Validation Metrics] Accuracy: 91.2615, Recall: 74.5289, Precision: 14.8552\n",
      "Model Value: 0.24772642946830606\n"
     ]
    },
    {
     "name": "stderr",
     "output_type": "stream",
     "text": [
      "100%|██████████| 1347/1347 [20:45<00:00,  1.08it/s]\n"
     ]
    },
    {
     "name": "stdout",
     "output_type": "stream",
     "text": [
      "Epoch: 25, Loss: 0.0362\n",
      "[Training Metrics]   Accuracy: 91.6522, Recall: 72.6459, Precision: 15.1800\n",
      "[Validation Metrics] Accuracy: 88.2751, Recall: 81.3288, Precision: 12.1387\n",
      "Model Value: 0.21124496902909737\n"
     ]
    },
    {
     "name": "stderr",
     "output_type": "stream",
     "text": [
      "100%|██████████| 1347/1347 [20:46<00:00,  1.08it/s]\n"
     ]
    },
    {
     "name": "stdout",
     "output_type": "stream",
     "text": [
      "Epoch: 26, Loss: 0.0354\n",
      "[Training Metrics]   Accuracy: 91.8991, Recall: 72.3325, Precision: 15.5069\n",
      "[Validation Metrics] Accuracy: 89.4408, Recall: 77.2208, Precision: 12.8403\n",
      "Model Value: 0.22019217479134548\n"
     ]
    },
    {
     "name": "stderr",
     "output_type": "stream",
     "text": [
      "100%|██████████| 1347/1347 [20:50<00:00,  1.08it/s]\n"
     ]
    },
    {
     "name": "stdout",
     "output_type": "stream",
     "text": [
      "Epoch: 27, Loss: 0.0349\n",
      "[Training Metrics]   Accuracy: 92.0229, Recall: 72.5612, Precision: 15.6211\n",
      "[Validation Metrics] Accuracy: 94.1512, Recall: 65.9814, Precision: 19.7004\n",
      "Model Value: 0.30341614447559095\n"
     ]
    },
    {
     "name": "stderr",
     "output_type": "stream",
     "text": [
      "100%|██████████| 1347/1347 [20:45<00:00,  1.08it/s]\n"
     ]
    },
    {
     "name": "stdout",
     "output_type": "stream",
     "text": [
      "Epoch: 28, Loss: 0.0352\n",
      "[Training Metrics]   Accuracy: 91.9080, Recall: 73.1941, Precision: 15.7513\n",
      "[Validation Metrics] Accuracy: 94.3382, Recall: 68.6937, Precision: 20.7747\n",
      "Model Value: 0.31901621119926854\n"
     ]
    },
    {
     "name": "stderr",
     "output_type": "stream",
     "text": [
      "100%|██████████| 1347/1347 [20:46<00:00,  1.08it/s]\n"
     ]
    },
    {
     "name": "stdout",
     "output_type": "stream",
     "text": [
      "Epoch: 29, Loss: 0.0348\n",
      "[Training Metrics]   Accuracy: 91.8526, Recall: 73.6015, Precision: 15.7013\n",
      "[Validation Metrics] Accuracy: 90.8609, Recall: 79.2926, Precision: 14.9052\n",
      "Model Value: 0.2509345148568798\n"
     ]
    },
    {
     "name": "stderr",
     "output_type": "stream",
     "text": [
      "100%|██████████| 1347/1347 [20:38<00:00,  1.09it/s]\n"
     ]
    },
    {
     "name": "stdout",
     "output_type": "stream",
     "text": [
      "Epoch: 30, Loss: 0.0344\n",
      "[Training Metrics]   Accuracy: 92.0181, Recall: 74.6580, Precision: 15.8120\n",
      "[Validation Metrics] Accuracy: 93.9675, Recall: 70.2081, Precision: 19.8950\n",
      "Model Value: 0.31004313244104587\n"
     ]
    },
    {
     "name": "stderr",
     "output_type": "stream",
     "text": [
      "100%|██████████| 1347/1347 [20:47<00:00,  1.08it/s]\n"
     ]
    },
    {
     "name": "stdout",
     "output_type": "stream",
     "text": [
      "Epoch: 31, Loss: 0.0343\n",
      "[Training Metrics]   Accuracy: 92.0595, Recall: 73.5331, Precision: 15.9412\n",
      "[Validation Metrics] Accuracy: 84.1048, Recall: 84.3656, Precision: 9.4571\n",
      "Model Value: 0.17007762773228138\n"
     ]
    },
    {
     "name": "stderr",
     "output_type": "stream",
     "text": [
      "100%|██████████| 1347/1347 [20:41<00:00,  1.08it/s]\n"
     ]
    },
    {
     "name": "stdout",
     "output_type": "stream",
     "text": [
      "Epoch: 32, Loss: 0.0340\n",
      "[Training Metrics]   Accuracy: 92.2750, Recall: 73.4944, Precision: 16.0145\n",
      "[Validation Metrics] Accuracy: 91.4195, Recall: 76.6076, Precision: 15.3931\n",
      "Model Value: 0.2563526774309365\n"
     ]
    },
    {
     "name": "stderr",
     "output_type": "stream",
     "text": [
      "100%|██████████| 1347/1347 [20:57<00:00,  1.07it/s]\n"
     ]
    },
    {
     "name": "stdout",
     "output_type": "stream",
     "text": [
      "Epoch: 33, Loss: 0.0341\n",
      "[Training Metrics]   Accuracy: 92.0605, Recall: 74.3577, Precision: 15.8926\n",
      "[Validation Metrics] Accuracy: 91.6910, Recall: 79.5860, Precision: 16.2563\n",
      "Model Value: 0.26997922300259153\n"
     ]
    },
    {
     "name": "stderr",
     "output_type": "stream",
     "text": [
      "100%|██████████| 1347/1347 [20:36<00:00,  1.09it/s]\n"
     ]
    },
    {
     "name": "stdout",
     "output_type": "stream",
     "text": [
      "Epoch: 34, Loss: 0.0336\n",
      "[Training Metrics]   Accuracy: 92.0977, Recall: 74.3759, Precision: 16.0178\n",
      "[Validation Metrics] Accuracy: 93.3273, Recall: 73.3961, Precision: 18.7029\n",
      "Model Value: 0.29809627508378295\n"
     ]
    },
    {
     "name": "stderr",
     "output_type": "stream",
     "text": [
      "100%|██████████| 1347/1347 [20:46<00:00,  1.08it/s]\n"
     ]
    },
    {
     "name": "stdout",
     "output_type": "stream",
     "text": [
      "Epoch: 35, Loss: 0.0339\n",
      "[Training Metrics]   Accuracy: 92.0759, Recall: 73.9975, Precision: 16.0033\n",
      "[Validation Metrics] Accuracy: 94.7221, Recall: 65.9486, Precision: 21.6023\n",
      "Model Value: 0.3254432875116812\n"
     ]
    },
    {
     "name": "stderr",
     "output_type": "stream",
     "text": [
      "100%|██████████| 1347/1347 [20:50<00:00,  1.08it/s]\n"
     ]
    },
    {
     "name": "stdout",
     "output_type": "stream",
     "text": [
      "Epoch: 36, Loss: 0.0328\n",
      "[Training Metrics]   Accuracy: 92.4075, Recall: 74.6841, Precision: 16.4275\n",
      "[Validation Metrics] Accuracy: 92.8808, Recall: 76.7961, Precision: 18.1828\n",
      "Model Value: 0.29403738519225453\n"
     ]
    },
    {
     "name": "stderr",
     "output_type": "stream",
     "text": [
      "100%|██████████| 1347/1347 [20:51<00:00,  1.08it/s]\n"
     ]
    },
    {
     "name": "stdout",
     "output_type": "stream",
     "text": [
      "Epoch: 37, Loss: 0.0328\n",
      "[Training Metrics]   Accuracy: 92.3919, Recall: 74.4449, Precision: 16.3936\n",
      "[Validation Metrics] Accuracy: 93.5993, Recall: 68.7683, Precision: 18.6320\n",
      "Model Value: 0.2932007379598637\n"
     ]
    },
    {
     "name": "stderr",
     "output_type": "stream",
     "text": [
      "100%|██████████| 1347/1347 [20:51<00:00,  1.08it/s]\n"
     ]
    },
    {
     "name": "stdout",
     "output_type": "stream",
     "text": [
      "Epoch: 38, Loss: 0.0326\n",
      "[Training Metrics]   Accuracy: 92.3946, Recall: 74.5114, Precision: 16.4957\n",
      "[Validation Metrics] Accuracy: 87.9707, Recall: 82.3918, Precision: 11.9775\n",
      "Model Value: 0.20914642947566683\n"
     ]
    },
    {
     "name": "stderr",
     "output_type": "stream",
     "text": [
      "100%|██████████| 1347/1347 [20:46<00:00,  1.08it/s]\n"
     ]
    },
    {
     "name": "stdout",
     "output_type": "stream",
     "text": [
      "Epoch: 39, Loss: 0.0324\n",
      "[Training Metrics]   Accuracy: 92.5047, Recall: 75.3808, Precision: 16.7822\n",
      "[Validation Metrics] Accuracy: 93.0297, Recall: 73.1151, Precision: 17.9518\n",
      "Model Value: 0.28826070850006025\n"
     ]
    },
    {
     "name": "stderr",
     "output_type": "stream",
     "text": [
      "100%|██████████| 1347/1347 [20:46<00:00,  1.08it/s]\n"
     ]
    },
    {
     "name": "stdout",
     "output_type": "stream",
     "text": [
      "Epoch: 40, Loss: 0.0318\n",
      "[Training Metrics]   Accuracy: 92.6624, Recall: 75.5572, Precision: 16.8528\n",
      "[Validation Metrics] Accuracy: 94.0740, Recall: 69.5069, Precision: 20.0901\n",
      "Model Value: 0.3117067593581547\n"
     ]
    },
    {
     "name": "stderr",
     "output_type": "stream",
     "text": [
      "100%|██████████| 1347/1347 [20:46<00:00,  1.08it/s]\n"
     ]
    },
    {
     "name": "stdout",
     "output_type": "stream",
     "text": [
      "Epoch: 41, Loss: 0.0323\n",
      "[Training Metrics]   Accuracy: 92.5793, Recall: 74.8704, Precision: 16.6533\n",
      "[Validation Metrics] Accuracy: 92.7091, Recall: 75.2610, Precision: 17.5768\n",
      "Model Value: 0.28497991174049125\n"
     ]
    },
    {
     "name": "stderr",
     "output_type": "stream",
     "text": [
      "100%|██████████| 1347/1347 [21:02<00:00,  1.07it/s]\n"
     ]
    },
    {
     "name": "stdout",
     "output_type": "stream",
     "text": [
      "Epoch: 42, Loss: 0.0312\n",
      "[Training Metrics]   Accuracy: 92.6827, Recall: 75.5032, Precision: 17.1529\n",
      "[Validation Metrics] Accuracy: 93.2400, Recall: 72.1114, Precision: 18.2846\n",
      "Model Value: 0.2917229488946057\n"
     ]
    },
    {
     "name": "stderr",
     "output_type": "stream",
     "text": [
      "100%|██████████| 1347/1347 [20:42<00:00,  1.08it/s]\n"
     ]
    },
    {
     "name": "stdout",
     "output_type": "stream",
     "text": [
      "Epoch: 43, Loss: 0.0315\n",
      "[Training Metrics]   Accuracy: 92.6625, Recall: 75.8420, Precision: 17.1868\n",
      "[Validation Metrics] Accuracy: 92.2445, Recall: 72.9039, Precision: 16.2902\n",
      "Model Value: 0.26629993064112867\n"
     ]
    },
    {
     "name": "stderr",
     "output_type": "stream",
     "text": [
      "100%|██████████| 1347/1347 [20:45<00:00,  1.08it/s]\n"
     ]
    },
    {
     "name": "stdout",
     "output_type": "stream",
     "text": [
      "Epoch: 44, Loss: 0.0311\n",
      "[Training Metrics]   Accuracy: 92.7033, Recall: 75.4341, Precision: 17.0822\n",
      "[Validation Metrics] Accuracy: 92.2099, Recall: 77.9066, Precision: 16.9608\n",
      "Model Value: 0.27856975368113385\n"
     ]
    },
    {
     "name": "stderr",
     "output_type": "stream",
     "text": [
      "100%|██████████| 1347/1347 [20:45<00:00,  1.08it/s]\n"
     ]
    },
    {
     "name": "stdout",
     "output_type": "stream",
     "text": [
      "Epoch: 45, Loss: 0.0311\n",
      "[Training Metrics]   Accuracy: 92.8608, Recall: 75.7563, Precision: 17.3589\n",
      "[Validation Metrics] Accuracy: 95.3988, Recall: 61.4562, Precision: 23.5239\n",
      "Model Value: 0.3402418532448713\n",
      "Saving Model!\n"
     ]
    },
    {
     "name": "stderr",
     "output_type": "stream",
     "text": [
      "100%|██████████| 1347/1347 [20:40<00:00,  1.09it/s]\n"
     ]
    },
    {
     "name": "stdout",
     "output_type": "stream",
     "text": [
      "Epoch: 46, Loss: 0.0307\n",
      "[Training Metrics]   Accuracy: 92.8600, Recall: 75.8243, Precision: 17.4327\n",
      "[Validation Metrics] Accuracy: 95.3990, Recall: 55.1139, Precision: 22.1737\n",
      "Model Value: 0.3162414671489413\n"
     ]
    },
    {
     "name": "stderr",
     "output_type": "stream",
     "text": [
      "100%|██████████| 1347/1347 [20:49<00:00,  1.08it/s]\n"
     ]
    },
    {
     "name": "stdout",
     "output_type": "stream",
     "text": [
      "Epoch: 47, Loss: 0.0308\n",
      "[Training Metrics]   Accuracy: 92.7402, Recall: 76.4002, Precision: 17.2689\n",
      "[Validation Metrics] Accuracy: 93.9317, Recall: 70.2138, Precision: 19.7919\n",
      "Model Value: 0.30879540815040185\n"
     ]
    },
    {
     "name": "stderr",
     "output_type": "stream",
     "text": [
      "100%|██████████| 1347/1347 [20:48<00:00,  1.08it/s]\n"
     ]
    },
    {
     "name": "stdout",
     "output_type": "stream",
     "text": [
      "Epoch: 48, Loss: 0.0309\n",
      "[Training Metrics]   Accuracy: 92.8289, Recall: 75.9947, Precision: 17.4223\n",
      "[Validation Metrics] Accuracy: 94.2290, Recall: 68.2537, Precision: 20.3475\n",
      "Model Value: 0.3134924950356517\n"
     ]
    },
    {
     "name": "stderr",
     "output_type": "stream",
     "text": [
      "100%|██████████| 1347/1347 [20:52<00:00,  1.08it/s]\n"
     ]
    },
    {
     "name": "stdout",
     "output_type": "stream",
     "text": [
      "Epoch: 49, Loss: 0.0304\n",
      "[Training Metrics]   Accuracy: 92.9266, Recall: 76.8220, Precision: 17.4849\n",
      "[Validation Metrics] Accuracy: 92.4562, Recall: 75.4279, Precision: 17.0800\n",
      "Model Value: 0.27852881485683445\n"
     ]
    },
    {
     "name": "stderr",
     "output_type": "stream",
     "text": [
      "100%|██████████| 1347/1347 [20:56<00:00,  1.07it/s]\n"
     ]
    },
    {
     "name": "stdout",
     "output_type": "stream",
     "text": [
      "Epoch: 50, Loss: 0.0304\n",
      "[Training Metrics]   Accuracy: 92.8588, Recall: 76.6413, Precision: 17.6633\n",
      "[Validation Metrics] Accuracy: 92.6649, Recall: 77.8542, Precision: 17.8705\n",
      "Model Value: 0.2906870388417096\n"
     ]
    },
    {
     "name": "stderr",
     "output_type": "stream",
     "text": [
      "100%|██████████| 1347/1347 [20:53<00:00,  1.07it/s]\n"
     ]
    },
    {
     "name": "stdout",
     "output_type": "stream",
     "text": [
      "Epoch: 51, Loss: 0.0299\n",
      "[Training Metrics]   Accuracy: 92.9297, Recall: 77.4319, Precision: 17.7826\n",
      "[Validation Metrics] Accuracy: 89.8971, Recall: 83.5471, Precision: 14.1506\n",
      "Model Value: 0.2420209483942796\n"
     ]
    },
    {
     "name": "stderr",
     "output_type": "stream",
     "text": [
      "100%|██████████| 1347/1347 [20:51<00:00,  1.08it/s]\n"
     ]
    },
    {
     "name": "stdout",
     "output_type": "stream",
     "text": [
      "Epoch: 52, Loss: 0.0299\n",
      "[Training Metrics]   Accuracy: 92.9671, Recall: 76.4860, Precision: 17.6212\n",
      "[Validation Metrics] Accuracy: 94.7956, Recall: 58.6116, Precision: 20.4361\n",
      "Model Value: 0.3030552929436014\n"
     ]
    },
    {
     "name": "stderr",
     "output_type": "stream",
     "text": [
      "100%|██████████| 1347/1347 [20:56<00:00,  1.07it/s]\n"
     ]
    },
    {
     "name": "stdout",
     "output_type": "stream",
     "text": [
      "Epoch: 53, Loss: 0.0301\n",
      "[Training Metrics]   Accuracy: 92.8405, Recall: 77.5362, Precision: 17.7178\n",
      "[Validation Metrics] Accuracy: 94.7520, Recall: 65.1437, Precision: 21.5616\n",
      "Model Value: 0.32399439492158566\n"
     ]
    },
    {
     "name": "stderr",
     "output_type": "stream",
     "text": [
      "100%|██████████| 1347/1347 [20:42<00:00,  1.08it/s]\n"
     ]
    },
    {
     "name": "stdout",
     "output_type": "stream",
     "text": [
      "Epoch: 54, Loss: 0.0292\n",
      "[Training Metrics]   Accuracy: 93.0879, Recall: 76.5758, Precision: 17.8246\n",
      "[Validation Metrics] Accuracy: 94.6165, Recall: 69.0694, Precision: 21.7888\n",
      "Model Value: 0.3312716807714163\n"
     ]
    },
    {
     "name": "stderr",
     "output_type": "stream",
     "text": [
      "100%|██████████| 1347/1347 [20:49<00:00,  1.08it/s]\n"
     ]
    },
    {
     "name": "stdout",
     "output_type": "stream",
     "text": [
      "Epoch: 55, Loss: 0.0290\n",
      "[Training Metrics]   Accuracy: 93.1617, Recall: 76.7844, Precision: 18.1685\n",
      "[Validation Metrics] Accuracy: 94.4763, Recall: 68.9045, Precision: 21.2713\n",
      "Model Value: 0.32507388122713204\n"
     ]
    },
    {
     "name": "stderr",
     "output_type": "stream",
     "text": [
      "100%|██████████| 1347/1347 [20:54<00:00,  1.07it/s]\n"
     ]
    },
    {
     "name": "stdout",
     "output_type": "stream",
     "text": [
      "Epoch: 56, Loss: 0.0296\n",
      "[Training Metrics]   Accuracy: 93.1213, Recall: 76.4919, Precision: 17.8735\n",
      "[Validation Metrics] Accuracy: 94.0251, Recall: 64.3453, Precision: 19.0267\n",
      "Model Value: 0.2936901558261979\n"
     ]
    },
    {
     "name": "stderr",
     "output_type": "stream",
     "text": [
      "100%|██████████| 1347/1347 [20:43<00:00,  1.08it/s]\n"
     ]
    },
    {
     "name": "stdout",
     "output_type": "stream",
     "text": [
      "Epoch: 57, Loss: 0.0291\n",
      "[Training Metrics]   Accuracy: 93.0529, Recall: 77.5447, Precision: 17.9205\n",
      "[Validation Metrics] Accuracy: 93.4076, Recall: 70.7250, Precision: 18.4696\n",
      "Model Value: 0.29290191872796156\n"
     ]
    },
    {
     "name": "stderr",
     "output_type": "stream",
     "text": [
      "100%|██████████| 1347/1347 [20:41<00:00,  1.08it/s]\n"
     ]
    },
    {
     "name": "stdout",
     "output_type": "stream",
     "text": [
      "Epoch: 58, Loss: 0.0290\n",
      "[Training Metrics]   Accuracy: 93.1690, Recall: 77.5719, Precision: 18.3423\n",
      "[Validation Metrics] Accuracy: 91.9361, Recall: 70.2532, Precision: 15.3322\n",
      "Model Value: 0.25170965919034494\n"
     ]
    },
    {
     "name": "stderr",
     "output_type": "stream",
     "text": [
      "100%|██████████| 1347/1347 [20:47<00:00,  1.08it/s]\n"
     ]
    },
    {
     "name": "stdout",
     "output_type": "stream",
     "text": [
      "Epoch: 59, Loss: 0.0288\n",
      "[Training Metrics]   Accuracy: 93.1226, Recall: 77.6768, Precision: 18.1520\n",
      "[Validation Metrics] Accuracy: 95.3775, Recall: 64.7942, Precision: 24.0844\n",
      "Model Value: 0.3511594728594134\n",
      "Saving Model!\n"
     ]
    },
    {
     "name": "stderr",
     "output_type": "stream",
     "text": [
      "100%|██████████| 1347/1347 [20:45<00:00,  1.08it/s]\n"
     ]
    },
    {
     "name": "stdout",
     "output_type": "stream",
     "text": [
      "Epoch: 60, Loss: 0.0288\n",
      "[Training Metrics]   Accuracy: 93.1668, Recall: 78.3220, Precision: 18.3510\n",
      "[Validation Metrics] Accuracy: 88.1024, Recall: 86.4136, Precision: 12.5399\n",
      "Model Value: 0.21901489426496495\n"
     ]
    },
    {
     "name": "stderr",
     "output_type": "stream",
     "text": [
      "100%|██████████| 1347/1347 [20:40<00:00,  1.09it/s]\n"
     ]
    },
    {
     "name": "stdout",
     "output_type": "stream",
     "text": [
      "Epoch: 61, Loss: 0.0286\n",
      "[Training Metrics]   Accuracy: 93.2761, Recall: 77.3986, Precision: 18.4229\n",
      "[Validation Metrics] Accuracy: 95.6453, Recall: 66.4160, Precision: 25.7029\n",
      "Model Value: 0.3706260676691573\n",
      "Saving Model!\n"
     ]
    },
    {
     "name": "stderr",
     "output_type": "stream",
     "text": [
      "100%|██████████| 1347/1347 [21:10<00:00,  1.06it/s]\n"
     ]
    },
    {
     "name": "stdout",
     "output_type": "stream",
     "text": [
      "Epoch: 62, Loss: 0.0283\n",
      "[Training Metrics]   Accuracy: 93.2969, Recall: 78.2935, Precision: 18.6436\n",
      "[Validation Metrics] Accuracy: 95.5270, Recall: 64.4425, Precision: 24.7303\n",
      "Model Value: 0.3574373259052925\n"
     ]
    },
    {
     "name": "stderr",
     "output_type": "stream",
     "text": [
      "100%|██████████| 1347/1347 [20:49<00:00,  1.08it/s]\n"
     ]
    },
    {
     "name": "stdout",
     "output_type": "stream",
     "text": [
      "Epoch: 63, Loss: 0.0281\n",
      "[Training Metrics]   Accuracy: 93.3808, Recall: 77.7597, Precision: 18.5821\n",
      "[Validation Metrics] Accuracy: 95.3678, Recall: 68.3081, Precision: 24.6995\n",
      "Model Value: 0.36280388106292305\n"
     ]
    },
    {
     "name": "stderr",
     "output_type": "stream",
     "text": [
      "100%|██████████| 1347/1347 [20:55<00:00,  1.07it/s]\n"
     ]
    },
    {
     "name": "stdout",
     "output_type": "stream",
     "text": [
      "Epoch: 64, Loss: 0.0281\n",
      "[Training Metrics]   Accuracy: 93.3673, Recall: 77.4569, Precision: 18.4915\n",
      "[Validation Metrics] Accuracy: 89.9976, Recall: 79.5426, Precision: 13.7809\n",
      "Model Value: 0.23491758826770662\n"
     ]
    },
    {
     "name": "stderr",
     "output_type": "stream",
     "text": [
      "100%|██████████| 1347/1347 [21:02<00:00,  1.07it/s]\n"
     ]
    },
    {
     "name": "stdout",
     "output_type": "stream",
     "text": [
      "Epoch: 65, Loss: 0.0276\n",
      "[Training Metrics]   Accuracy: 93.3908, Recall: 78.1859, Precision: 18.8078\n",
      "[Validation Metrics] Accuracy: 93.4330, Recall: 72.6006, Precision: 18.8394\n",
      "Model Value: 0.29915884465302295\n"
     ]
    },
    {
     "name": "stderr",
     "output_type": "stream",
     "text": [
      "100%|██████████| 1347/1347 [20:57<00:00,  1.07it/s]\n"
     ]
    },
    {
     "name": "stdout",
     "output_type": "stream",
     "text": [
      "Epoch: 66, Loss: 0.0279\n",
      "[Training Metrics]   Accuracy: 93.4101, Recall: 77.5974, Precision: 18.5823\n",
      "[Validation Metrics] Accuracy: 94.8900, Recall: 68.0552, Precision: 22.6245\n",
      "Model Value: 0.33959365327147506\n"
     ]
    },
    {
     "name": "stderr",
     "output_type": "stream",
     "text": [
      "100%|██████████| 1347/1347 [21:04<00:00,  1.06it/s]\n"
     ]
    },
    {
     "name": "stdout",
     "output_type": "stream",
     "text": [
      "Epoch: 67, Loss: 0.0276\n",
      "[Training Metrics]   Accuracy: 93.4817, Recall: 78.9152, Precision: 19.1378\n",
      "[Validation Metrics] Accuracy: 89.7157, Recall: 84.1335, Precision: 13.9993\n",
      "Model Value: 0.24004477676246666\n"
     ]
    },
    {
     "name": "stderr",
     "output_type": "stream",
     "text": [
      "100%|██████████| 1347/1347 [20:45<00:00,  1.08it/s]\n"
     ]
    },
    {
     "name": "stdout",
     "output_type": "stream",
     "text": [
      "Epoch: 68, Loss: 0.0279\n",
      "[Training Metrics]   Accuracy: 93.3282, Recall: 78.2049, Precision: 18.7431\n",
      "[Validation Metrics] Accuracy: 93.1367, Recall: 71.5420, Precision: 17.9485\n",
      "Model Value: 0.28697335922559525\n"
     ]
    },
    {
     "name": "stderr",
     "output_type": "stream",
     "text": [
      "100%|██████████| 1347/1347 [20:51<00:00,  1.08it/s]\n"
     ]
    },
    {
     "name": "stdout",
     "output_type": "stream",
     "text": [
      "Epoch: 69, Loss: 0.0277\n",
      "[Training Metrics]   Accuracy: 93.3701, Recall: 78.9932, Precision: 18.8213\n",
      "[Validation Metrics] Accuracy: 86.6021, Recall: 87.5607, Precision: 11.3846\n",
      "Model Value: 0.20149311920381846\n"
     ]
    },
    {
     "name": "stderr",
     "output_type": "stream",
     "text": [
      "100%|██████████| 1347/1347 [20:51<00:00,  1.08it/s]\n"
     ]
    },
    {
     "name": "stdout",
     "output_type": "stream",
     "text": [
      "Epoch: 70, Loss: 0.0276\n",
      "[Training Metrics]   Accuracy: 93.3850, Recall: 79.1698, Precision: 19.0674\n",
      "[Validation Metrics] Accuracy: 93.0613, Recall: 68.8604, Precision: 17.3393\n",
      "Model Value: 0.2770289286981964\n"
     ]
    },
    {
     "name": "stderr",
     "output_type": "stream",
     "text": [
      "100%|██████████| 1347/1347 [20:56<00:00,  1.07it/s]\n"
     ]
    },
    {
     "name": "stdout",
     "output_type": "stream",
     "text": [
      "Epoch: 71, Loss: 0.0270\n",
      "[Training Metrics]   Accuracy: 93.5766, Recall: 79.5221, Precision: 19.4704\n",
      "[Validation Metrics] Accuracy: 93.2593, Recall: 77.0031, Precision: 19.0995\n",
      "Model Value: 0.3060727544887993\n"
     ]
    },
    {
     "name": "stderr",
     "output_type": "stream",
     "text": [
      "100%|██████████| 1347/1347 [20:53<00:00,  1.07it/s]\n"
     ]
    },
    {
     "name": "stdout",
     "output_type": "stream",
     "text": [
      "Epoch: 72, Loss: 0.0271\n",
      "[Training Metrics]   Accuracy: 93.5733, Recall: 79.0988, Precision: 19.3264\n",
      "[Validation Metrics] Accuracy: 92.6890, Recall: 79.4987, Precision: 18.1629\n",
      "Model Value: 0.29569942151237527\n"
     ]
    },
    {
     "name": "stderr",
     "output_type": "stream",
     "text": [
      "100%|██████████| 1347/1347 [20:49<00:00,  1.08it/s]\n"
     ]
    },
    {
     "name": "stdout",
     "output_type": "stream",
     "text": [
      "Epoch: 73, Loss: 0.0271\n",
      "[Training Metrics]   Accuracy: 93.5124, Recall: 78.8831, Precision: 19.2046\n",
      "[Validation Metrics] Accuracy: 95.0462, Recall: 68.1719, Precision: 23.2712\n",
      "Model Value: 0.34697907449536586\n"
     ]
    },
    {
     "name": "stderr",
     "output_type": "stream",
     "text": [
      "100%|██████████| 1347/1347 [20:55<00:00,  1.07it/s]\n"
     ]
    },
    {
     "name": "stdout",
     "output_type": "stream",
     "text": [
      "Epoch: 74, Loss: 0.0268\n",
      "[Training Metrics]   Accuracy: 93.6395, Recall: 79.0379, Precision: 19.2406\n",
      "[Validation Metrics] Accuracy: 92.5704, Recall: 73.3178, Precision: 16.9921\n",
      "Model Value: 0.2759001586570521\n"
     ]
    },
    {
     "name": "stderr",
     "output_type": "stream",
     "text": [
      "100%|██████████| 1347/1347 [20:55<00:00,  1.07it/s]\n"
     ]
    },
    {
     "name": "stdout",
     "output_type": "stream",
     "text": [
      "Epoch: 75, Loss: 0.0269\n",
      "[Training Metrics]   Accuracy: 93.6522, Recall: 78.6645, Precision: 19.2170\n",
      "[Validation Metrics] Accuracy: 94.1896, Recall: 67.4122, Precision: 20.0752\n",
      "Model Value: 0.3093736384106326\n"
     ]
    },
    {
     "name": "stderr",
     "output_type": "stream",
     "text": [
      "100%|██████████| 1347/1347 [21:01<00:00,  1.07it/s]\n"
     ]
    },
    {
     "name": "stdout",
     "output_type": "stream",
     "text": [
      "Epoch: 76, Loss: 0.0270\n",
      "[Training Metrics]   Accuracy: 93.5556, Recall: 79.0644, Precision: 19.0070\n",
      "[Validation Metrics] Accuracy: 93.4934, Recall: 74.8265, Precision: 19.3507\n",
      "Model Value: 0.30749385085846653\n"
     ]
    },
    {
     "name": "stderr",
     "output_type": "stream",
     "text": [
      "100%|██████████| 1347/1347 [20:57<00:00,  1.07it/s]\n"
     ]
    },
    {
     "name": "stdout",
     "output_type": "stream",
     "text": [
      "Epoch: 77, Loss: 0.0267\n",
      "[Training Metrics]   Accuracy: 93.6240, Recall: 79.3218, Precision: 19.5206\n",
      "[Validation Metrics] Accuracy: 93.5567, Recall: 68.9691, Precision: 18.5553\n",
      "Model Value: 0.2924306204267266\n"
     ]
    },
    {
     "name": "stderr",
     "output_type": "stream",
     "text": [
      "100%|██████████| 1347/1347 [21:01<00:00,  1.07it/s]\n"
     ]
    },
    {
     "name": "stdout",
     "output_type": "stream",
     "text": [
      "Epoch: 78, Loss: 0.0264\n",
      "[Training Metrics]   Accuracy: 93.6891, Recall: 80.0453, Precision: 19.7978\n",
      "[Validation Metrics] Accuracy: 92.3910, Recall: 73.2211, Precision: 16.6192\n",
      "Model Value: 0.27089778156678784\n"
     ]
    },
    {
     "name": "stderr",
     "output_type": "stream",
     "text": [
      "100%|██████████| 1347/1347 [20:59<00:00,  1.07it/s]\n"
     ]
    },
    {
     "name": "stdout",
     "output_type": "stream",
     "text": [
      "Epoch: 79, Loss: 0.0264\n",
      "[Training Metrics]   Accuracy: 93.7165, Recall: 79.5789, Precision: 19.7268\n",
      "[Validation Metrics] Accuracy: 92.8913, Recall: 77.7612, Precision: 18.3509\n",
      "Model Value: 0.29694197859158983\n"
     ]
    },
    {
     "name": "stderr",
     "output_type": "stream",
     "text": [
      "100%|██████████| 1347/1347 [20:50<00:00,  1.08it/s]\n"
     ]
    },
    {
     "name": "stdout",
     "output_type": "stream",
     "text": [
      "Epoch: 80, Loss: 0.0267\n",
      "[Training Metrics]   Accuracy: 93.6019, Recall: 79.9341, Precision: 19.3812\n",
      "[Validation Metrics] Accuracy: 94.8522, Recall: 61.0421, Precision: 21.1413\n",
      "Model Value: 0.31405636839082596\n"
     ]
    },
    {
     "name": "stderr",
     "output_type": "stream",
     "text": [
      "100%|██████████| 1347/1347 [20:49<00:00,  1.08it/s]\n"
     ]
    },
    {
     "name": "stdout",
     "output_type": "stream",
     "text": [
      "Epoch: 81, Loss: 0.0263\n",
      "[Training Metrics]   Accuracy: 93.7110, Recall: 79.6177, Precision: 19.7320\n",
      "[Validation Metrics] Accuracy: 94.5344, Recall: 66.2384, Precision: 20.9889\n",
      "Model Value: 0.31877001312600883\n"
     ]
    },
    {
     "name": "stderr",
     "output_type": "stream",
     "text": [
      "100%|██████████| 1347/1347 [20:48<00:00,  1.08it/s]\n"
     ]
    },
    {
     "name": "stdout",
     "output_type": "stream",
     "text": [
      "Epoch: 82, Loss: 0.0263\n",
      "[Training Metrics]   Accuracy: 93.7388, Recall: 79.8324, Precision: 19.8760\n",
      "[Validation Metrics] Accuracy: 88.6195, Recall: 86.1752, Precision: 13.0204\n",
      "Model Value: 0.22622696280707336\n"
     ]
    },
    {
     "name": "stderr",
     "output_type": "stream",
     "text": [
      "100%|██████████| 1347/1347 [21:01<00:00,  1.07it/s]\n"
     ]
    },
    {
     "name": "stdout",
     "output_type": "stream",
     "text": [
      "Epoch: 83, Loss: 0.0262\n",
      "[Training Metrics]   Accuracy: 93.6852, Recall: 79.7824, Precision: 19.7463\n",
      "[Validation Metrics] Accuracy: 95.5608, Recall: 67.1022, Precision: 25.4029\n",
      "Model Value: 0.3685395179723024\n"
     ]
    },
    {
     "name": "stderr",
     "output_type": "stream",
     "text": [
      "100%|██████████| 1347/1347 [20:53<00:00,  1.07it/s]\n"
     ]
    },
    {
     "name": "stdout",
     "output_type": "stream",
     "text": [
      "Epoch: 84, Loss: 0.0258\n",
      "[Training Metrics]   Accuracy: 93.8239, Recall: 79.4919, Precision: 19.8224\n",
      "[Validation Metrics] Accuracy: 91.9000, Recall: 76.7988, Precision: 16.2307\n",
      "Model Value: 0.2679794367383714\n"
     ]
    },
    {
     "name": "stderr",
     "output_type": "stream",
     "text": [
      "100%|██████████| 1347/1347 [20:58<00:00,  1.07it/s]\n"
     ]
    },
    {
     "name": "stdout",
     "output_type": "stream",
     "text": [
      "Epoch: 85, Loss: 0.0263\n",
      "[Training Metrics]   Accuracy: 93.6931, Recall: 79.3169, Precision: 19.7194\n",
      "[Validation Metrics] Accuracy: 92.9017, Recall: 78.1068, Precision: 18.4259\n",
      "Model Value: 0.2981769086482876\n"
     ]
    },
    {
     "name": "stderr",
     "output_type": "stream",
     "text": [
      "100%|██████████| 1347/1347 [20:54<00:00,  1.07it/s]\n"
     ]
    },
    {
     "name": "stdout",
     "output_type": "stream",
     "text": [
      "Epoch: 86, Loss: 0.0258\n",
      "[Training Metrics]   Accuracy: 93.7552, Recall: 79.7828, Precision: 19.8433\n",
      "[Validation Metrics] Accuracy: 94.6445, Recall: 65.5534, Precision: 21.2482\n",
      "Model Value: 0.32093672146574254\n"
     ]
    },
    {
     "name": "stderr",
     "output_type": "stream",
     "text": [
      "100%|██████████| 1347/1347 [20:50<00:00,  1.08it/s]\n"
     ]
    },
    {
     "name": "stdout",
     "output_type": "stream",
     "text": [
      "Epoch: 87, Loss: 0.0257\n",
      "[Training Metrics]   Accuracy: 93.8347, Recall: 80.0611, Precision: 19.9836\n",
      "[Validation Metrics] Accuracy: 95.3645, Recall: 69.6529, Precision: 24.9280\n",
      "Model Value: 0.36715766301951086\n"
     ]
    },
    {
     "name": "stderr",
     "output_type": "stream",
     "text": [
      "100%|██████████| 1347/1347 [20:57<00:00,  1.07it/s]\n"
     ]
    },
    {
     "name": "stdout",
     "output_type": "stream",
     "text": [
      "Epoch: 88, Loss: 0.0258\n",
      "[Training Metrics]   Accuracy: 93.7763, Recall: 80.8438, Precision: 19.9167\n",
      "[Validation Metrics] Accuracy: 94.0527, Recall: 64.6406, Precision: 19.1616\n",
      "Model Value: 0.29560519757769216\n"
     ]
    },
    {
     "name": "stderr",
     "output_type": "stream",
     "text": [
      "100%|██████████| 1347/1347 [21:05<00:00,  1.06it/s]\n"
     ]
    },
    {
     "name": "stdout",
     "output_type": "stream",
     "text": [
      "Epoch: 89, Loss: 0.0253\n",
      "[Training Metrics]   Accuracy: 93.9176, Recall: 80.9579, Precision: 20.3127\n",
      "[Validation Metrics] Accuracy: 95.9491, Recall: 62.9233, Precision: 26.6990\n",
      "Model Value: 0.37490481963911715\n",
      "Saving Model!\n"
     ]
    },
    {
     "name": "stderr",
     "output_type": "stream",
     "text": [
      "100%|██████████| 1347/1347 [20:56<00:00,  1.07it/s]\n"
     ]
    },
    {
     "name": "stdout",
     "output_type": "stream",
     "text": [
      "Epoch: 90, Loss: 0.0256\n",
      "[Training Metrics]   Accuracy: 93.8037, Recall: 80.7753, Precision: 20.0791\n",
      "[Validation Metrics] Accuracy: 96.2620, Recall: 60.3036, Precision: 28.1489\n",
      "Model Value: 0.3838176963391478\n",
      "Saving Model!\n"
     ]
    },
    {
     "name": "stderr",
     "output_type": "stream",
     "text": [
      "100%|██████████| 1347/1347 [20:51<00:00,  1.08it/s]\n"
     ]
    },
    {
     "name": "stdout",
     "output_type": "stream",
     "text": [
      "Epoch: 91, Loss: 0.0255\n",
      "[Training Metrics]   Accuracy: 93.9815, Recall: 80.3904, Precision: 20.4858\n",
      "[Validation Metrics] Accuracy: 94.3489, Recall: 72.4851, Precision: 21.4650\n",
      "Model Value: 0.33121659925020885\n"
     ]
    },
    {
     "name": "stderr",
     "output_type": "stream",
     "text": [
      "100%|██████████| 1347/1347 [20:55<00:00,  1.07it/s]\n"
     ]
    },
    {
     "name": "stdout",
     "output_type": "stream",
     "text": [
      "Epoch: 92, Loss: 0.0253\n",
      "[Training Metrics]   Accuracy: 93.9079, Recall: 81.1011, Precision: 20.3708\n",
      "[Validation Metrics] Accuracy: 90.5521, Recall: 83.2476, Precision: 14.9757\n",
      "Model Value: 0.2538478199571586\n"
     ]
    },
    {
     "name": "stderr",
     "output_type": "stream",
     "text": [
      "100%|██████████| 1347/1347 [20:55<00:00,  1.07it/s]\n"
     ]
    },
    {
     "name": "stdout",
     "output_type": "stream",
     "text": [
      "Epoch: 93, Loss: 0.0251\n",
      "[Training Metrics]   Accuracy: 93.9563, Recall: 81.0702, Precision: 20.3540\n",
      "[Validation Metrics] Accuracy: 93.6100, Recall: 71.9341, Precision: 19.1894\n",
      "Model Value: 0.3029674154941148\n"
     ]
    },
    {
     "name": "stderr",
     "output_type": "stream",
     "text": [
      "100%|██████████| 1347/1347 [20:57<00:00,  1.07it/s]\n"
     ]
    },
    {
     "name": "stdout",
     "output_type": "stream",
     "text": [
      "Epoch: 94, Loss: 0.0253\n",
      "[Training Metrics]   Accuracy: 93.8729, Recall: 80.6918, Precision: 20.3262\n",
      "[Validation Metrics] Accuracy: 95.4492, Recall: 70.1204, Precision: 25.4090\n",
      "Model Value: 0.3730140233259283\n"
     ]
    },
    {
     "name": "stderr",
     "output_type": "stream",
     "text": [
      "100%|██████████| 1347/1347 [20:59<00:00,  1.07it/s]\n"
     ]
    },
    {
     "name": "stdout",
     "output_type": "stream",
     "text": [
      "Epoch: 95, Loss: 0.0249\n",
      "[Training Metrics]   Accuracy: 93.9837, Recall: 80.2938, Precision: 20.2717\n",
      "[Validation Metrics] Accuracy: 93.6402, Recall: 75.3540, Precision: 19.8228\n",
      "Model Value: 0.3138845513842383\n"
     ]
    },
    {
     "name": "stderr",
     "output_type": "stream",
     "text": [
      "100%|██████████| 1347/1347 [21:00<00:00,  1.07it/s]\n"
     ]
    },
    {
     "name": "stdout",
     "output_type": "stream",
     "text": [
      "Epoch: 96, Loss: 0.0250\n",
      "[Training Metrics]   Accuracy: 94.0503, Recall: 80.8208, Precision: 20.7101\n",
      "[Validation Metrics] Accuracy: 92.7881, Recall: 70.8503, Precision: 17.0614\n",
      "Model Value: 0.2750038669060681\n"
     ]
    },
    {
     "name": "stderr",
     "output_type": "stream",
     "text": [
      " 79%|███████▉  | 1065/1347 [16:33<04:22,  1.07it/s]"
     ]
    }
   ],
   "source": [
    "best_model_value = 0\n",
    "\n",
    "n_epochs = 200\n",
    "nan_found = False\n",
    "for epoch in range(n_epochs):\n",
    "    model.train()\n",
    "\n",
    "    total_train_loss = 0\n",
    "    train_correct = 0\n",
    "    train_recall = 0\n",
    "    train_precision = 0\n",
    "    for inputs, labels, _ in tqdm(train_dataloader):\n",
    "        inputs, labels = inputs.to(device), labels.to(device)\n",
    "        \n",
    "        y_pred = model(inputs)\n",
    "        loss = loss_fn(y_pred, labels)\n",
    "\n",
    "        if torch.isnan(loss):\n",
    "            print(f\"NaN detected in loss!\")\n",
    "            torch.save(model.state_dict(), curr_folder + \"model_nan.pt\")\n",
    "            nan_found = True\n",
    "            break\n",
    "        \n",
    "        optimizer.zero_grad()\n",
    "        loss.backward()\n",
    "\n",
    "        # Check for NaNs in gradients\n",
    "        for name, param in model.named_parameters():\n",
    "            if param.grad is not None:\n",
    "                if torch.isnan(param.grad).any():\n",
    "                    print(f\"NaN detected in gradients of {name}\")\n",
    "                    nan_found = True\n",
    "        if nan_found == True:\n",
    "            break\n",
    "    \n",
    "        optimizer.step()\n",
    "\n",
    "        # Check for NaNs in model weights\n",
    "        for name, param in model.named_parameters():\n",
    "            if torch.isnan(param).any():\n",
    "                print(f\"NaN detected in weights of {name}\")\n",
    "                nan_found = True\n",
    "        if nan_found == True:\n",
    "            break\n",
    "\n",
    "        total_train_loss += loss\n",
    "\n",
    "        # pred = torch.argmax(y_pred, dim=1)\n",
    "        pred = y_pred > 0.5\n",
    "\n",
    "        pred = pred[batch_mask]\n",
    "        labels = labels[batch_mask]\n",
    "        \n",
    "        train_correct += ((pred == labels).float().sum().item() / labels.numel())\n",
    "        if labels[labels > 0].numel() > 0:\n",
    "            train_recall += ((pred[labels > 0] == labels[labels > 0]).float().sum().item() / labels[labels > 0].numel())\n",
    "        if labels[pred > 0].numel() > 0:\n",
    "            train_precision += ((pred[pred > 0] == labels[pred > 0]).float().sum().item() / labels[pred > 0].numel())\n",
    "    \n",
    "    if nan_found == True:\n",
    "        break\n",
    "\n",
    "    avg_train_loss = total_train_loss / train_steps\n",
    "    train_correct = train_correct / train_steps\n",
    "    train_recall = train_recall / train_steps\n",
    "    train_precision = train_precision / train_steps\n",
    "    \n",
    "    print(\"Epoch: %d, Loss: %.4f\" % (epoch+1, avg_train_loss))\n",
    "    print(\"[Training Metrics]   Accuracy: %.4f, Recall: %.4f, Precision: %.4f\" % (100*train_correct, 100*train_recall, 100*train_precision))\n",
    "    \n",
    "    with torch.no_grad():\n",
    "        val_correct, val_recall, val_precision = get_metrics(val_dataloader)\n",
    "\n",
    "    print(\"[Validation Metrics] Accuracy: %.4f, Recall: %.4f, Precision: %.4f\" % (100*val_correct, 100*val_recall, 100*val_precision))\n",
    "    \n",
    "    writer.add_scalar('Loss/train', avg_train_loss.item(), epoch)\n",
    "    writer.add_scalar('Accuracy/train', 100*train_correct, epoch)\n",
    "    writer.add_scalar('Recall/train', 100*train_recall, epoch)\n",
    "    writer.add_scalar('Precision/train', 100*train_precision, epoch)\n",
    "    writer.add_scalar('Accuracy/validation', 100*val_correct, epoch)\n",
    "    writer.add_scalar('Recall/validation', 100*val_recall, epoch)\n",
    "    writer.add_scalar('Precision/validation', 100*val_precision, epoch)\n",
    "\n",
    "    model_value = 0\n",
    "    if (val_recall + val_precision) > 1e-4:\n",
    "        model_value = 2 * (val_recall * val_precision) / (val_recall + val_precision) # F1 Score\n",
    "    print(\"Model Value:\", model_value)\n",
    "    if model_value > best_model_value:\n",
    "        print(\"Saving Model!\")\n",
    "        torch.save(model.state_dict(), curr_folder + \"model.pt\")\n",
    "        best_model_value = model_value"
   ]
  },
  {
   "cell_type": "code",
   "execution_count": null,
   "metadata": {
    "tags": []
   },
   "outputs": [],
   "source": [
    "print(\"Best Model Value:\", best_model_value)"
   ]
  },
  {
   "cell_type": "code",
   "execution_count": null,
   "metadata": {
    "tags": []
   },
   "outputs": [],
   "source": [
    "epoch"
   ]
  },
  {
   "cell_type": "code",
   "execution_count": null,
   "metadata": {
    "tags": []
   },
   "outputs": [],
   "source": [
    "torch.cuda.empty_cache()"
   ]
  },
  {
   "cell_type": "code",
   "execution_count": null,
   "metadata": {
    "tags": []
   },
   "outputs": [],
   "source": [
    "model.eval()\n",
    "torch.save(model.state_dict(), curr_folder + \"model_least_loss.pt\")\n",
    "torch.save(optimizer.state_dict(), curr_folder + \"optimizer.pt\")"
   ]
  },
  {
   "cell_type": "code",
   "execution_count": 16,
   "metadata": {
    "execution": {
     "iopub.execute_input": "2024-08-18T03:19:44.552326Z",
     "iopub.status.busy": "2024-08-18T03:19:44.551952Z",
     "iopub.status.idle": "2024-08-18T03:19:44.836235Z",
     "shell.execute_reply": "2024-08-18T03:19:44.835106Z",
     "shell.execute_reply.started": "2024-08-18T03:19:44.552305Z"
    },
    "tags": []
   },
   "outputs": [
    {
     "data": {
      "text/plain": [
       "Net(\n",
       "  (convs): ModuleList(\n",
       "    (0): Conv2d(508, 512, kernel_size=(3, 3), stride=(1, 1), padding=same)\n",
       "    (1): Conv2d(512, 256, kernel_size=(3, 3), stride=(1, 1), padding=same)\n",
       "    (2): Conv2d(256, 128, kernel_size=(3, 3), stride=(1, 1), padding=same)\n",
       "    (3): Conv2d(128, 64, kernel_size=(3, 3), stride=(1, 1), padding=same)\n",
       "    (4): Conv2d(64, 32, kernel_size=(3, 3), stride=(1, 1), padding=same)\n",
       "    (5): Conv2d(32, 16, kernel_size=(3, 3), stride=(1, 1), padding=same)\n",
       "    (6): Conv2d(16, 8, kernel_size=(3, 3), stride=(1, 1), padding=same)\n",
       "  )\n",
       "  (bns): ModuleList(\n",
       "    (0): BatchNorm2d(512, eps=1e-05, momentum=0.1, affine=True, track_running_stats=True)\n",
       "    (1): BatchNorm2d(256, eps=1e-05, momentum=0.1, affine=True, track_running_stats=True)\n",
       "    (2): BatchNorm2d(128, eps=1e-05, momentum=0.1, affine=True, track_running_stats=True)\n",
       "    (3): BatchNorm2d(64, eps=1e-05, momentum=0.1, affine=True, track_running_stats=True)\n",
       "    (4): BatchNorm2d(32, eps=1e-05, momentum=0.1, affine=True, track_running_stats=True)\n",
       "    (5): BatchNorm2d(16, eps=1e-05, momentum=0.1, affine=True, track_running_stats=True)\n",
       "    (6): BatchNorm2d(8, eps=1e-05, momentum=0.1, affine=True, track_running_stats=True)\n",
       "  )\n",
       "  (dropouts): ModuleList(\n",
       "    (0): Dropout2d(p=0.1, inplace=False)\n",
       "    (1): Dropout2d(p=0.1, inplace=False)\n",
       "    (2): Dropout2d(p=0.1, inplace=False)\n",
       "    (3): Dropout2d(p=0.1, inplace=False)\n",
       "    (4): Dropout2d(p=0.1, inplace=False)\n",
       "    (5): Dropout2d(p=0.1, inplace=False)\n",
       "    (6): Dropout2d(p=0.1, inplace=False)\n",
       "  )\n",
       "  (act): ReLU()\n",
       "  (final_conv): Conv2d(8, 1, kernel_size=(3, 3), stride=(1, 1), padding=same)\n",
       "  (sigmoid): Sigmoid()\n",
       ")"
      ]
     },
     "execution_count": 16,
     "metadata": {},
     "output_type": "execute_result"
    }
   ],
   "source": [
    "checkpoint = torch.load(curr_folder + \"model.pt\")\n",
    "model.load_state_dict(checkpoint)\n",
    "model.eval()"
   ]
  },
  {
   "cell_type": "code",
   "execution_count": 17,
   "metadata": {
    "execution": {
     "iopub.execute_input": "2024-08-09T20:25:12.700497Z",
     "iopub.status.busy": "2024-08-09T20:25:12.700325Z",
     "iopub.status.idle": "2024-08-09T20:25:12.704070Z",
     "shell.execute_reply": "2024-08-09T20:25:12.703427Z",
     "shell.execute_reply.started": "2024-08-09T20:25:12.700482Z"
    },
    "tags": []
   },
   "outputs": [],
   "source": [
    "def f1_score(recall, precision):\n",
    "    return 2 * (recall * precision) / (recall + precision + 1e-06)"
   ]
  },
  {
   "cell_type": "code",
   "execution_count": 20,
   "metadata": {
    "execution": {
     "iopub.execute_input": "2024-08-09T21:19:45.352008Z",
     "iopub.status.busy": "2024-08-09T21:19:45.350944Z",
     "iopub.status.idle": "2024-08-09T21:19:45.361955Z",
     "shell.execute_reply": "2024-08-09T21:19:45.361132Z",
     "shell.execute_reply.started": "2024-08-09T21:19:45.351963Z"
    },
    "tags": []
   },
   "outputs": [
    {
     "name": "stdout",
     "output_type": "stream",
     "text": [
      "Optimal threshold: 0.75, Best F1 Score: 0.5127521522499228\n"
     ]
    }
   ],
   "source": [
    "thresholds = torch.arange(0.0, 1.0, 0.05)\n",
    "f1_scores_list = []\n",
    "\n",
    "for threshold in tqdm(thresholds):\n",
    "    val_correct, val_recall, val_precision = get_metrics(val_dataloader, threshold=threshold)\n",
    "    f1 = f1_score(val_recall, val_precision)\n",
    "    f1_scores_list.append(f1)\n",
    "\n",
    "best_index = torch.argmax(torch.tensor(f1_scores_list))\n",
    "optimal_threshold = thresholds[best_index]\n",
    "optimal_f1_score = f1_scores_list[best_index]\n",
    "print(f'Optimal threshold: {optimal_threshold}, Best F1 Score: {optimal_f1_score}')"
   ]
  },
  {
   "cell_type": "code",
   "execution_count": 18,
   "metadata": {
    "execution": {
     "iopub.execute_input": "2024-08-18T03:24:07.169802Z",
     "iopub.status.busy": "2024-08-18T03:24:07.169281Z",
     "iopub.status.idle": "2024-08-18T03:34:40.335989Z",
     "shell.execute_reply": "2024-08-18T03:34:40.334352Z",
     "shell.execute_reply.started": "2024-08-18T03:24:07.169756Z"
    },
    "tags": []
   },
   "outputs": [
    {
     "name": "stdout",
     "output_type": "stream",
     "text": [
      "[Test Metrics] Accuracy: 94.5597, Recall: 65.0572, Precision: 29.2722\n"
     ]
    }
   ],
   "source": [
    "test_correct, test_recall, test_precision = get_metrics(test_dataloader)\n",
    "\n",
    "print(\"[Test Metrics] Accuracy: %.4f, Recall: %.4f, Precision: %.4f\" % (100*test_correct, 100*test_recall, 100*test_precision))"
   ]
  },
  {
   "cell_type": "code",
   "execution_count": 17,
   "metadata": {
    "execution": {
     "iopub.execute_input": "2024-08-18T03:19:50.228274Z",
     "iopub.status.busy": "2024-08-18T03:19:50.227399Z",
     "iopub.status.idle": "2024-08-18T03:24:07.166593Z",
     "shell.execute_reply": "2024-08-18T03:24:07.165249Z",
     "shell.execute_reply.started": "2024-08-18T03:19:50.228227Z"
    },
    "tags": []
   },
   "outputs": [
    {
     "name": "stdout",
     "output_type": "stream",
     "text": [
      "[Validation Metrics] Accuracy: 96.2766, Recall: 63.6641, Precision: 28.9121\n",
      "Model Value: 0.39765404295060053\n"
     ]
    }
   ],
   "source": [
    "val_correct, val_recall, val_precision = get_metrics(val_dataloader)\n",
    "\n",
    "print(\"[Validation Metrics] Accuracy: %.4f, Recall: %.4f, Precision: %.4f\" % (100*val_correct, 100*val_recall, 100*val_precision))\n",
    "\n",
    "model_value = 0\n",
    "if (val_recall + val_precision) > 1e-4:\n",
    "    model_value = 2 * (val_recall * val_precision) / (val_recall + val_precision) # F1 Score\n",
    "print(\"Model Value:\", model_value)"
   ]
  },
  {
   "cell_type": "code",
   "execution_count": 22,
   "metadata": {
    "execution": {
     "iopub.execute_input": "2024-08-18T03:34:40.372198Z",
     "iopub.status.busy": "2024-08-18T03:34:40.371251Z",
     "iopub.status.idle": "2024-08-18T04:05:55.380917Z",
     "shell.execute_reply": "2024-08-18T04:05:55.379705Z",
     "shell.execute_reply.started": "2024-08-18T03:34:40.372139Z"
    },
    "tags": []
   },
   "outputs": [
    {
     "name": "stdout",
     "output_type": "stream",
     "text": [
      "[Train Metrics] Accuracy: 96.2932, Recall: 82.6073, Precision: 33.7189\n"
     ]
    }
   ],
   "source": [
    "train_correct, train_recall, train_precision = get_metrics(train_dataloader)\n",
    "\n",
    "print(\"[Train Metrics] Accuracy: %.4f, Recall: %.4f, Precision: %.4f\" % (100*train_correct, 100*train_recall, 100*train_precision))"
   ]
  },
  {
   "cell_type": "code",
   "execution_count": 19,
   "metadata": {
    "execution": {
     "iopub.execute_input": "2024-08-18T03:34:40.338666Z",
     "iopub.status.busy": "2024-08-18T03:34:40.338153Z",
     "iopub.status.idle": "2024-08-18T03:34:40.345316Z",
     "shell.execute_reply": "2024-08-18T03:34:40.344116Z",
     "shell.execute_reply.started": "2024-08-18T03:34:40.338618Z"
    },
    "tags": []
   },
   "outputs": [],
   "source": [
    "best_model_value = model_value"
   ]
  },
  {
   "cell_type": "code",
   "execution_count": 20,
   "metadata": {
    "execution": {
     "iopub.execute_input": "2024-08-18T03:34:40.348603Z",
     "iopub.status.busy": "2024-08-18T03:34:40.347961Z",
     "iopub.status.idle": "2024-08-18T03:34:40.360536Z",
     "shell.execute_reply": "2024-08-18T03:34:40.359185Z",
     "shell.execute_reply.started": "2024-08-18T03:34:40.348559Z"
    },
    "tags": []
   },
   "outputs": [
    {
     "data": {
      "text/plain": [
       "0.39765404295060053"
      ]
     },
     "execution_count": 20,
     "metadata": {},
     "output_type": "execute_result"
    }
   ],
   "source": [
    "best_model_value"
   ]
  },
  {
   "cell_type": "code",
   "execution_count": 21,
   "metadata": {
    "execution": {
     "iopub.execute_input": "2024-08-18T03:34:40.363123Z",
     "iopub.status.busy": "2024-08-18T03:34:40.362226Z",
     "iopub.status.idle": "2024-08-18T03:34:40.369782Z",
     "shell.execute_reply": "2024-08-18T03:34:40.368955Z",
     "shell.execute_reply.started": "2024-08-18T03:34:40.363076Z"
    },
    "tags": []
   },
   "outputs": [
    {
     "data": {
      "text/plain": [
       "0.40376915147648446"
      ]
     },
     "execution_count": 21,
     "metadata": {},
     "output_type": "execute_result"
    }
   ],
   "source": [
    "2 * (test_recall * test_precision) / (test_recall + test_precision)"
   ]
  },
  {
   "cell_type": "code",
   "execution_count": 45,
   "metadata": {
    "execution": {
     "iopub.execute_input": "2024-07-27T02:24:00.475544Z",
     "iopub.status.busy": "2024-07-27T02:24:00.474712Z",
     "iopub.status.idle": "2024-07-27T02:24:00.705779Z",
     "shell.execute_reply": "2024-07-27T02:24:00.705036Z",
     "shell.execute_reply.started": "2024-07-27T02:24:00.475501Z"
    },
    "tags": []
   },
   "outputs": [],
   "source": [
    "import tensorflow as tf\n",
    "import matplotlib.pyplot as plt"
   ]
  },
  {
   "cell_type": "code",
   "execution_count": 27,
   "metadata": {
    "execution": {
     "iopub.execute_input": "2024-07-27T01:24:43.248469Z",
     "iopub.status.busy": "2024-07-27T01:24:43.247387Z",
     "iopub.status.idle": "2024-07-27T01:24:43.308052Z",
     "shell.execute_reply": "2024-07-27T01:24:43.307198Z",
     "shell.execute_reply.started": "2024-07-27T01:24:43.248425Z"
    },
    "tags": []
   },
   "outputs": [],
   "source": [
    "def extract_scalar_data(log_dir):\n",
    "    scalar_data = {}\n",
    "    for event in tf.compat.v1.train.summary_iterator(log_dir):\n",
    "        for value in event.summary.value:\n",
    "            if value.tag not in scalar_data:\n",
    "                scalar_data[value.tag] = {'step': [], 'value': []}\n",
    "            scalar_data[value.tag]['step'].append(event.step)\n",
    "            scalar_data[value.tag]['value'].append(value.simple_value)\n",
    "    return scalar_data\n",
    "\n",
    "log_dir_analyze = base_folder + \"logs/smaller2/20240722-160303/events.out.tfevents.1721628183.gadi-gpu-v100-0097.gadi.nci.org.au.389032.1\"\n",
    "scalar_data = extract_scalar_data(log_dir_analyze)"
   ]
  },
  {
   "cell_type": "code",
   "execution_count": 28,
   "metadata": {
    "execution": {
     "iopub.execute_input": "2024-07-27T01:24:44.877106Z",
     "iopub.status.busy": "2024-07-27T01:24:44.876042Z",
     "iopub.status.idle": "2024-07-27T01:24:44.882544Z",
     "shell.execute_reply": "2024-07-27T01:24:44.881506Z",
     "shell.execute_reply.started": "2024-07-27T01:24:44.877063Z"
    },
    "tags": []
   },
   "outputs": [
    {
     "name": "stdout",
     "output_type": "stream",
     "text": [
      "dict_keys(['Loss/train', 'Accuracy/train', 'Recall/train', 'Precision/train', 'Accuracy/validation', 'Recall/validation', 'Precision/validation'])\n"
     ]
    }
   ],
   "source": [
    "print(scalar_data.keys())"
   ]
  },
  {
   "cell_type": "code",
   "execution_count": 34,
   "metadata": {
    "execution": {
     "iopub.execute_input": "2024-07-27T01:26:13.428288Z",
     "iopub.status.busy": "2024-07-27T01:26:13.427649Z",
     "iopub.status.idle": "2024-07-27T01:26:13.576028Z",
     "shell.execute_reply": "2024-07-27T01:26:13.575372Z",
     "shell.execute_reply.started": "2024-07-27T01:26:13.428245Z"
    },
    "tags": []
   },
   "outputs": [
    {
     "data": {
      "image/png": "[encoded data removed]",
      "text/plain": [
       "<Figure size 1000x600 with 1 Axes>"
      ]
     },
     "metadata": {},
     "output_type": "display_data"
    }
   ],
   "source": [
    "def plot_scalar_data(scalar_data, tag):\n",
    "    plt.figure(figsize=(10, 6))\n",
    "    plt.plot(scalar_data[tag]['step'], scalar_data[tag]['value'], linestyle='-')\n",
    "    plt.xlabel('Step')\n",
    "    plt.ylabel('Value')\n",
    "    plt.title(f'Scalar Data for {tag}')\n",
    "    plt.grid(True)\n",
    "    plt.show()\n",
    "\n",
    "tag_to_plot = 'Precision/validation'\n",
    "plot_scalar_data(scalar_data, tag_to_plot)"
   ]
  },
  {
   "cell_type": "code",
   "execution_count": null,
   "metadata": {},
   "outputs": [],
   "source": []
  },
  {
   "cell_type": "code",
   "execution_count": 25,
   "metadata": {
    "execution": {
     "iopub.execute_input": "2024-07-27T02:05:37.909449Z",
     "iopub.status.busy": "2024-07-27T02:05:37.908376Z",
     "iopub.status.idle": "2024-07-27T02:05:39.632664Z",
     "shell.execute_reply": "2024-07-27T02:05:39.631942Z",
     "shell.execute_reply.started": "2024-07-27T02:05:37.909406Z"
    },
    "tags": []
   },
   "outputs": [
    {
     "name": "stderr",
     "output_type": "stream",
     "text": [
      "2024-07-27 12:05:38.015339: I tensorflow/core/platform/cpu_feature_guard.cc:193] This TensorFlow binary is optimized with oneAPI Deep Neural Network Library (oneDNN) to use the following CPU instructions in performance-critical operations:  AVX2 AVX512F AVX512_VNNI FMA\n",
      "To enable them in other operations, rebuild TensorFlow with the appropriate compiler flags.\n",
      "2024-07-27 12:05:38.155307: I tensorflow/core/util/port.cc:104] oneDNN custom operations are on. You may see slightly different numerical results due to floating-point round-off errors from different computation orders. To turn them off, set the environment variable `TF_ENABLE_ONEDNN_OPTS=0`.\n"
     ]
    }
   ],
   "source": [
    "from torchmetrics.classification import BinaryAUROC"
   ]
  },
  {
   "cell_type": "code",
   "execution_count": 37,
   "metadata": {
    "execution": {
     "iopub.execute_input": "2024-07-27T02:19:48.412708Z",
     "iopub.status.busy": "2024-07-27T02:19:48.412065Z",
     "iopub.status.idle": "2024-07-27T02:19:48.439744Z",
     "shell.execute_reply": "2024-07-27T02:19:48.438947Z",
     "shell.execute_reply.started": "2024-07-27T02:19:48.412665Z"
    },
    "tags": []
   },
   "outputs": [],
   "source": [
    "check_dataloader = DataLoader(CustomDataset(4400, 400), batch_size=1, shuffle=False)"
   ]
  },
  {
   "cell_type": "code",
   "execution_count": 38,
   "metadata": {
    "execution": {
     "iopub.execute_input": "2024-07-27T02:19:48.973458Z",
     "iopub.status.busy": "2024-07-27T02:19:48.972396Z",
     "iopub.status.idle": "2024-07-27T02:22:03.449335Z",
     "shell.execute_reply": "2024-07-27T02:22:03.448119Z",
     "shell.execute_reply.started": "2024-07-27T02:19:48.973419Z"
    }
   },
   "outputs": [],
   "source": [
    "auroc = BinaryAUROC().to(device)\n",
    "with torch.no_grad():\n",
    "    for inputs, labels, file_name in check_dataloader:\n",
    "        inputs, labels = inputs.to(device), labels.to(device).squeeze(0)\n",
    "        y_pred = model(inputs).squeeze(0)\n",
    "        auroc.update(y_pred[mask], labels[mask])\n",
    "        torch.cuda.empty_cache()"
   ]
  },
  {
   "cell_type": "code",
   "execution_count": 39,
   "metadata": {
    "execution": {
     "iopub.execute_input": "2024-07-27T02:22:03.450923Z",
     "iopub.status.busy": "2024-07-27T02:22:03.450725Z",
     "iopub.status.idle": "2024-07-27T02:22:03.505292Z",
     "shell.execute_reply": "2024-07-27T02:22:03.504604Z",
     "shell.execute_reply.started": "2024-07-27T02:22:03.450906Z"
    },
    "tags": []
   },
   "outputs": [
    {
     "name": "stdout",
     "output_type": "stream",
     "text": [
      "AUROC: 0.8634642362594604\n"
     ]
    }
   ],
   "source": [
    "auroc_value = auroc.compute()\n",
    "print(f'AUROC: {auroc_value}')"
   ]
  },
  {
   "cell_type": "code",
   "execution_count": 40,
   "metadata": {
    "execution": {
     "iopub.execute_input": "2024-07-27T02:22:03.505988Z",
     "iopub.status.busy": "2024-07-27T02:22:03.505837Z",
     "iopub.status.idle": "2024-07-27T02:22:03.521859Z",
     "shell.execute_reply": "2024-07-27T02:22:03.521178Z",
     "shell.execute_reply.started": "2024-07-27T02:22:03.505975Z"
    },
    "tags": []
   },
   "outputs": [],
   "source": [
    "check_dataloader = DataLoader(CustomDataset(4400, 40), batch_size=1, shuffle=False)"
   ]
  },
  {
   "cell_type": "code",
   "execution_count": 41,
   "metadata": {
    "execution": {
     "iopub.execute_input": "2024-07-27T02:22:03.523175Z",
     "iopub.status.busy": "2024-07-27T02:22:03.523009Z",
     "iopub.status.idle": "2024-07-27T02:22:16.898095Z",
     "shell.execute_reply": "2024-07-27T02:22:16.897352Z",
     "shell.execute_reply.started": "2024-07-27T02:22:03.523161Z"
    },
    "tags": []
   },
   "outputs": [],
   "source": [
    "all_labels = []\n",
    "all_pred = []\n",
    "all_file_name = []\n",
    "\n",
    "with torch.no_grad():\n",
    "    for inputs, labels, file_name in check_dataloader:\n",
    "        inputs, labels = inputs.to(device), labels.to(device).squeeze(0)\n",
    "\n",
    "        y_pred = model(inputs).squeeze(0)\n",
    "        pred = y_pred > 0.5\n",
    "\n",
    "        pred = pred * mask\n",
    "\n",
    "        all_labels.append(labels.squeeze().cpu())\n",
    "        all_pred.append(pred.squeeze().cpu().int())\n",
    "        all_file_name.append(file_name)\n",
    "\n",
    "        torch.cuda.empty_cache()"
   ]
  },
  {
   "cell_type": "code",
   "execution_count": 42,
   "metadata": {
    "execution": {
     "iopub.execute_input": "2024-07-27T02:22:16.899098Z",
     "iopub.status.busy": "2024-07-27T02:22:16.898912Z",
     "iopub.status.idle": "2024-07-27T02:22:16.903083Z",
     "shell.execute_reply": "2024-07-27T02:22:16.902401Z",
     "shell.execute_reply.started": "2024-07-27T02:22:16.899082Z"
    },
    "tags": []
   },
   "outputs": [
    {
     "name": "stdout",
     "output_type": "stream",
     "text": [
      "('20130516.pt',)\n"
     ]
    }
   ],
   "source": [
    "i = 25\n",
    "print(all_file_name[i])"
   ]
  },
  {
   "cell_type": "code",
   "execution_count": 43,
   "metadata": {
    "execution": {
     "iopub.execute_input": "2024-07-27T02:22:16.903779Z",
     "iopub.status.busy": "2024-07-27T02:22:16.903623Z",
     "iopub.status.idle": "2024-07-27T02:22:16.931006Z",
     "shell.execute_reply": "2024-07-27T02:22:16.930331Z",
     "shell.execute_reply.started": "2024-07-27T02:22:16.903765Z"
    },
    "tags": []
   },
   "outputs": [
    {
     "name": "stdout",
     "output_type": "stream",
     "text": [
      "(tensor([0., 1.]), tensor([270376,   4756]))\n",
      "(tensor([0, 1], dtype=torch.int32), tensor([265076,  10056]))\n"
     ]
    }
   ],
   "source": [
    "print(torch.unique(all_labels[i], return_counts=True))\n",
    "print(torch.unique(all_pred[i], return_counts=True))"
   ]
  },
  {
   "cell_type": "code",
   "execution_count": 46,
   "metadata": {
    "execution": {
     "iopub.execute_input": "2024-07-27T02:24:06.041127Z",
     "iopub.status.busy": "2024-07-27T02:24:06.040491Z",
     "iopub.status.idle": "2024-07-27T02:24:06.280380Z",
     "shell.execute_reply": "2024-07-27T02:24:06.279722Z",
     "shell.execute_reply.started": "2024-07-27T02:24:06.041082Z"
    },
    "tags": []
   },
   "outputs": [
    {
     "data": {
      "text/plain": [
       "<matplotlib.image.AxesImage at 0x14629ffe5670>"
      ]
     },
     "execution_count": 46,
     "metadata": {},
     "output_type": "execute_result"
    },
    {
     "data": {
      "image/png": "[encoded data removed]",
      "text/plain": [
       "<Figure size 640x480 with 2 Axes>"
      ]
     },
     "metadata": {},
     "output_type": "display_data"
    }
   ],
   "source": [
    "_, axes = plt.subplots(nrows=1, ncols=2)\n",
    "axes[0].imshow(all_labels[i])\n",
    "axes[1].imshow(all_pred[i])"
   ]
  },
  {
   "cell_type": "code",
   "execution_count": null,
   "metadata": {},
   "outputs": [],
   "source": []
  },
  {
   "cell_type": "code",
   "execution_count": null,
   "metadata": {},
   "outputs": [],
   "source": []
  }
 ],
 "metadata": {
  "kernelspec": {
   "display_name": "Python 3 (ipykernel)",
   "language": "python",
   "name": "python3"
  },
  "language_info": {
   "codemirror_mode": {
    "name": "ipython",
    "version": 3
   },
   "file_extension": ".py",
   "mimetype": "text/x-python",
   "name": "python",
   "nbconvert_exporter": "python",
   "pygments_lexer": "ipython3",
   "version": "3.9.16"
  }
 },
 "nbformat": 4,
 "nbformat_minor": 4
}
