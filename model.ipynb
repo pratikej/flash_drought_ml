{
 "cells": [
  {
   "cell_type": "code",
   "execution_count": 1,
   "metadata": {},
   "outputs": [],
   "source": [
    "import os\n",
    "import torch\n",
    "from torch.utils.data import Dataset\n",
    "from torch.utils.data import DataLoader\n",
    "from tqdm import tqdm\n",
    "import torch\n",
    "import torch.nn as nn\n",
    "import torch.optim as optim\n",
    "from PIL import Image\n",
    "import torchvision.transforms.functional as tf"
   ]
  },
  {
   "cell_type": "code",
   "execution_count": 2,
   "metadata": {},
   "outputs": [],
   "source": [
    "# Number of Historical Days used as Input!\n",
    "num_days_history = 14"
   ]
  },
  {
   "cell_type": "code",
   "execution_count": 3,
   "metadata": {},
   "outputs": [],
   "source": [
    "class CustomDataset(Dataset):\n",
    "    def __init__(self, start_pt, num_pts):\n",
    "        self.start_pt = start_pt\n",
    "        self.num_pts = num_pts\n",
    "        self.factor = 10\n",
    "\n",
    "        base = \"data/\"\n",
    "        self.input_folder = base + \"input/\"\n",
    "        self.output_folder = base + \"output/\"\n",
    "        self.input_files = os.listdir(self.input_folder)\n",
    "        self.output_files = os.listdir(self.output_folder)\n",
    "\n",
    "        assert (start_pt + num_pts * self.factor) < len(self.output_files)\n",
    "\n",
    "    def __len__(self):\n",
    "        return self.num_pts\n",
    "\n",
    "    def __getitem__(self, idx):\n",
    "        idx = idx * self.factor\n",
    "        input = []\n",
    "        for i in range(num_days_history):\n",
    "            input.append(torch.load(self.input_folder + self.input_files[self.start_pt + idx + 67 - i]))\n",
    "        input = torch.cat(input, 0)\n",
    "        output = torch.load(self.output_folder + self.output_files[self.start_pt + idx])\n",
    "        return input, output"
   ]
  },
  {
   "cell_type": "code",
   "execution_count": 4,
   "metadata": {},
   "outputs": [
    {
     "name": "stdout",
     "output_type": "stream",
     "text": [
      "Feature batch shape: torch.Size([4, 84, 676, 407])\n",
      "Labels batch shape: torch.Size([4, 1, 676, 407])\n"
     ]
    }
   ],
   "source": [
    "dataloader = DataLoader(CustomDataset(0, 12), batch_size=4, shuffle=True)\n",
    "train_features, train_labels = next(iter(dataloader))\n",
    "print(f\"Feature batch shape: {train_features.size()}\")\n",
    "print(f\"Labels batch shape: {train_labels.size()}\")"
   ]
  },
  {
   "cell_type": "markdown",
   "metadata": {},
   "source": [
    "Model"
   ]
  },
  {
   "cell_type": "code",
   "execution_count": 5,
   "metadata": {},
   "outputs": [],
   "source": [
    "class Net(nn.Module):\n",
    "    def __init__(self):\n",
    "        super().__init__()\n",
    "        convs = []\n",
    "        # conv_chs = [6 * num_days_history, 2048, 512, 128, 32, 8] # Can't execute this on local GPU!\n",
    "        conv_chs = [6 * num_days_history, 64, 32, 16, 8]\n",
    "        for i in range(len(conv_chs) - 1):\n",
    "            convs.append(nn.Conv2d(conv_chs[i], conv_chs[i + 1], kernel_size=(3,3), padding=\"same\"))\n",
    "        self.convs = nn.ModuleList(convs)\n",
    "        self.act = nn.ReLU()\n",
    "        # self.LogSoftmax = nn.LogSoftmax(dim=1)\n",
    "        self.final_conv = nn.Conv2d(conv_chs[-1], 1, kernel_size=(3,3), padding=\"same\")\n",
    "        self.sigmoid = nn.Sigmoid()\n",
    "\n",
    "    def forward(self, x):\n",
    "        for conv in self.convs:\n",
    "            x = self.act(conv(x))\n",
    "        # x = self.LogSoftmax(x)\n",
    "        x = self.sigmoid(self.final_conv(x))\n",
    "        return x"
   ]
  },
  {
   "cell_type": "code",
   "execution_count": 6,
   "metadata": {},
   "outputs": [
    {
     "name": "stdout",
     "output_type": "stream",
     "text": [
      "Device: cuda\n"
     ]
    }
   ],
   "source": [
    "device = torch.device(\"cuda\" if torch.cuda.is_available() else \"cpu\")\n",
    "print(\"Device:\", device)"
   ]
  },
  {
   "cell_type": "code",
   "execution_count": 7,
   "metadata": {},
   "outputs": [
    {
     "name": "stdout",
     "output_type": "stream",
     "text": [
      "Number of valid points:, 152,661\n"
     ]
    }
   ],
   "source": [
    "# Building mask to remove invalid areas\n",
    "file_path = \"data/FD/\" + os.listdir(\"data/FD/\")[0]\n",
    "im = Image.open(file_path)\n",
    "mask = tf.to_tensor(im)\n",
    "mask[mask >= 0] = True\n",
    "mask[mask < 0] = False\n",
    "mask = mask.bool().to(device)\n",
    "print(f\"Number of valid points:, {torch.sum(mask):,}\")"
   ]
  },
  {
   "cell_type": "code",
   "execution_count": 8,
   "metadata": {},
   "outputs": [],
   "source": [
    "BATCH_SIZE = 4\n",
    "train_dataloader = DataLoader(CustomDataset(0, 400), batch_size=BATCH_SIZE, shuffle=True)\n",
    "val_dataloader = DataLoader(CustomDataset(400, 40), batch_size=BATCH_SIZE, shuffle=False)\n",
    "test_dataloader = DataLoader(CustomDataset(440, 80), batch_size=BATCH_SIZE, shuffle=False)"
   ]
  },
  {
   "cell_type": "code",
   "execution_count": 9,
   "metadata": {},
   "outputs": [],
   "source": [
    "train_steps = len(train_dataloader.dataset) // BATCH_SIZE\n",
    "batch_mask = mask.repeat(BATCH_SIZE, 1, 1, 1)"
   ]
  },
  {
   "cell_type": "code",
   "execution_count": 10,
   "metadata": {},
   "outputs": [
    {
     "name": "stdout",
     "output_type": "stream",
     "text": [
      "Net(\n",
      "  (convs): ModuleList(\n",
      "    (0): Conv2d(84, 64, kernel_size=(3, 3), stride=(1, 1), padding=same)\n",
      "    (1): Conv2d(64, 32, kernel_size=(3, 3), stride=(1, 1), padding=same)\n",
      "    (2): Conv2d(32, 16, kernel_size=(3, 3), stride=(1, 1), padding=same)\n",
      "    (3): Conv2d(16, 8, kernel_size=(3, 3), stride=(1, 1), padding=same)\n",
      "  )\n",
      "  (act): ReLU()\n",
      "  (final_conv): Conv2d(8, 1, kernel_size=(3, 3), stride=(1, 1), padding=same)\n",
      "  (sigmoid): Sigmoid()\n",
      ")\n"
     ]
    }
   ],
   "source": [
    "weight = 50\n",
    "eps = 1e-8\n",
    "mask_sum = torch.sum(mask)\n",
    "def weightedBCELoss(output, target):\n",
    "    output = torch.clamp(output, eps, 1. - eps)\n",
    "    loss = (weight * (target * torch.log(output))) + ((1 - target) * torch.log(1 - output))\n",
    "    loss = loss * mask\n",
    "    return -torch.sum(loss) / mask_sum\n",
    "\n",
    "model = Net().to(device)\n",
    "# loss_fn = nn.NLLLoss(torch.Tensor([1, 50]).to(device))\n",
    "loss_fn = weightedBCELoss\n",
    "optimizer = optim.Adam(model.parameters(), lr=1e-4)\n",
    "\n",
    "print(model)"
   ]
  },
  {
   "cell_type": "code",
   "execution_count": 11,
   "metadata": {},
   "outputs": [],
   "source": [
    "def get_metrics(dataloader):\n",
    "    model.eval()\n",
    "\n",
    "    correct_num = 0\n",
    "    correct_denom = 0\n",
    "    recall_num = 0\n",
    "    recall_denom = 0\n",
    "    precision_num = 0\n",
    "    precision_denom = 0\n",
    "    for inputs, labels in dataloader:\n",
    "        inputs, labels = inputs.to(device), labels.to(device)\n",
    "        \n",
    "        y_pred = model(inputs)\n",
    "        pred = y_pred > 0.5\n",
    "\n",
    "        pred = pred[batch_mask]\n",
    "        labels = labels[batch_mask]\n",
    "        \n",
    "        correct_num += (pred == labels).float().sum().item()\n",
    "        correct_denom += labels.numel()\n",
    "        recall_num += (pred[labels > 0] == labels[labels > 0]).float().sum().item()\n",
    "        recall_denom += labels[labels > 0].numel()\n",
    "        precision_num += (pred[pred > 0] == labels[pred > 0]).float().sum().item()\n",
    "        precision_denom += labels[pred > 0].numel()\n",
    "    \n",
    "    correct = 0\n",
    "    if correct_denom > 0:\n",
    "        correct = correct_num / correct_denom\n",
    "    recall = 0\n",
    "    if recall_denom > 0:\n",
    "        recall = recall_num / recall_denom\n",
    "    precision = 0\n",
    "    if precision_denom > 0:\n",
    "        precision = precision_num / precision_denom\n",
    "    \n",
    "    return correct, recall, precision"
   ]
  },
  {
   "cell_type": "code",
   "execution_count": 15,
   "metadata": {},
   "outputs": [
    {
     "name": "stderr",
     "output_type": "stream",
     "text": [
      "100%|██████████| 100/100 [10:19<00:00,  6.20s/it]\n"
     ]
    },
    {
     "name": "stdout",
     "output_type": "stream",
     "text": [
      "Epoch: 1, Loss: 3.7438\n",
      "[Training Metrics]   Accuracy: 69.8187, Recall: 81.5737, Precision: 5.1075\n",
      "[Validation Metrics] Accuracy: 69.4475, Recall: 81.6051, Precision: 6.7359\n",
      "Model Value: 0.062222820837959825\n"
     ]
    },
    {
     "name": "stderr",
     "output_type": "stream",
     "text": [
      "100%|██████████| 100/100 [10:16<00:00,  6.16s/it]\n"
     ]
    },
    {
     "name": "stdout",
     "output_type": "stream",
     "text": [
      "Epoch: 2, Loss: 3.7713\n",
      "[Training Metrics]   Accuracy: 70.4100, Recall: 81.5707, Precision: 5.1846\n",
      "[Validation Metrics] Accuracy: 63.5688, Recall: 87.9285, Precision: 6.0846\n",
      "Model Value: 0.0569082535112298\n"
     ]
    },
    {
     "name": "stderr",
     "output_type": "stream",
     "text": [
      "100%|██████████| 100/100 [10:08<00:00,  6.08s/it]\n"
     ]
    },
    {
     "name": "stdout",
     "output_type": "stream",
     "text": [
      "Epoch: 3, Loss: 3.7434\n",
      "[Training Metrics]   Accuracy: 70.4403, Recall: 81.6525, Precision: 5.3107\n",
      "[Validation Metrics] Accuracy: 65.0786, Recall: 87.1413, Precision: 6.2838\n",
      "Model Value: 0.058611064079227726\n"
     ]
    },
    {
     "name": "stderr",
     "output_type": "stream",
     "text": [
      "100%|██████████| 100/100 [10:05<00:00,  6.06s/it]\n"
     ]
    },
    {
     "name": "stdout",
     "output_type": "stream",
     "text": [
      "Epoch: 4, Loss: 3.6962\n",
      "[Training Metrics]   Accuracy: 71.3529, Recall: 80.5405, Precision: 5.4123\n",
      "[Validation Metrics] Accuracy: 60.3570, Recall: 89.6353, Precision: 5.7121\n",
      "Model Value: 0.053698941684617446\n"
     ]
    },
    {
     "name": "stderr",
     "output_type": "stream",
     "text": [
      "100%|██████████| 100/100 [10:04<00:00,  6.04s/it]\n"
     ]
    },
    {
     "name": "stdout",
     "output_type": "stream",
     "text": [
      "Epoch: 5, Loss: 3.7170\n",
      "[Training Metrics]   Accuracy: 70.9508, Recall: 80.5467, Precision: 5.3714\n",
      "[Validation Metrics] Accuracy: 66.6345, Recall: 85.5528, Precision: 6.4562\n",
      "Model Value: 0.060032088864127635\n"
     ]
    },
    {
     "name": "stderr",
     "output_type": "stream",
     "text": [
      "100%|██████████| 100/100 [10:04<00:00,  6.05s/it]\n"
     ]
    },
    {
     "name": "stdout",
     "output_type": "stream",
     "text": [
      "Epoch: 6, Loss: 3.6930\n",
      "[Training Metrics]   Accuracy: 71.3105, Recall: 81.6744, Precision: 5.2704\n",
      "[Validation Metrics] Accuracy: 67.8611, Recall: 84.4757, Precision: 6.6159\n",
      "Model Value: 0.06135370544624717\n"
     ]
    },
    {
     "name": "stderr",
     "output_type": "stream",
     "text": [
      "100%|██████████| 100/100 [10:16<00:00,  6.16s/it]\n"
     ]
    },
    {
     "name": "stdout",
     "output_type": "stream",
     "text": [
      "Epoch: 7, Loss: 3.6781\n",
      "[Training Metrics]   Accuracy: 71.6575, Recall: 80.7326, Precision: 5.4015\n",
      "[Validation Metrics] Accuracy: 58.6048, Recall: 90.9604, Precision: 5.5541\n",
      "Model Value: 0.05234455522694671\n"
     ]
    },
    {
     "name": "stderr",
     "output_type": "stream",
     "text": [
      "100%|██████████| 100/100 [10:12<00:00,  6.12s/it]\n"
     ]
    },
    {
     "name": "stdout",
     "output_type": "stream",
     "text": [
      "Epoch: 8, Loss: 3.7079\n",
      "[Training Metrics]   Accuracy: 70.8256, Recall: 79.0039, Precision: 5.1468\n",
      "[Validation Metrics] Accuracy: 62.1869, Recall: 88.2289, Precision: 5.8912\n",
      "Model Value: 0.05522482071551988\n"
     ]
    },
    {
     "name": "stderr",
     "output_type": "stream",
     "text": [
      "100%|██████████| 100/100 [10:13<00:00,  6.14s/it]\n"
     ]
    },
    {
     "name": "stdout",
     "output_type": "stream",
     "text": [
      "Epoch: 9, Loss: 3.7162\n",
      "[Training Metrics]   Accuracy: 71.4990, Recall: 79.6432, Precision: 5.3784\n",
      "[Validation Metrics] Accuracy: 60.8633, Recall: 90.4668, Precision: 5.8296\n",
      "Model Value: 0.054766942876720445\n"
     ]
    },
    {
     "name": "stderr",
     "output_type": "stream",
     "text": [
      "100%|██████████| 100/100 [10:02<00:00,  6.03s/it]\n"
     ]
    },
    {
     "name": "stdout",
     "output_type": "stream",
     "text": [
      "Epoch: 10, Loss: 3.7203\n",
      "[Training Metrics]   Accuracy: 70.1245, Recall: 81.6306, Precision: 5.0847\n",
      "[Validation Metrics] Accuracy: 74.9329, Recall: 75.6927, Precision: 7.6187\n",
      "Model Value: 0.06922002309941981\n",
      "Saving Model!\n"
     ]
    },
    {
     "name": "stderr",
     "output_type": "stream",
     "text": [
      "100%|██████████| 100/100 [09:56<00:00,  5.96s/it]\n"
     ]
    },
    {
     "name": "stdout",
     "output_type": "stream",
     "text": [
      "Epoch: 11, Loss: 3.7552\n",
      "[Training Metrics]   Accuracy: 70.8304, Recall: 80.2556, Precision: 5.3321\n",
      "[Validation Metrics] Accuracy: 60.2163, Recall: 89.5214, Precision: 5.6865\n",
      "Model Value: 0.05346862882627741\n"
     ]
    },
    {
     "name": "stderr",
     "output_type": "stream",
     "text": [
      "100%|██████████| 100/100 [10:07<00:00,  6.07s/it]\n"
     ]
    },
    {
     "name": "stdout",
     "output_type": "stream",
     "text": [
      "Epoch: 12, Loss: 3.6589\n",
      "[Training Metrics]   Accuracy: 71.6075, Recall: 81.9063, Precision: 5.4326\n",
      "[Validation Metrics] Accuracy: 64.7708, Recall: 86.3369, Precision: 6.1813\n",
      "Model Value: 0.05768353768788015\n"
     ]
    },
    {
     "name": "stderr",
     "output_type": "stream",
     "text": [
      "100%|██████████| 100/100 [10:10<00:00,  6.11s/it]\n"
     ]
    },
    {
     "name": "stdout",
     "output_type": "stream",
     "text": [
      "Epoch: 13, Loss: 3.7259\n",
      "[Training Metrics]   Accuracy: 71.0123, Recall: 80.8578, Precision: 5.4360\n",
      "[Validation Metrics] Accuracy: 64.9783, Recall: 87.1832, Precision: 6.2693\n",
      "Model Value: 0.058487645336534146\n"
     ]
    },
    {
     "name": "stderr",
     "output_type": "stream",
     "text": [
      "100%|██████████| 100/100 [10:03<00:00,  6.04s/it]\n"
     ]
    },
    {
     "name": "stdout",
     "output_type": "stream",
     "text": [
      "Epoch: 14, Loss: 3.7515\n",
      "[Training Metrics]   Accuracy: 71.0375, Recall: 80.8451, Precision: 5.2973\n",
      "[Validation Metrics] Accuracy: 60.5444, Recall: 90.3862, Precision: 5.7804\n",
      "Model Value: 0.054329139418055866\n"
     ]
    },
    {
     "name": "stderr",
     "output_type": "stream",
     "text": [
      "100%|██████████| 100/100 [10:01<00:00,  6.02s/it]\n"
     ]
    },
    {
     "name": "stdout",
     "output_type": "stream",
     "text": [
      "Epoch: 15, Loss: 3.6530\n",
      "[Training Metrics]   Accuracy: 70.6265, Recall: 81.9304, Precision: 5.2712\n",
      "[Validation Metrics] Accuracy: 59.4925, Recall: 90.4237, Precision: 5.6399\n",
      "Model Value: 0.053087754964137805\n"
     ]
    },
    {
     "name": "stderr",
     "output_type": "stream",
     "text": [
      "100%|██████████| 100/100 [09:53<00:00,  5.94s/it]\n"
     ]
    },
    {
     "name": "stdout",
     "output_type": "stream",
     "text": [
      "Epoch: 16, Loss: 3.6954\n",
      "[Training Metrics]   Accuracy: 71.8576, Recall: 79.1929, Precision: 5.3922\n",
      "[Validation Metrics] Accuracy: 57.5348, Recall: 90.7536, Precision: 5.4100\n",
      "Model Value: 0.0510561575836145\n"
     ]
    },
    {
     "name": "stderr",
     "output_type": "stream",
     "text": [
      "100%|██████████| 100/100 [09:53<00:00,  5.94s/it]\n"
     ]
    },
    {
     "name": "stdout",
     "output_type": "stream",
     "text": [
      "Epoch: 17, Loss: 3.6106\n",
      "[Training Metrics]   Accuracy: 72.2625, Recall: 80.4053, Precision: 5.4906\n",
      "[Validation Metrics] Accuracy: 56.2134, Recall: 90.8878, Precision: 5.2614\n",
      "Model Value: 0.04973456978480652\n"
     ]
    },
    {
     "name": "stderr",
     "output_type": "stream",
     "text": [
      "100%|██████████| 100/100 [10:08<00:00,  6.08s/it]\n"
     ]
    },
    {
     "name": "stdout",
     "output_type": "stream",
     "text": [
      "Epoch: 18, Loss: 3.6176\n",
      "[Training Metrics]   Accuracy: 71.9747, Recall: 80.6560, Precision: 5.4386\n",
      "[Validation Metrics] Accuracy: 59.4983, Recall: 89.7836, Precision: 5.6052\n",
      "Model Value: 0.05275841042300038\n"
     ]
    },
    {
     "name": "stderr",
     "output_type": "stream",
     "text": [
      "100%|██████████| 100/100 [10:06<00:00,  6.07s/it]\n"
     ]
    },
    {
     "name": "stdout",
     "output_type": "stream",
     "text": [
      "Epoch: 19, Loss: 3.6910\n",
      "[Training Metrics]   Accuracy: 71.9228, Recall: 79.9785, Precision: 5.4678\n",
      "[Validation Metrics] Accuracy: 61.3572, Recall: 89.7442, Precision: 5.8586\n",
      "Model Value: 0.05499558333540777\n"
     ]
    },
    {
     "name": "stderr",
     "output_type": "stream",
     "text": [
      "100%|██████████| 100/100 [10:13<00:00,  6.14s/it]\n"
     ]
    },
    {
     "name": "stdout",
     "output_type": "stream",
     "text": [
      "Epoch: 20, Loss: 3.6606\n",
      "[Training Metrics]   Accuracy: 71.8312, Recall: 80.2561, Precision: 5.4453\n",
      "[Validation Metrics] Accuracy: 66.2887, Recall: 86.9616, Precision: 6.4852\n",
      "Model Value: 0.060350862805048644\n"
     ]
    },
    {
     "name": "stderr",
     "output_type": "stream",
     "text": [
      "100%|██████████| 100/100 [10:03<00:00,  6.03s/it]\n"
     ]
    },
    {
     "name": "stdout",
     "output_type": "stream",
     "text": [
      "Epoch: 21, Loss: 3.6174\n",
      "[Training Metrics]   Accuracy: 72.3658, Recall: 81.0878, Precision: 5.5746\n",
      "[Validation Metrics] Accuracy: 63.7953, Recall: 88.4437, Precision: 6.1521\n",
      "Model Value: 0.057520338546128195\n"
     ]
    },
    {
     "name": "stderr",
     "output_type": "stream",
     "text": [
      "100%|██████████| 100/100 [10:02<00:00,  6.03s/it]\n"
     ]
    },
    {
     "name": "stdout",
     "output_type": "stream",
     "text": [
      "Epoch: 22, Loss: 3.6076\n",
      "[Training Metrics]   Accuracy: 72.3147, Recall: 80.5472, Precision: 5.4847\n",
      "[Validation Metrics] Accuracy: 69.3849, Recall: 84.7803, Precision: 6.9481\n",
      "Model Value: 0.0642176386150592\n"
     ]
    },
    {
     "name": "stderr",
     "output_type": "stream",
     "text": [
      "100%|██████████| 100/100 [09:57<00:00,  5.98s/it]\n"
     ]
    },
    {
     "name": "stdout",
     "output_type": "stream",
     "text": [
      "Epoch: 23, Loss: 3.5963\n",
      "[Training Metrics]   Accuracy: 72.3397, Recall: 80.9744, Precision: 5.5506\n",
      "[Validation Metrics] Accuracy: 65.7507, Recall: 85.8839, Precision: 6.3197\n",
      "Model Value: 0.05886509444468818\n"
     ]
    },
    {
     "name": "stderr",
     "output_type": "stream",
     "text": [
      "100%|██████████| 100/100 [10:10<00:00,  6.10s/it]\n"
     ]
    },
    {
     "name": "stdout",
     "output_type": "stream",
     "text": [
      "Epoch: 24, Loss: 3.6223\n",
      "[Training Metrics]   Accuracy: 72.8135, Recall: 80.9891, Precision: 5.6128\n",
      "[Validation Metrics] Accuracy: 68.9911, Recall: 84.4178, Precision: 6.8394\n",
      "Model Value: 0.06326850122886392\n"
     ]
    },
    {
     "name": "stderr",
     "output_type": "stream",
     "text": [
      "100%|██████████| 100/100 [10:04<00:00,  6.04s/it]\n"
     ]
    },
    {
     "name": "stdout",
     "output_type": "stream",
     "text": [
      "Epoch: 25, Loss: 3.6069\n",
      "[Training Metrics]   Accuracy: 72.3099, Recall: 81.8873, Precision: 5.5081\n",
      "[Validation Metrics] Accuracy: 70.8503, Recall: 82.8329, Precision: 7.1332\n",
      "Model Value: 0.06567634700878892\n"
     ]
    },
    {
     "name": "stderr",
     "output_type": "stream",
     "text": [
      "100%|██████████| 100/100 [10:09<00:00,  6.10s/it]\n"
     ]
    },
    {
     "name": "stdout",
     "output_type": "stream",
     "text": [
      "Epoch: 26, Loss: 3.6902\n",
      "[Training Metrics]   Accuracy: 72.3580, Recall: 79.0815, Precision: 5.4288\n",
      "[Validation Metrics] Accuracy: 66.3855, Recall: 87.2380, Precision: 6.5208\n",
      "Model Value: 0.06067256531100581\n"
     ]
    },
    {
     "name": "stderr",
     "output_type": "stream",
     "text": [
      "100%|██████████| 100/100 [10:04<00:00,  6.04s/it]\n"
     ]
    },
    {
     "name": "stdout",
     "output_type": "stream",
     "text": [
      "Epoch: 27, Loss: 3.5846\n",
      "[Training Metrics]   Accuracy: 72.7236, Recall: 82.2324, Precision: 5.6971\n",
      "[Validation Metrics] Accuracy: 65.4245, Recall: 87.7174, Precision: 6.3798\n",
      "Model Value: 0.05947245208377672\n"
     ]
    },
    {
     "name": "stderr",
     "output_type": "stream",
     "text": [
      "100%|██████████| 100/100 [09:59<00:00,  6.00s/it]\n"
     ]
    },
    {
     "name": "stdout",
     "output_type": "stream",
     "text": [
      "Epoch: 28, Loss: 3.5978\n",
      "[Training Metrics]   Accuracy: 72.5783, Recall: 81.1969, Precision: 5.4333\n",
      "[Validation Metrics] Accuracy: 72.7917, Recall: 80.9453, Precision: 7.4639\n",
      "Model Value: 0.06833758554214364\n"
     ]
    },
    {
     "name": "stderr",
     "output_type": "stream",
     "text": [
      "100%|██████████| 100/100 [10:05<00:00,  6.05s/it]\n"
     ]
    },
    {
     "name": "stdout",
     "output_type": "stream",
     "text": [
      "Epoch: 29, Loss: 3.5817\n",
      "[Training Metrics]   Accuracy: 73.1534, Recall: 80.7692, Precision: 5.6863\n",
      "[Validation Metrics] Accuracy: 68.5035, Recall: 84.4012, Precision: 6.7382\n",
      "Model Value: 0.06240060066209344\n"
     ]
    },
    {
     "name": "stderr",
     "output_type": "stream",
     "text": [
      " 35%|███▌      | 35/100 [03:25<06:27,  5.96s/it]"
     ]
    }
   ],
   "source": [
    "best_model_value = 0\n",
    "\n",
    "n_epochs = 200\n",
    "nan_found = False\n",
    "for epoch in range(n_epochs):\n",
    "    model.train()\n",
    "\n",
    "    total_train_loss = 0\n",
    "    train_correct = 0\n",
    "    train_recall = 0\n",
    "    train_precision = 0\n",
    "    for inputs, labels in tqdm(train_dataloader):\n",
    "        inputs, labels = inputs.to(device), labels.to(device)\n",
    "        \n",
    "        y_pred = model(inputs)\n",
    "        loss = loss_fn(y_pred, labels)\n",
    "\n",
    "        if torch.isnan(loss):\n",
    "            print(f\"NaN detected in loss!\")\n",
    "            torch.save(model.state_dict(), \"model_nan.pt\")\n",
    "            nan_found = True\n",
    "            break\n",
    "        \n",
    "        optimizer.zero_grad()\n",
    "        loss.backward()\n",
    "\n",
    "        # Check for NaNs in gradients\n",
    "        for name, param in model.named_parameters():\n",
    "            if param.grad is not None:\n",
    "                if torch.isnan(param.grad).any():\n",
    "                    print(f\"NaN detected in gradients of {name}\")\n",
    "                    nan_found = True\n",
    "        if nan_found == True:\n",
    "            break\n",
    "    \n",
    "        optimizer.step()\n",
    "\n",
    "        # Check for NaNs in model weights\n",
    "        for name, param in model.named_parameters():\n",
    "            if torch.isnan(param).any():\n",
    "                print(f\"NaN detected in weights of {name}\")\n",
    "                nan_found = True\n",
    "        if nan_found == True:\n",
    "            break\n",
    "\n",
    "        total_train_loss += loss\n",
    "\n",
    "        # pred = torch.argmax(y_pred, dim=1)\n",
    "        pred = y_pred > 0.5\n",
    "\n",
    "        pred = pred[batch_mask]\n",
    "        labels = labels[batch_mask]\n",
    "        \n",
    "        train_correct += ((pred == labels).float().sum().item() / labels.numel())\n",
    "        train_recall += ((pred[labels > 0] == labels[labels > 0]).float().sum().item() / labels[labels > 0].numel())\n",
    "        if labels[pred > 0].numel() > 0:\n",
    "            train_precision += ((pred[pred > 0] == labels[pred > 0]).float().sum().item() / labels[pred > 0].numel())\n",
    "    \n",
    "    if nan_found == True:\n",
    "        break\n",
    "\n",
    "    avg_train_loss = total_train_loss / train_steps\n",
    "    train_correct = train_correct / train_steps\n",
    "    train_recall = train_recall / train_steps\n",
    "    train_precision = train_precision / train_steps\n",
    "    \n",
    "    print(\"Epoch: %d, Loss: %.4f\" % (epoch+1, avg_train_loss))\n",
    "    print(\"[Training Metrics]   Accuracy: %.4f, Recall: %.4f, Precision: %.4f\" % (100*train_correct, 100*train_recall, 100*train_precision))\n",
    "\n",
    "    val_correct, val_recall, val_precision = get_metrics(val_dataloader)\n",
    "\n",
    "    print(\"[Validation Metrics] Accuracy: %.4f, Recall: %.4f, Precision: %.4f\" % (100*val_correct, 100*val_recall, 100*val_precision))\n",
    "\n",
    "    model_value = 0\n",
    "    if (val_recall + val_precision) > 1e-4:\n",
    "        model_value = (val_recall * val_precision) / (val_recall + val_precision) # F1 Score\n",
    "    print(\"Model Value:\", model_value)\n",
    "    if model_value > best_model_value:\n",
    "        print(\"Saving Model!\")\n",
    "        torch.save(model.state_dict(), \"model.pt\")\n",
    "        best_model_value = model_value"
   ]
  },
  {
   "cell_type": "code",
   "execution_count": 14,
   "metadata": {},
   "outputs": [
    {
     "name": "stdout",
     "output_type": "stream",
     "text": [
      "Best Model Value: 0.06233690708736561\n"
     ]
    }
   ],
   "source": [
    "print(\"Best Model Value:\", model_value)"
   ]
  },
  {
   "cell_type": "code",
   "execution_count": 19,
   "metadata": {},
   "outputs": [],
   "source": [
    "torch.cuda.empty_cache()"
   ]
  },
  {
   "cell_type": "code",
   "execution_count": 15,
   "metadata": {},
   "outputs": [
    {
     "data": {
      "text/plain": [
       "<All keys matched successfully>"
      ]
     },
     "execution_count": 15,
     "metadata": {},
     "output_type": "execute_result"
    }
   ],
   "source": [
    "checkpoint = torch.load(\"model.pt\")\n",
    "model.load_state_dict(checkpoint)"
   ]
  },
  {
   "cell_type": "code",
   "execution_count": 16,
   "metadata": {},
   "outputs": [
    {
     "name": "stdout",
     "output_type": "stream",
     "text": [
      "[Test Metrics] Accuracy: 79.0923, Recall: 75.4540, Precision: 7.6479\n"
     ]
    }
   ],
   "source": [
    "test_correct, test_recall, test_precision = get_metrics(test_dataloader)\n",
    "\n",
    "print(\"[Test Metrics] Accuracy: %.4f, Recall: %.4f, Precision: %.4f\" % (100*test_correct, 100*test_recall, 100*test_precision))"
   ]
  },
  {
   "cell_type": "code",
   "execution_count": 17,
   "metadata": {},
   "outputs": [
    {
     "name": "stdout",
     "output_type": "stream",
     "text": [
      "[Validation Metrics] Accuracy: 74.9329, Recall: 75.6927, Precision: 7.6187\n",
      "Model Value: 0.06922002309941981\n"
     ]
    }
   ],
   "source": [
    "val_correct, val_recall, val_precision = get_metrics(val_dataloader)\n",
    "\n",
    "print(\"[Validation Metrics] Accuracy: %.4f, Recall: %.4f, Precision: %.4f\" % (100*val_correct, 100*val_recall, 100*val_precision))\n",
    "\n",
    "model_value = 0\n",
    "if (val_recall + val_precision) > 1e-4:\n",
    "    model_value = (val_recall * val_precision) / (val_recall + val_precision) # F1 Score\n",
    "print(\"Model Value:\", model_value)"
   ]
  },
  {
   "cell_type": "code",
   "execution_count": 14,
   "metadata": {},
   "outputs": [],
   "source": [
    "torch.save(model.state_dict(), \"model_least_loss.pt\")"
   ]
  },
  {
   "cell_type": "code",
   "execution_count": null,
   "metadata": {},
   "outputs": [],
   "source": []
  }
 ],
 "metadata": {
  "kernelspec": {
   "display_name": "research",
   "language": "python",
   "name": "python3"
  },
  "language_info": {
   "codemirror_mode": {
    "name": "ipython",
    "version": 3
   },
   "file_extension": ".py",
   "mimetype": "text/x-python",
   "name": "python",
   "nbconvert_exporter": "python",
   "pygments_lexer": "ipython3",
   "version": "3.9.18"
  }
 },
 "nbformat": 4,
 "nbformat_minor": 2
}
