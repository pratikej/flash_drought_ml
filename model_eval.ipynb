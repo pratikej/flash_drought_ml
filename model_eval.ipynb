{
 "cells": [
  {
   "cell_type": "markdown",
   "metadata": {},
   "source": [
    "Model Evaluation"
   ]
  },
  {
   "cell_type": "code",
   "execution_count": 1,
   "metadata": {
    "execution": {
     "iopub.execute_input": "2024-08-24T20:59:09.318502Z",
     "iopub.status.busy": "2024-08-24T20:59:09.317657Z",
     "iopub.status.idle": "2024-08-24T20:59:10.387845Z",
     "shell.execute_reply": "2024-08-24T20:59:10.387126Z",
     "shell.execute_reply.started": "2024-08-24T20:59:09.318456Z"
    },
    "tags": []
   },
   "outputs": [],
   "source": [
    "import os\n",
    "import torch\n",
    "from torch.utils.data import Dataset\n",
    "from torch.utils.data import DataLoader\n",
    "from tqdm import tqdm\n",
    "import torch.nn as nn\n",
    "import torch.optim as optim\n",
    "from PIL import Image\n",
    "\n",
    "import torchvision.transforms.functional as tf\n",
    "from torch.utils.tensorboard import SummaryWriter\n",
    "import datetime"
   ]
  },
  {
   "cell_type": "code",
   "execution_count": 2,
   "metadata": {
    "execution": {
     "iopub.execute_input": "2024-08-24T20:59:10.391035Z",
     "iopub.status.busy": "2024-08-24T20:59:10.390885Z",
     "iopub.status.idle": "2024-08-24T20:59:10.397642Z",
     "shell.execute_reply": "2024-08-24T20:59:10.397052Z",
     "shell.execute_reply.started": "2024-08-24T20:59:10.391017Z"
    },
    "tags": []
   },
   "outputs": [
    {
     "data": {
      "text/plain": [
       "<torch._C.Generator at 0x1464c5985c10>"
      ]
     },
     "execution_count": 2,
     "metadata": {},
     "output_type": "execute_result"
    }
   ],
   "source": [
    "torch.manual_seed(2)"
   ]
  },
  {
   "cell_type": "code",
   "execution_count": 3,
   "metadata": {
    "execution": {
     "iopub.execute_input": "2024-08-24T20:59:10.398663Z",
     "iopub.status.busy": "2024-08-24T20:59:10.398513Z",
     "iopub.status.idle": "2024-08-24T20:59:10.402876Z",
     "shell.execute_reply": "2024-08-24T20:59:10.402262Z",
     "shell.execute_reply.started": "2024-08-24T20:59:10.398650Z"
    },
    "tags": []
   },
   "outputs": [],
   "source": [
    "# Number of Historical Days used as Input!\n",
    "num_days_history = 84"
   ]
  },
  {
   "cell_type": "code",
   "execution_count": 4,
   "metadata": {
    "execution": {
     "iopub.execute_input": "2024-08-24T20:59:10.844054Z",
     "iopub.status.busy": "2024-08-24T20:59:10.843855Z",
     "iopub.status.idle": "2024-08-24T20:59:10.847412Z",
     "shell.execute_reply": "2024-08-24T20:59:10.846752Z",
     "shell.execute_reply.started": "2024-08-24T20:59:10.844036Z"
    },
    "tags": []
   },
   "outputs": [],
   "source": [
    "base_folder = \"/g/data/w28/ad0033/GNN/\""
   ]
  },
  {
   "cell_type": "code",
   "execution_count": 5,
   "metadata": {
    "execution": {
     "iopub.execute_input": "2024-08-24T20:59:11.408733Z",
     "iopub.status.busy": "2024-08-24T20:59:11.407960Z",
     "iopub.status.idle": "2024-08-24T20:59:11.413352Z",
     "shell.execute_reply": "2024-08-24T20:59:11.412385Z",
     "shell.execute_reply.started": "2024-08-24T20:59:11.408690Z"
    },
    "tags": []
   },
   "outputs": [],
   "source": [
    "curr_dir = \"flash_drought_ml_retrain/\"\n",
    "curr_folder = base_folder + curr_dir"
   ]
  },
  {
   "cell_type": "code",
   "execution_count": 6,
   "metadata": {
    "execution": {
     "iopub.execute_input": "2024-08-24T20:59:12.030544Z",
     "iopub.status.busy": "2024-08-24T20:59:12.029591Z",
     "iopub.status.idle": "2024-08-24T20:59:12.157281Z",
     "shell.execute_reply": "2024-08-24T20:59:12.156564Z",
     "shell.execute_reply.started": "2024-08-24T20:59:12.030501Z"
    },
    "tags": []
   },
   "outputs": [
    {
     "name": "stdout",
     "output_type": "stream",
     "text": [
      "Device: cuda\n"
     ]
    }
   ],
   "source": [
    "device = torch.device(\"cuda\" if torch.cuda.is_available() else \"cpu\")\n",
    "print(\"Device:\", device)"
   ]
  },
  {
   "cell_type": "code",
   "execution_count": 7,
   "metadata": {
    "execution": {
     "iopub.execute_input": "2024-08-24T20:59:13.415104Z",
     "iopub.status.busy": "2024-08-24T20:59:13.414889Z",
     "iopub.status.idle": "2024-08-24T20:59:14.279556Z",
     "shell.execute_reply": "2024-08-24T20:59:14.278767Z",
     "shell.execute_reply.started": "2024-08-24T20:59:13.415084Z"
    },
    "tags": []
   },
   "outputs": [
    {
     "name": "stdout",
     "output_type": "stream",
     "text": [
      "Number of valid points:, 152,661\n"
     ]
    }
   ],
   "source": [
    "# Building mask to remove invalid areas\n",
    "file_path = base_folder + \"flash_drought_ml/data/FD/20010310.z_score.tif\"\n",
    "im = Image.open(file_path)\n",
    "mask = tf.to_tensor(im)\n",
    "mask[mask >= 0] = True\n",
    "mask[mask < 0] = False\n",
    "mask = mask.bool().to(device)\n",
    "print(f\"Number of valid points:, {torch.sum(mask):,}\")"
   ]
  },
  {
   "cell_type": "code",
   "execution_count": 8,
   "metadata": {
    "execution": {
     "iopub.execute_input": "2024-08-24T20:59:14.280785Z",
     "iopub.status.busy": "2024-08-24T20:59:14.280604Z",
     "iopub.status.idle": "2024-08-24T20:59:14.284093Z",
     "shell.execute_reply": "2024-08-24T20:59:14.283473Z",
     "shell.execute_reply.started": "2024-08-24T20:59:14.280768Z"
    },
    "tags": []
   },
   "outputs": [],
   "source": [
    "image_shape = mask.shape"
   ]
  },
  {
   "cell_type": "code",
   "execution_count": 9,
   "metadata": {
    "execution": {
     "iopub.execute_input": "2024-08-24T20:59:15.722224Z",
     "iopub.status.busy": "2024-08-24T20:59:15.722025Z",
     "iopub.status.idle": "2024-08-24T20:59:15.734574Z",
     "shell.execute_reply": "2024-08-24T20:59:15.733818Z",
     "shell.execute_reply.started": "2024-08-24T20:59:15.722205Z"
    },
    "tags": []
   },
   "outputs": [],
   "source": [
    "class CustomDataset(Dataset):\n",
    "    def __init__(self, start_pt, num_pts):\n",
    "        self.start_pt = start_pt\n",
    "        self.num_pts = num_pts\n",
    "        self.factor = 1\n",
    "\n",
    "        base = base_folder + \"flash_drought_ml/data/\"\n",
    "        self.input_folder = base + \"input/\"\n",
    "        self.output_folder = base + \"output/\"\n",
    "        self.input_files = sorted(os.listdir(self.input_folder))\n",
    "        self.output_files = sorted(os.listdir(self.output_folder))\n",
    "        \n",
    "        months = torch.arange(12)\n",
    "        months_sin = torch.sin(2 * torch.pi * months / 12).unsqueeze(1).unsqueeze(2)\n",
    "        months_cos = torch.cos(2 * torch.pi * months / 12).unsqueeze(1).unsqueeze(2)\n",
    "        self.months_sin = months_sin.repeat(1, image_shape[1], image_shape[2])\n",
    "        self.months_cos = months_cos.repeat(1, image_shape[1], image_shape[2])\n",
    "        \n",
    "        y_axis = torch.arange(image_shape[1]).unsqueeze(0).unsqueeze(2).repeat(1, 1, image_shape[2]) / image_shape[1]\n",
    "        x_axis = torch.arange(image_shape[2]).unsqueeze(0).unsqueeze(1).repeat(1, image_shape[1], 1) / image_shape[2]\n",
    "        self.position = torch.cat([y_axis, x_axis], 0)\n",
    "\n",
    "        end_pt = start_pt + num_pts * self.factor\n",
    "\n",
    "        assert end_pt <= len(self.output_files), f\"{end_pt} > {len(self.output_files)}\"\n",
    "\n",
    "    def __len__(self):\n",
    "        return self.num_pts\n",
    "\n",
    "    def __getitem__(self, idx):\n",
    "        idx = idx * self.factor\n",
    "        output_file_name = self.output_files[self.start_pt + idx]\n",
    "        month = int(output_file_name[4:6])\n",
    "        input = []\n",
    "        for i in range(num_days_history):\n",
    "            # assert self.start_pt + idx + 67 - i >= 0\n",
    "            input.append(torch.load(self.input_folder + self.input_files[self.start_pt + idx + 67 - i]))\n",
    "        input.append(self.months_sin[month-1].unsqueeze(0))\n",
    "        input.append(self.months_cos[month-1].unsqueeze(0))\n",
    "        input.append(self.position)\n",
    "        input = torch.cat(input, 0)\n",
    "        output = torch.load(self.output_folder + output_file_name)\n",
    "        return input, output, output_file_name"
   ]
  },
  {
   "cell_type": "code",
   "execution_count": 10,
   "metadata": {
    "execution": {
     "iopub.execute_input": "2024-08-24T20:59:17.044121Z",
     "iopub.status.busy": "2024-08-24T20:59:17.043670Z",
     "iopub.status.idle": "2024-08-24T20:59:19.049243Z",
     "shell.execute_reply": "2024-08-24T20:59:19.048488Z",
     "shell.execute_reply.started": "2024-08-24T20:59:17.044088Z"
    },
    "tags": []
   },
   "outputs": [
    {
     "name": "stdout",
     "output_type": "stream",
     "text": [
      "Feature batch shape: torch.Size([2, 508, 676, 407])\n",
      "Labels batch shape: torch.Size([2, 1, 676, 407])\n",
      "('20190301.pt', '20190302.pt')\n"
     ]
    }
   ],
   "source": [
    "dataloader = DataLoader(CustomDataset(6475+90, 10), batch_size=2, shuffle=False)\n",
    "train_features, train_labels, file_names = next(iter(dataloader))\n",
    "print(f\"Feature batch shape: {train_features.size()}\")\n",
    "print(f\"Labels batch shape: {train_labels.size()}\")\n",
    "print(file_names)"
   ]
  },
  {
   "cell_type": "markdown",
   "metadata": {},
   "source": [
    "Model"
   ]
  },
  {
   "cell_type": "code",
   "execution_count": 11,
   "metadata": {
    "execution": {
     "iopub.execute_input": "2024-08-24T20:59:19.050436Z",
     "iopub.status.busy": "2024-08-24T20:59:19.050257Z",
     "iopub.status.idle": "2024-08-24T20:59:19.056858Z",
     "shell.execute_reply": "2024-08-24T20:59:19.056210Z",
     "shell.execute_reply.started": "2024-08-24T20:59:19.050419Z"
    },
    "tags": []
   },
   "outputs": [],
   "source": [
    "class Net(nn.Module):\n",
    "    def __init__(self):\n",
    "        super().__init__()\n",
    "        convs = []\n",
    "        bns = []\n",
    "        dropouts = []\n",
    "        conv_chs = [6 * num_days_history + 4, 512, 256, 128, 64, 32, 16, 8]\n",
    "        for i in range(len(conv_chs) - 1):\n",
    "            convs.append(nn.Conv2d(conv_chs[i], conv_chs[i + 1], kernel_size=(3,3), padding=\"same\"))\n",
    "            bns.append(nn.BatchNorm2d(conv_chs[i + 1]))\n",
    "            dropouts.append(nn.Dropout2d(0.1))\n",
    "        self.convs = nn.ModuleList(convs)\n",
    "        self.bns = nn.ModuleList(bns)\n",
    "        self.dropouts = nn.ModuleList(dropouts)\n",
    "        self.act = nn.ReLU()\n",
    "        self.final_conv = nn.Conv2d(conv_chs[-1], 1, kernel_size=(3,3), padding=\"same\")\n",
    "        self.sigmoid = nn.Sigmoid()\n",
    "\n",
    "    def forward(self, x):\n",
    "        for conv, bn, dropout in zip(self.convs, self.bns, self.dropouts):\n",
    "            x = self.act(bn(conv(x)))\n",
    "            x = dropout(x)\n",
    "        x = self.sigmoid(self.final_conv(x))\n",
    "        return x"
   ]
  },
  {
   "cell_type": "code",
   "execution_count": 14,
   "metadata": {
    "execution": {
     "iopub.execute_input": "2024-08-24T20:59:34.803907Z",
     "iopub.status.busy": "2024-08-24T20:59:34.803373Z",
     "iopub.status.idle": "2024-08-24T20:59:34.855417Z",
     "shell.execute_reply": "2024-08-24T20:59:34.854711Z",
     "shell.execute_reply.started": "2024-08-24T20:59:34.803871Z"
    },
    "tags": []
   },
   "outputs": [],
   "source": [
    "BATCH_SIZE = 2\n",
    "train_dataloader = DataLoader(CustomDataset(22, 5410-22), batch_size=BATCH_SIZE, shuffle=False, num_workers=8)\n",
    "val_dataloader = DataLoader(CustomDataset(5410, 6141-5410), batch_size=BATCH_SIZE, shuffle=False, num_workers=8)\n",
    "test_dataloader = DataLoader(CustomDataset(6141, 1826), batch_size=BATCH_SIZE, shuffle=False, num_workers=8)"
   ]
  },
  {
   "cell_type": "code",
   "execution_count": 15,
   "metadata": {
    "execution": {
     "iopub.execute_input": "2024-08-24T20:59:35.840509Z",
     "iopub.status.busy": "2024-08-24T20:59:35.840150Z",
     "iopub.status.idle": "2024-08-24T20:59:35.844394Z",
     "shell.execute_reply": "2024-08-24T20:59:35.843713Z",
     "shell.execute_reply.started": "2024-08-24T20:59:35.840487Z"
    },
    "tags": []
   },
   "outputs": [],
   "source": [
    "train_steps = len(train_dataloader.dataset) // BATCH_SIZE\n",
    "batch_mask = mask.repeat(1, 1, 1, 1)"
   ]
  },
  {
   "cell_type": "code",
   "execution_count": 16,
   "metadata": {
    "execution": {
     "iopub.execute_input": "2024-08-24T20:59:36.569749Z",
     "iopub.status.busy": "2024-08-24T20:59:36.569128Z",
     "iopub.status.idle": "2024-08-24T20:59:36.617092Z",
     "shell.execute_reply": "2024-08-24T20:59:36.616414Z",
     "shell.execute_reply.started": "2024-08-24T20:59:36.569706Z"
    },
    "tags": []
   },
   "outputs": [
    {
     "name": "stdout",
     "output_type": "stream",
     "text": [
      "Net(\n",
      "  (convs): ModuleList(\n",
      "    (0): Conv2d(508, 512, kernel_size=(3, 3), stride=(1, 1), padding=same)\n",
      "    (1): Conv2d(512, 256, kernel_size=(3, 3), stride=(1, 1), padding=same)\n",
      "    (2): Conv2d(256, 128, kernel_size=(3, 3), stride=(1, 1), padding=same)\n",
      "    (3): Conv2d(128, 64, kernel_size=(3, 3), stride=(1, 1), padding=same)\n",
      "    (4): Conv2d(64, 32, kernel_size=(3, 3), stride=(1, 1), padding=same)\n",
      "    (5): Conv2d(32, 16, kernel_size=(3, 3), stride=(1, 1), padding=same)\n",
      "    (6): Conv2d(16, 8, kernel_size=(3, 3), stride=(1, 1), padding=same)\n",
      "  )\n",
      "  (bns): ModuleList(\n",
      "    (0): BatchNorm2d(512, eps=1e-05, momentum=0.1, affine=True, track_running_stats=True)\n",
      "    (1): BatchNorm2d(256, eps=1e-05, momentum=0.1, affine=True, track_running_stats=True)\n",
      "    (2): BatchNorm2d(128, eps=1e-05, momentum=0.1, affine=True, track_running_stats=True)\n",
      "    (3): BatchNorm2d(64, eps=1e-05, momentum=0.1, affine=True, track_running_stats=True)\n",
      "    (4): BatchNorm2d(32, eps=1e-05, momentum=0.1, affine=True, track_running_stats=True)\n",
      "    (5): BatchNorm2d(16, eps=1e-05, momentum=0.1, affine=True, track_running_stats=True)\n",
      "    (6): BatchNorm2d(8, eps=1e-05, momentum=0.1, affine=True, track_running_stats=True)\n",
      "  )\n",
      "  (dropouts): ModuleList(\n",
      "    (0): Dropout2d(p=0.1, inplace=False)\n",
      "    (1): Dropout2d(p=0.1, inplace=False)\n",
      "    (2): Dropout2d(p=0.1, inplace=False)\n",
      "    (3): Dropout2d(p=0.1, inplace=False)\n",
      "    (4): Dropout2d(p=0.1, inplace=False)\n",
      "    (5): Dropout2d(p=0.1, inplace=False)\n",
      "    (6): Dropout2d(p=0.1, inplace=False)\n",
      "  )\n",
      "  (act): ReLU()\n",
      "  (final_conv): Conv2d(8, 1, kernel_size=(3, 3), stride=(1, 1), padding=same)\n",
      "  (sigmoid): Sigmoid()\n",
      ")\n"
     ]
    }
   ],
   "source": [
    "model = Net().to(device)\n",
    "print(model)"
   ]
  },
  {
   "cell_type": "code",
   "execution_count": 17,
   "metadata": {
    "execution": {
     "iopub.execute_input": "2024-08-24T20:59:37.047026Z",
     "iopub.status.busy": "2024-08-24T20:59:37.046816Z",
     "iopub.status.idle": "2024-08-24T20:59:37.056004Z",
     "shell.execute_reply": "2024-08-24T20:59:37.055326Z",
     "shell.execute_reply.started": "2024-08-24T20:59:37.047007Z"
    },
    "tags": []
   },
   "outputs": [],
   "source": [
    "def get_metrics(dataloader, threshold=0.5):\n",
    "    model.eval()\n",
    "\n",
    "    correct_num = 0\n",
    "    correct_denom = 0\n",
    "    recall_num = 0\n",
    "    recall_denom = 0\n",
    "    precision_num = 0\n",
    "    precision_denom = 0\n",
    "    recall_neg_num = 0\n",
    "    recall_neg_denom = 0\n",
    "    with torch.no_grad():\n",
    "        for inputs, labels, _ in dataloader:\n",
    "            inputs, labels = inputs.to(device), labels.to(device)\n",
    "            \n",
    "            y_pred = model(inputs)\n",
    "            pred = y_pred > threshold\n",
    "\n",
    "            curr_mask = batch_mask.repeat(pred.shape[0], 1, 1, 1)\n",
    "            pred = pred[curr_mask]\n",
    "            labels = labels[curr_mask]\n",
    "            \n",
    "            correct_num += (pred == labels).float().sum().item()\n",
    "            correct_denom += labels.numel()\n",
    "            recall_num += (pred[labels == 1] == labels[labels == 1]).float().sum().item()\n",
    "            recall_denom += labels[labels == 1].numel()\n",
    "            precision_num += (pred[pred == 1] == labels[pred == 1]).float().sum().item()\n",
    "            precision_denom += labels[pred == 1].numel()\n",
    "            recall_neg_num += (pred[labels == 0] == labels[labels == 0]).float().sum().item()\n",
    "            recall_neg_denom += labels[labels == 0].numel()\n",
    "        \n",
    "        correct = 0\n",
    "        if correct_denom > 0:\n",
    "            correct = correct_num / correct_denom\n",
    "        recall = 0\n",
    "        if recall_denom > 0:\n",
    "            recall = recall_num / recall_denom\n",
    "        precision = 0\n",
    "        if precision_denom > 0:\n",
    "            precision = precision_num / precision_denom\n",
    "        recall_neg = 0\n",
    "        if recall_neg_denom > 0:\n",
    "            recall_neg = recall_neg_num / recall_neg_denom\n",
    "        \n",
    "        torch.cuda.empty_cache()\n",
    "        \n",
    "        return correct, recall, precision, recall_neg"
   ]
  },
  {
   "cell_type": "code",
   "execution_count": 18,
   "metadata": {
    "execution": {
     "iopub.execute_input": "2024-08-24T20:59:37.917175Z",
     "iopub.status.busy": "2024-08-24T20:59:37.916450Z",
     "iopub.status.idle": "2024-08-24T20:59:37.945892Z",
     "shell.execute_reply": "2024-08-24T20:59:37.945197Z",
     "shell.execute_reply.started": "2024-08-24T20:59:37.917132Z"
    },
    "tags": []
   },
   "outputs": [
    {
     "data": {
      "text/plain": [
       "Net(\n",
       "  (convs): ModuleList(\n",
       "    (0): Conv2d(508, 512, kernel_size=(3, 3), stride=(1, 1), padding=same)\n",
       "    (1): Conv2d(512, 256, kernel_size=(3, 3), stride=(1, 1), padding=same)\n",
       "    (2): Conv2d(256, 128, kernel_size=(3, 3), stride=(1, 1), padding=same)\n",
       "    (3): Conv2d(128, 64, kernel_size=(3, 3), stride=(1, 1), padding=same)\n",
       "    (4): Conv2d(64, 32, kernel_size=(3, 3), stride=(1, 1), padding=same)\n",
       "    (5): Conv2d(32, 16, kernel_size=(3, 3), stride=(1, 1), padding=same)\n",
       "    (6): Conv2d(16, 8, kernel_size=(3, 3), stride=(1, 1), padding=same)\n",
       "  )\n",
       "  (bns): ModuleList(\n",
       "    (0): BatchNorm2d(512, eps=1e-05, momentum=0.1, affine=True, track_running_stats=True)\n",
       "    (1): BatchNorm2d(256, eps=1e-05, momentum=0.1, affine=True, track_running_stats=True)\n",
       "    (2): BatchNorm2d(128, eps=1e-05, momentum=0.1, affine=True, track_running_stats=True)\n",
       "    (3): BatchNorm2d(64, eps=1e-05, momentum=0.1, affine=True, track_running_stats=True)\n",
       "    (4): BatchNorm2d(32, eps=1e-05, momentum=0.1, affine=True, track_running_stats=True)\n",
       "    (5): BatchNorm2d(16, eps=1e-05, momentum=0.1, affine=True, track_running_stats=True)\n",
       "    (6): BatchNorm2d(8, eps=1e-05, momentum=0.1, affine=True, track_running_stats=True)\n",
       "  )\n",
       "  (dropouts): ModuleList(\n",
       "    (0): Dropout2d(p=0.1, inplace=False)\n",
       "    (1): Dropout2d(p=0.1, inplace=False)\n",
       "    (2): Dropout2d(p=0.1, inplace=False)\n",
       "    (3): Dropout2d(p=0.1, inplace=False)\n",
       "    (4): Dropout2d(p=0.1, inplace=False)\n",
       "    (5): Dropout2d(p=0.1, inplace=False)\n",
       "    (6): Dropout2d(p=0.1, inplace=False)\n",
       "  )\n",
       "  (act): ReLU()\n",
       "  (final_conv): Conv2d(8, 1, kernel_size=(3, 3), stride=(1, 1), padding=same)\n",
       "  (sigmoid): Sigmoid()\n",
       ")"
      ]
     },
     "execution_count": 18,
     "metadata": {},
     "output_type": "execute_result"
    }
   ],
   "source": [
    "checkpoint = torch.load(curr_folder + \"model.pt\")\n",
    "model.load_state_dict(checkpoint)\n",
    "model.eval()"
   ]
  },
  {
   "cell_type": "code",
   "execution_count": 19,
   "metadata": {
    "execution": {
     "iopub.execute_input": "2024-08-24T20:59:38.774328Z",
     "iopub.status.busy": "2024-08-24T20:59:38.773976Z",
     "iopub.status.idle": "2024-08-24T20:59:38.778380Z",
     "shell.execute_reply": "2024-08-24T20:59:38.777668Z",
     "shell.execute_reply.started": "2024-08-24T20:59:38.774304Z"
    },
    "tags": []
   },
   "outputs": [],
   "source": [
    "def calc_f1_score(precision, recall):\n",
    "    if (recall + precision) > 1e-6:\n",
    "        return 2 * (recall * precision) / (recall + precision)\n",
    "    return 0"
   ]
  },
  {
   "cell_type": "code",
   "execution_count": 20,
   "metadata": {
    "execution": {
     "iopub.execute_input": "2024-08-24T20:59:39.634808Z",
     "iopub.status.busy": "2024-08-24T20:59:39.634213Z",
     "iopub.status.idle": "2024-08-24T20:59:39.639911Z",
     "shell.execute_reply": "2024-08-24T20:59:39.638933Z",
     "shell.execute_reply.started": "2024-08-24T20:59:39.634767Z"
    },
    "tags": []
   },
   "outputs": [],
   "source": [
    "def calc_balanced_accuracy(recall, recall_neg):\n",
    "    return (recall + recall_neg) / 2"
   ]
  },
  {
   "cell_type": "code",
   "execution_count": 22,
   "metadata": {
    "execution": {
     "iopub.execute_input": "2024-08-24T21:02:51.804411Z",
     "iopub.status.busy": "2024-08-24T21:02:51.803786Z",
     "iopub.status.idle": "2024-08-24T21:06:59.268389Z",
     "shell.execute_reply": "2024-08-24T21:06:59.267153Z",
     "shell.execute_reply.started": "2024-08-24T21:02:51.804365Z"
    },
    "tags": []
   },
   "outputs": [
    {
     "name": "stdout",
     "output_type": "stream",
     "text": [
      "[Validation Metrics] Accuracy: 96.2453, Recall: 63.6292, Precision: 29.1779, Recall_Neg: 96.9000\n",
      "Model Value: 0.4000910588381837\n"
     ]
    }
   ],
   "source": [
    "val_correct, val_recall, val_precision, val_recall_neg = get_metrics(val_dataloader)\n",
    "\n",
    "print(\"[Validation Metrics] Accuracy: %.4f, Recall: %.4f, Precision: %.4f, Recall_Neg: %.4f\" % (100*val_correct, 100*val_recall, 100*val_precision, 100*val_recall_neg))\n",
    "\n",
    "print(\"Model Value:\", calc_f1_score(val_recall, val_precision))"
   ]
  },
  {
   "cell_type": "code",
   "execution_count": 23,
   "metadata": {
    "execution": {
     "iopub.execute_input": "2024-08-24T21:06:59.271349Z",
     "iopub.status.busy": "2024-08-24T21:06:59.270753Z",
     "iopub.status.idle": "2024-08-24T21:17:12.787719Z",
     "shell.execute_reply": "2024-08-24T21:17:12.786481Z",
     "shell.execute_reply.started": "2024-08-24T21:06:59.271302Z"
    },
    "tags": []
   },
   "outputs": [
    {
     "name": "stdout",
     "output_type": "stream",
     "text": [
      "[Test Metrics] Accuracy: 94.5238, Recall: 64.8501, Precision: 29.2385, Recall_Neg: 95.3946\n"
     ]
    }
   ],
   "source": [
    "test_correct, test_recall, test_precision, test_recall_neg = get_metrics(test_dataloader)\n",
    "\n",
    "print(\"[Test Metrics] Accuracy: %.4f, Recall: %.4f, Precision: %.4f, Recall_Neg: %.4f\" % (100*test_correct, 100*test_recall, 100*test_precision, 100*test_recall_neg))"
   ]
  },
  {
   "cell_type": "code",
   "execution_count": 24,
   "metadata": {
    "execution": {
     "iopub.execute_input": "2024-08-24T21:17:12.790414Z",
     "iopub.status.busy": "2024-08-24T21:17:12.789560Z",
     "iopub.status.idle": "2024-08-24T21:17:12.796300Z",
     "shell.execute_reply": "2024-08-24T21:17:12.795846Z",
     "shell.execute_reply.started": "2024-08-24T21:17:12.790365Z"
    },
    "tags": []
   },
   "outputs": [
    {
     "data": {
      "text/plain": [
       "0.4030502569182612"
      ]
     },
     "execution_count": 24,
     "metadata": {},
     "output_type": "execute_result"
    }
   ],
   "source": [
    "calc_f1_score(test_precision, test_recall)"
   ]
  },
  {
   "cell_type": "code",
   "execution_count": 25,
   "metadata": {
    "execution": {
     "iopub.execute_input": "2024-08-24T21:17:12.798057Z",
     "iopub.status.busy": "2024-08-24T21:17:12.797799Z",
     "iopub.status.idle": "2024-08-24T21:17:12.806630Z",
     "shell.execute_reply": "2024-08-24T21:17:12.806047Z",
     "shell.execute_reply.started": "2024-08-24T21:17:12.798033Z"
    },
    "tags": []
   },
   "outputs": [
    {
     "data": {
      "text/plain": [
       "0.8012236373337891"
      ]
     },
     "execution_count": 25,
     "metadata": {},
     "output_type": "execute_result"
    }
   ],
   "source": [
    "calc_balanced_accuracy(test_recall, test_recall_neg)"
   ]
  },
  {
   "cell_type": "code",
   "execution_count": null,
   "metadata": {
    "execution": {
     "iopub.status.busy": "2024-08-24T21:02:48.946955Z",
     "iopub.status.idle": "2024-08-24T21:02:48.947952Z",
     "shell.execute_reply": "2024-08-24T21:02:48.947676Z",
     "shell.execute_reply.started": "2024-08-24T21:02:48.947642Z"
    },
    "tags": []
   },
   "outputs": [],
   "source": [
    "train_correct, train_recall, train_precision, train_recall_neg = get_metrics(train_dataloader)\n",
    "\n",
    "print(\"[Train Metrics] Accuracy: %.4f, Recall: %.4f, Precision: %.4f, Recall_Neg: %.4f\" % (100*train_correct, 100*train_recall, 100*train_precision, 100*train_recall_neg))"
   ]
  },
  {
   "cell_type": "code",
   "execution_count": 26,
   "metadata": {
    "execution": {
     "iopub.execute_input": "2024-08-24T21:17:12.807903Z",
     "iopub.status.busy": "2024-08-24T21:17:12.807572Z",
     "iopub.status.idle": "2024-08-24T21:17:19.300153Z",
     "shell.execute_reply": "2024-08-24T21:17:19.299435Z",
     "shell.execute_reply.started": "2024-08-24T21:17:12.807872Z"
    },
    "tags": []
   },
   "outputs": [
    {
     "name": "stderr",
     "output_type": "stream",
     "text": [
      "2024-08-25 07:17:12.997193: I tensorflow/core/platform/cpu_feature_guard.cc:193] This TensorFlow binary is optimized with oneAPI Deep Neural Network Library (oneDNN) to use the following CPU instructions in performance-critical operations:  AVX2 AVX512F AVX512_VNNI FMA\n",
      "To enable them in other operations, rebuild TensorFlow with the appropriate compiler flags.\n",
      "2024-08-25 07:17:13.767314: I tensorflow/core/util/port.cc:104] oneDNN custom operations are on. You may see slightly different numerical results due to floating-point round-off errors from different computation orders. To turn them off, set the environment variable `TF_ENABLE_ONEDNN_OPTS=0`.\n"
     ]
    }
   ],
   "source": [
    "import tensorflow as tf\n",
    "import matplotlib.pyplot as plt"
   ]
  },
  {
   "cell_type": "code",
   "execution_count": 23,
   "metadata": {
    "execution": {
     "iopub.execute_input": "2024-07-31T05:30:57.715964Z",
     "iopub.status.busy": "2024-07-31T05:30:57.715647Z",
     "iopub.status.idle": "2024-07-31T05:30:57.763597Z",
     "shell.execute_reply": "2024-07-31T05:30:57.762871Z",
     "shell.execute_reply.started": "2024-07-31T05:30:57.715945Z"
    },
    "tags": []
   },
   "outputs": [
    {
     "name": "stdout",
     "output_type": "stream",
     "text": [
      "WARNING:tensorflow:From /opt/conda/envs/mlenv/lib/python3.9/site-packages/tensorflow/python/summary/summary_iterator.py:27: tf_record_iterator (from tensorflow.python.lib.io.tf_record) is deprecated and will be removed in a future version.\n",
      "Instructions for updating:\n",
      "Use eager execution and: \n",
      "`tf.data.TFRecordDataset(path)`\n"
     ]
    }
   ],
   "source": [
    "def extract_scalar_data(log_dir):\n",
    "    scalar_data = {}\n",
    "    for event in tf.compat.v1.train.summary_iterator(log_dir):\n",
    "        for value in event.summary.value:\n",
    "            if value.tag not in scalar_data:\n",
    "                scalar_data[value.tag] = {'step': [], 'value': []}\n",
    "            scalar_data[value.tag]['step'].append(event.step)\n",
    "            scalar_data[value.tag]['value'].append(value.simple_value)\n",
    "    return scalar_data\n",
    "\n",
    "log_dir_analyze = base_folder + \"logs/smaller2/20240722-160303/events.out.tfevents.1721628183.gadi-gpu-v100-0097.gadi.nci.org.au.389032.1\"\n",
    "scalar_data = extract_scalar_data(log_dir_analyze)"
   ]
  },
  {
   "cell_type": "code",
   "execution_count": 24,
   "metadata": {
    "execution": {
     "iopub.execute_input": "2024-07-31T05:30:57.764540Z",
     "iopub.status.busy": "2024-07-31T05:30:57.764353Z",
     "iopub.status.idle": "2024-07-31T05:30:57.768634Z",
     "shell.execute_reply": "2024-07-31T05:30:57.767961Z",
     "shell.execute_reply.started": "2024-07-31T05:30:57.764524Z"
    },
    "tags": []
   },
   "outputs": [
    {
     "name": "stdout",
     "output_type": "stream",
     "text": [
      "dict_keys(['Loss/train', 'Accuracy/train', 'Recall/train', 'Precision/train', 'Accuracy/validation', 'Recall/validation', 'Precision/validation'])\n"
     ]
    }
   ],
   "source": [
    "print(scalar_data.keys())"
   ]
  },
  {
   "cell_type": "code",
   "execution_count": 25,
   "metadata": {
    "execution": {
     "iopub.execute_input": "2024-07-31T05:30:57.769428Z",
     "iopub.status.busy": "2024-07-31T05:30:57.769258Z",
     "iopub.status.idle": "2024-07-31T05:30:58.032499Z",
     "shell.execute_reply": "2024-07-31T05:30:58.031858Z",
     "shell.execute_reply.started": "2024-07-31T05:30:57.769412Z"
    },
    "tags": []
   },
   "outputs": [
    {
     "data": {
      "image/png": "[encoded data removed]",
      "text/plain": [
       "<Figure size 1000x600 with 1 Axes>"
      ]
     },
     "metadata": {},
     "output_type": "display_data"
    }
   ],
   "source": [
    "def plot_scalar_data(scalar_data, tag):\n",
    "    plt.figure(figsize=(10, 6))\n",
    "    plt.plot(scalar_data[tag]['step'], scalar_data[tag]['value'], linestyle='-')\n",
    "    plt.xlabel('Step')\n",
    "    plt.ylabel('Value')\n",
    "    plt.title(f'Scalar Data for {tag}')\n",
    "    plt.grid(True)\n",
    "    plt.show()\n",
    "\n",
    "tag_to_plot = 'Precision/validation'\n",
    "plot_scalar_data(scalar_data, tag_to_plot)"
   ]
  },
  {
   "cell_type": "markdown",
   "metadata": {},
   "source": [
    "Calculate Metrics"
   ]
  },
  {
   "cell_type": "code",
   "execution_count": 27,
   "metadata": {
    "execution": {
     "iopub.execute_input": "2024-08-24T21:17:19.301243Z",
     "iopub.status.busy": "2024-08-24T21:17:19.300927Z",
     "iopub.status.idle": "2024-08-24T21:17:20.650739Z",
     "shell.execute_reply": "2024-08-24T21:17:20.650037Z",
     "shell.execute_reply.started": "2024-08-24T21:17:19.301226Z"
    },
    "tags": []
   },
   "outputs": [],
   "source": [
    "from torchmetrics.classification import BinaryAUROC\n",
    "from sklearn.metrics import precision_recall_curve, auc, f1_score\n",
    "import numpy as np"
   ]
  },
  {
   "cell_type": "code",
   "execution_count": 28,
   "metadata": {
    "execution": {
     "iopub.execute_input": "2024-08-24T21:17:20.651645Z",
     "iopub.status.busy": "2024-08-24T21:17:20.651470Z",
     "iopub.status.idle": "2024-08-24T21:17:20.682245Z",
     "shell.execute_reply": "2024-08-24T21:17:20.681544Z",
     "shell.execute_reply.started": "2024-08-24T21:17:20.651629Z"
    },
    "tags": []
   },
   "outputs": [],
   "source": [
    "check_dataloader = DataLoader(CustomDataset(6141, 1826), batch_size=1, shuffle=False, num_workers=8)"
   ]
  },
  {
   "cell_type": "code",
   "execution_count": 29,
   "metadata": {
    "execution": {
     "iopub.execute_input": "2024-08-24T21:17:20.683209Z",
     "iopub.status.busy": "2024-08-24T21:17:20.683032Z",
     "iopub.status.idle": "2024-08-24T21:28:02.962140Z",
     "shell.execute_reply": "2024-08-24T21:28:02.961245Z",
     "shell.execute_reply.started": "2024-08-24T21:17:20.683194Z"
    },
    "tags": []
   },
   "outputs": [],
   "source": [
    "auroc = BinaryAUROC().to(device)\n",
    "\n",
    "all_y_preds = []\n",
    "all_labels = []\n",
    "\n",
    "with torch.no_grad():\n",
    "    for inputs, labels, _ in check_dataloader:\n",
    "        inputs, labels = inputs.to(device), labels.to(device).squeeze(0)\n",
    "        y_preds = model(inputs).squeeze(0)\n",
    "        y_preds_final, labels_final = y_preds[mask], labels[mask]\n",
    "        \n",
    "        auroc.update(y_preds_final, labels_final)\n",
    "        all_y_preds.append(y_preds_final.cpu().numpy())\n",
    "        all_labels.append(labels_final.cpu().numpy())\n",
    "        \n",
    "        torch.cuda.empty_cache()\n",
    "\n",
    "all_y_preds = np.concatenate(all_y_preds)\n",
    "all_labels = np.concatenate(all_labels)"
   ]
  },
  {
   "cell_type": "code",
   "execution_count": 30,
   "metadata": {
    "execution": {
     "iopub.execute_input": "2024-08-24T21:28:02.964191Z",
     "iopub.status.busy": "2024-08-24T21:28:02.963983Z",
     "iopub.status.idle": "2024-08-24T21:28:03.192390Z",
     "shell.execute_reply": "2024-08-24T21:28:03.191700Z",
     "shell.execute_reply.started": "2024-08-24T21:28:02.964173Z"
    },
    "tags": []
   },
   "outputs": [
    {
     "name": "stdout",
     "output_type": "stream",
     "text": [
      "AUROC: 0.938366174697876\n"
     ]
    }
   ],
   "source": [
    "auroc_value = auroc.compute()\n",
    "print(f'AUROC: {auroc_value}')"
   ]
  },
  {
   "cell_type": "code",
   "execution_count": 31,
   "metadata": {
    "execution": {
     "iopub.execute_input": "2024-08-24T21:28:03.194192Z",
     "iopub.status.busy": "2024-08-24T21:28:03.193955Z",
     "iopub.status.idle": "2024-08-24T21:29:26.956675Z",
     "shell.execute_reply": "2024-08-24T21:29:26.955936Z",
     "shell.execute_reply.started": "2024-08-24T21:28:03.194176Z"
    },
    "tags": []
   },
   "outputs": [
    {
     "name": "stdout",
     "output_type": "stream",
     "text": [
      "PR AUC: 0.41302200048136267\n"
     ]
    }
   ],
   "source": [
    "precision, recall, _ = precision_recall_curve(all_labels, all_y_preds)\n",
    "pr_auc = auc(recall, precision)\n",
    "print(f'PR AUC: {pr_auc}')"
   ]
  },
  {
   "cell_type": "code",
   "execution_count": 32,
   "metadata": {
    "execution": {
     "iopub.execute_input": "2024-08-24T21:29:26.957613Z",
     "iopub.status.busy": "2024-08-24T21:29:26.957439Z",
     "iopub.status.idle": "2024-08-24T21:31:21.460253Z",
     "shell.execute_reply": "2024-08-24T21:31:21.459368Z",
     "shell.execute_reply.started": "2024-08-24T21:29:26.957598Z"
    },
    "tags": []
   },
   "outputs": [
    {
     "name": "stdout",
     "output_type": "stream",
     "text": [
      "PR AUC Random: 0.028508463923490678\n"
     ]
    }
   ],
   "source": [
    "# Random Model\n",
    "all_y_preds_random = np.random.rand(len(all_y_preds))\n",
    "precision_random, recall_random, _ = precision_recall_curve(all_labels, all_y_preds_random)\n",
    "pr_auc_random = auc(recall_random, precision_random)\n",
    "print(f'PR AUC Random: {pr_auc_random}')"
   ]
  },
  {
   "cell_type": "code",
   "execution_count": 33,
   "metadata": {
    "execution": {
     "iopub.execute_input": "2024-08-24T21:31:21.461455Z",
     "iopub.status.busy": "2024-08-24T21:31:21.461268Z",
     "iopub.status.idle": "2024-08-24T21:36:29.832909Z",
     "shell.execute_reply": "2024-08-24T21:36:29.832110Z",
     "shell.execute_reply.started": "2024-08-24T21:31:21.461438Z"
    },
    "tags": []
   },
   "outputs": [
    {
     "data": {
      "image/png": "[encoded data removed]",
      "text/plain": [
       "<Figure size 800x600 with 1 Axes>"
      ]
     },
     "metadata": {},
     "output_type": "display_data"
    }
   ],
   "source": [
    "plt.figure(figsize=(8, 6))\n",
    "plt.plot(recall, precision, marker='.', label='Flash Drought Model')\n",
    "plt.plot(recall_random, precision_random, marker='.', label='Random Model', linestyle='--')\n",
    "plt.xlabel('Recall')\n",
    "plt.ylabel('Precision')\n",
    "plt.title('Precision-Recall Curve')\n",
    "plt.legend()\n",
    "plt.grid()\n",
    "plt.show()"
   ]
  },
  {
   "cell_type": "code",
   "execution_count": 38,
   "metadata": {
    "execution": {
     "iopub.execute_input": "2024-08-24T21:55:08.127664Z",
     "iopub.status.busy": "2024-08-24T21:55:08.127105Z",
     "iopub.status.idle": "2024-08-24T21:55:08.219108Z",
     "shell.execute_reply": "2024-08-24T21:55:08.218376Z",
     "shell.execute_reply.started": "2024-08-24T21:55:08.127624Z"
    },
    "tags": []
   },
   "outputs": [],
   "source": [
    "year_wise_dataloader = []\n",
    "start_position = 6141\n",
    "for i in range(5):\n",
    "    count = 365\n",
    "    if (i + 2018) % 4 == 0:\n",
    "        count += 1\n",
    "    year_wise_dataloader.append(DataLoader(CustomDataset(start_position, count), batch_size=2, shuffle=False, num_workers=8))\n",
    "    start_position += count\n",
    "    # _, _, file_names = next(iter(year_wise_dataloader[-1]))\n",
    "    # print(file_names)"
   ]
  },
  {
   "cell_type": "code",
   "execution_count": 39,
   "metadata": {
    "execution": {
     "iopub.execute_input": "2024-08-24T21:55:11.417825Z",
     "iopub.status.busy": "2024-08-24T21:55:11.417013Z",
     "iopub.status.idle": "2024-08-24T22:05:51.036283Z",
     "shell.execute_reply": "2024-08-24T22:05:51.034715Z",
     "shell.execute_reply.started": "2024-08-24T21:55:11.417780Z"
    },
    "tags": []
   },
   "outputs": [
    {
     "name": "stdout",
     "output_type": "stream",
     "text": [
      "[Year 2002] Accuracy: 95.0184, Recall: 67.1256, Precision: 39.3738, Recall_Neg: 96.0771, F1_Score: 0.4963\n",
      "[Year 2003] Accuracy: 92.0461, Recall: 66.5084, Precision: 33.5376, Recall_Neg: 93.3371, F1_Score: 0.4459\n",
      "[Year 2004] Accuracy: 94.3191, Recall: 59.4360, Precision: 29.9045, Recall_Neg: 95.4567, F1_Score: 0.3979\n",
      "[Year 2005] Accuracy: 96.3051, Recall: 61.1711, Precision: 13.9791, Recall_Neg: 96.6206, F1_Score: 0.2276\n",
      "[Year 2006] Accuracy: 94.9310, Recall: 67.2227, Precision: 20.5945, Recall_Neg: 95.4206, F1_Score: 0.3153\n"
     ]
    }
   ],
   "source": [
    "for it, dataloader in enumerate(year_wise_dataloader):\n",
    "    correct, recall, precision, recall_neg = get_metrics(dataloader)\n",
    "    f1_score = calc_f1_score(recall, precision)\n",
    "    print(\"[Year %d] Accuracy: %.4f, Recall: %.4f, Precision: %.4f, Recall_Neg: %.4f, F1_Score: %.4f\" % (2018+it, 100*correct, 100*recall, 100*precision, 100*recall_neg, f1_score))"
   ]
  },
  {
   "cell_type": "code",
   "execution_count": 40,
   "metadata": {
    "execution": {
     "iopub.execute_input": "2024-08-24T22:05:51.039634Z",
     "iopub.status.busy": "2024-08-24T22:05:51.038944Z",
     "iopub.status.idle": "2024-08-24T22:05:51.185545Z",
     "shell.execute_reply": "2024-08-24T22:05:51.184789Z",
     "shell.execute_reply.started": "2024-08-24T22:05:51.039585Z"
    },
    "tags": []
   },
   "outputs": [],
   "source": [
    "year_wise_summer_dataloader = []\n",
    "start_position = 5745\n",
    "for i in range(6):\n",
    "    count = 90\n",
    "    if (i + 2017) % 4 == 0:\n",
    "        count += 1\n",
    "    year_wise_summer_dataloader.append(DataLoader(CustomDataset(start_position, count), batch_size=2, shuffle=False, num_workers=8))\n",
    "    start_position += (count+275)\n",
    "    # _, _, file_names = next(iter(year_wise_summer_dataloader[-1]))\n",
    "    # print(file_names)"
   ]
  },
  {
   "cell_type": "code",
   "execution_count": 41,
   "metadata": {
    "execution": {
     "iopub.execute_input": "2024-08-24T22:05:51.186480Z",
     "iopub.status.busy": "2024-08-24T22:05:51.186298Z",
     "iopub.status.idle": "2024-08-24T22:09:19.576001Z",
     "shell.execute_reply": "2024-08-24T22:09:19.574695Z",
     "shell.execute_reply.started": "2024-08-24T22:05:51.186465Z"
    },
    "tags": []
   },
   "outputs": [
    {
     "name": "stdout",
     "output_type": "stream",
     "text": [
      "[Year 2016] Accuracy: 97.6529, Recall: 46.0520, Precision: 20.0742, Recall_Neg: 98.1684, F1_Score: 0.2796\n",
      "[Year 2017] Accuracy: 91.8209, Recall: 75.9850, Precision: 55.7080, Recall_Neg: 93.5196, F1_Score: 0.6429\n",
      "[Year 2018] Accuracy: 90.5561, Recall: 75.0006, Precision: 38.9315, Recall_Neg: 91.6590, F1_Score: 0.5126\n",
      "[Year 2019] Accuracy: 93.0723, Recall: 50.3256, Precision: 29.3644, Recall_Neg: 94.8801, F1_Score: 0.3709\n",
      "[Year 2020] Accuracy: 96.2634, Recall: 26.0963, Precision: 6.9523, Recall_Neg: 96.8885, F1_Score: 0.1098\n",
      "[Year 2021] Accuracy: 94.3482, Recall: 78.3171, Precision: 26.1000, Recall_Neg: 94.7292, F1_Score: 0.3915\n"
     ]
    }
   ],
   "source": [
    "for it, dataloader in enumerate(year_wise_summer_dataloader):\n",
    "    correct, recall, precision, recall_neg = get_metrics(dataloader)\n",
    "    f1_score = calc_f1_score(recall, precision)\n",
    "    print(\"[Year %d] Accuracy: %.4f, Recall: %.4f, Precision: %.4f, Recall_Neg: %.4f, F1_Score: %.4f\" % (2016+it, 100*correct, 100*recall, 100*precision, 100*recall_neg, f1_score))"
   ]
  },
  {
   "cell_type": "code",
   "execution_count": 59,
   "metadata": {
    "execution": {
     "iopub.execute_input": "2024-08-24T04:17:01.217159Z",
     "iopub.status.busy": "2024-08-24T04:17:01.216660Z",
     "iopub.status.idle": "2024-08-24T04:17:01.222503Z",
     "shell.execute_reply": "2024-08-24T04:17:01.221721Z",
     "shell.execute_reply.started": "2024-08-24T04:17:01.217111Z"
    },
    "tags": []
   },
   "outputs": [],
   "source": [
    "from sklearn.metrics import f1_score"
   ]
  },
  {
   "cell_type": "code",
   "execution_count": 60,
   "metadata": {
    "execution": {
     "iopub.execute_input": "2024-08-24T04:17:01.224345Z",
     "iopub.status.busy": "2024-08-24T04:17:01.223654Z",
     "iopub.status.idle": "2024-08-24T04:17:01.301212Z",
     "shell.execute_reply": "2024-08-24T04:17:01.300525Z",
     "shell.execute_reply.started": "2024-08-24T04:17:01.224310Z"
    },
    "tags": []
   },
   "outputs": [],
   "source": [
    "check_dataloader = DataLoader(CustomDataset(6866, 10), batch_size=1, shuffle=False, num_workers=8)"
   ]
  },
  {
   "cell_type": "code",
   "execution_count": 61,
   "metadata": {
    "execution": {
     "iopub.execute_input": "2024-08-24T04:17:01.302225Z",
     "iopub.status.busy": "2024-08-24T04:17:01.302027Z",
     "iopub.status.idle": "2024-08-24T04:17:07.908120Z",
     "shell.execute_reply": "2024-08-24T04:17:07.907283Z",
     "shell.execute_reply.started": "2024-08-24T04:17:01.302207Z"
    },
    "tags": []
   },
   "outputs": [],
   "source": [
    "all_labels = []\n",
    "all_preds = []\n",
    "all_file_name = []\n",
    "all_f1_score = []\n",
    "\n",
    "mask_sq = mask.squeeze().cpu()\n",
    "\n",
    "with torch.no_grad():\n",
    "    for inputs, labels, file_name in check_dataloader:\n",
    "        inputs, labels = inputs.to(device), labels.to(device).squeeze(0)\n",
    "\n",
    "        y_preds = model(inputs).squeeze(0)\n",
    "        preds = y_preds > 0.5\n",
    "\n",
    "        preds = preds * mask\n",
    "        \n",
    "        labels, preds = labels.squeeze().cpu(), preds.squeeze().cpu().int()\n",
    "\n",
    "        all_labels.append(labels)\n",
    "        all_preds.append(preds)\n",
    "        all_file_name.append(file_name)\n",
    "        \n",
    "        labels, preds = labels[mask_sq].numpy(), preds[mask_sq].numpy()\n",
    "        all_f1_score.append(f1_score(labels, preds))\n",
    "\n",
    "        torch.cuda.empty_cache()\n",
    "\n",
    "all_f1_score = np.array(all_f1_score)"
   ]
  },
  {
   "cell_type": "code",
   "execution_count": 62,
   "metadata": {
    "execution": {
     "iopub.execute_input": "2024-08-24T04:17:07.909607Z",
     "iopub.status.busy": "2024-08-24T04:17:07.909199Z",
     "iopub.status.idle": "2024-08-24T04:17:07.944859Z",
     "shell.execute_reply": "2024-08-24T04:17:07.943994Z",
     "shell.execute_reply.started": "2024-08-24T04:17:07.909578Z"
    },
    "tags": []
   },
   "outputs": [
    {
     "name": "stdout",
     "output_type": "stream",
     "text": [
      "8 0.43091334894613587\n"
     ]
    }
   ],
   "source": [
    "max_index = np.argmax(all_f1_score)\n",
    "print(max_index, all_f1_score[max_index])"
   ]
  },
  {
   "cell_type": "code",
   "execution_count": 63,
   "metadata": {
    "execution": {
     "iopub.execute_input": "2024-08-24T04:17:07.946448Z",
     "iopub.status.busy": "2024-08-24T04:17:07.945994Z",
     "iopub.status.idle": "2024-08-24T04:17:07.954057Z",
     "shell.execute_reply": "2024-08-24T04:17:07.953139Z",
     "shell.execute_reply.started": "2024-08-24T04:17:07.946416Z"
    },
    "tags": []
   },
   "outputs": [
    {
     "data": {
      "text/plain": [
       "array([0.43091335, 0.42483046, 0.41653715, 0.40996086, 0.39624633,\n",
       "       0.39307203, 0.36582   , 0.34617874, 0.33828747, 0.3345129 ])"
      ]
     },
     "execution_count": 63,
     "metadata": {},
     "output_type": "execute_result"
    }
   ],
   "source": [
    "np.sort(all_f1_score)[::-1][:10]"
   ]
  },
  {
   "cell_type": "code",
   "execution_count": 64,
   "metadata": {
    "execution": {
     "iopub.execute_input": "2024-08-24T04:17:07.955726Z",
     "iopub.status.busy": "2024-08-24T04:17:07.955257Z",
     "iopub.status.idle": "2024-08-24T04:17:07.961007Z",
     "shell.execute_reply": "2024-08-24T04:17:07.959995Z",
     "shell.execute_reply.started": "2024-08-24T04:17:07.955693Z"
    },
    "tags": []
   },
   "outputs": [
    {
     "name": "stdout",
     "output_type": "stream",
     "text": [
      "('20200104.pt',)\n"
     ]
    }
   ],
   "source": [
    "i = max_index\n",
    "print(all_file_name[i])"
   ]
  },
  {
   "cell_type": "code",
   "execution_count": 65,
   "metadata": {
    "execution": {
     "iopub.execute_input": "2024-08-24T04:17:07.962910Z",
     "iopub.status.busy": "2024-08-24T04:17:07.962369Z",
     "iopub.status.idle": "2024-08-24T04:17:08.166721Z",
     "shell.execute_reply": "2024-08-24T04:17:08.166062Z",
     "shell.execute_reply.started": "2024-08-24T04:17:07.962871Z"
    },
    "tags": []
   },
   "outputs": [
    {
     "name": "stdout",
     "output_type": "stream",
     "text": [
      "(tensor([0., 1.]), tensor([264822,  10310]))\n",
      "(tensor([0, 1], dtype=torch.int32), tensor([261103,  14029]))\n"
     ]
    }
   ],
   "source": [
    "print(torch.unique(all_labels[i], return_counts=True))\n",
    "print(torch.unique(all_preds[i], return_counts=True))"
   ]
  },
  {
   "cell_type": "code",
   "execution_count": 66,
   "metadata": {
    "execution": {
     "iopub.execute_input": "2024-08-24T04:17:08.167414Z",
     "iopub.status.busy": "2024-08-24T04:17:08.167262Z",
     "iopub.status.idle": "2024-08-24T04:17:08.527866Z",
     "shell.execute_reply": "2024-08-24T04:17:08.527271Z",
     "shell.execute_reply.started": "2024-08-24T04:17:08.167401Z"
    },
    "tags": []
   },
   "outputs": [
    {
     "data": {
      "text/plain": [
       "<matplotlib.image.AxesImage at 0x14909946f370>"
      ]
     },
     "execution_count": 66,
     "metadata": {},
     "output_type": "execute_result"
    },
    {
     "data": {
      "image/png": "[encoded data removed]",
      "text/plain": [
       "<Figure size 640x480 with 2 Axes>"
      ]
     },
     "metadata": {},
     "output_type": "display_data"
    }
   ],
   "source": [
    "_, axes = plt.subplots(nrows=1, ncols=2)\n",
    "axes[0].imshow(all_labels[i])\n",
    "axes[1].imshow(all_preds[i])"
   ]
  },
  {
   "cell_type": "code",
   "execution_count": 61,
   "metadata": {
    "execution": {
     "iopub.execute_input": "2024-08-19T05:00:41.883808Z",
     "iopub.status.busy": "2024-08-19T05:00:41.883071Z",
     "iopub.status.idle": "2024-08-19T05:00:41.888671Z",
     "shell.execute_reply": "2024-08-19T05:00:41.887677Z",
     "shell.execute_reply.started": "2024-08-19T05:00:41.883766Z"
    },
    "tags": []
   },
   "outputs": [],
   "source": [
    "from PIL import Image"
   ]
  },
  {
   "cell_type": "code",
   "execution_count": 62,
   "metadata": {
    "execution": {
     "iopub.execute_input": "2024-08-19T05:00:42.223472Z",
     "iopub.status.busy": "2024-08-19T05:00:42.222746Z",
     "iopub.status.idle": "2024-08-19T05:00:42.250283Z",
     "shell.execute_reply": "2024-08-19T05:00:42.249514Z",
     "shell.execute_reply.started": "2024-08-19T05:00:42.223432Z"
    },
    "tags": []
   },
   "outputs": [],
   "source": [
    "check_dataloader = DataLoader(CustomDataset(5410, 7967-5410), batch_size=4, shuffle=False)"
   ]
  },
  {
   "cell_type": "code",
   "execution_count": 63,
   "metadata": {
    "execution": {
     "iopub.execute_input": "2024-08-19T05:00:42.940170Z",
     "iopub.status.busy": "2024-08-19T05:00:42.939912Z",
     "iopub.status.idle": "2024-08-19T06:05:40.809949Z",
     "shell.execute_reply": "2024-08-19T06:05:40.809097Z",
     "shell.execute_reply.started": "2024-08-19T05:00:42.940147Z"
    },
    "tags": []
   },
   "outputs": [
    {
     "name": "stderr",
     "output_type": "stream",
     "text": [
      "100%|██████████| 640/640 [1:04:57<00:00,  6.09s/it]\n"
     ]
    }
   ],
   "source": [
    "with torch.no_grad():\n",
    "    for inputs, _, file_names in tqdm(check_dataloader):\n",
    "        inputs = inputs.to(device)\n",
    "\n",
    "        y_preds = model(inputs).squeeze()\n",
    "        y_preds = y_preds * mask\n",
    "        preds = y_preds > 0.5\n",
    "\n",
    "        for i, file_name in enumerate(file_names):\n",
    "            np_array = preds[i].cpu().numpy()\n",
    "            image = Image.fromarray((np_array * 255).astype(np.uint8))\n",
    "            image.save(curr_folder + \"prediction/\" + file_name + \".tiff\", format='TIFF')"
   ]
  },
  {
   "cell_type": "code",
   "execution_count": null,
   "metadata": {},
   "outputs": [],
   "source": []
  }
 ],
 "metadata": {
  "kernelspec": {
   "display_name": "Python 3 (ipykernel)",
   "language": "python",
   "name": "python3"
  },
  "language_info": {
   "codemirror_mode": {
    "name": "ipython",
    "version": 3
   },
   "file_extension": ".py",
   "mimetype": "text/x-python",
   "name": "python",
   "nbconvert_exporter": "python",
   "pygments_lexer": "ipython3",
   "version": "3.9.16"
  }
 },
 "nbformat": 4,
 "nbformat_minor": 4
}
